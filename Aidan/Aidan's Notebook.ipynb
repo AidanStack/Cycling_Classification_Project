{
 "cells": [
  {
   "cell_type": "markdown",
   "metadata": {},
   "source": [
    "# Phase 3 Classification Project - NYC Cycling Fatalities "
   ]
  },
  {
   "cell_type": "markdown",
   "metadata": {},
   "source": [
    "## Business Problem and Overview\n",
    "\n",
    "   Our proposed client is the City of New York itself. The city government has come under fire from constituents and cyclist advocacy groups for the dangerous conditions cyclists endure. The city's transportation leadership want to know what conditions lead to deadly traffic collisions for New York's cyclists. The classification model in this instance is not the end product, as once the city has a record of the accident, they already know if a cyclist has died or not. The final product of this analysis will be the emergent patters revealed by what parameters make for a classification model capable of predicting fatal cycling accidents.\n",
    "   \n",
    "   Fittingly, the City of New York is also the source of our data. Our dataset comes in the form of 1.8 million rows detailing motor vehicle collisions that have occured in NYC. The city publishes this data via the NYC Open Data project, an initiative undertaken by the city to make publicly aggregated data accessible to citizens. The data spans nearly a decade, covering dates from July 2012, and is updated almost daily. \n",
    "   \n",
    "   Our dataset is highly imbalanced (99.5% - .5%) which means that using accuracy score as a default would be a mistake, as even a dummy model that simply guessed the majority class every time would have an accuracy of 99.5%. For our purposes, a metric such as recall would work much better, as judging our model on its ability to find the true positives (lethal collisions). "
   ]
  },
  {
   "cell_type": "markdown",
   "metadata": {},
   "source": [
    "## 1. Data Understanding"
   ]
  },
  {
   "cell_type": "markdown",
   "metadata": {},
   "source": [
    "### 1.1 Import the Relevant Libraries, Modules, and Functions"
   ]
  },
  {
   "cell_type": "code",
   "execution_count": 2,
   "metadata": {},
   "outputs": [],
   "source": [
    "import numpy as np\n",
    "import pandas as pd\n",
    "\n",
    "from sklearn.model_selection import train_test_split, cross_val_score, GridSearchCV, cross_validate\n",
    "from sklearn.metrics import plot_confusion_matrix, classification_report, roc_auc_score\n",
    "from sklearn.metrics import precision_score, recall_score, accuracy_score, f1_score\n",
    "from sklearn.preprocessing import OneHotEncoder, LabelEncoder, OrdinalEncoder, StandardScaler, MinMaxScaler\n",
    "from sklearn.impute import SimpleImputer\n",
    "from sklearn.compose import ColumnTransformer\n",
    "from sklearn.pipeline import Pipeline\n",
    "from sklearn.dummy import DummyClassifier\n",
    "from sklearn.linear_model import LogisticRegression\n",
    "from sklearn.neighbors import KNeighborsClassifier\n",
    "from sklearn.naive_bayes import GaussianNB\n",
    "from sklearn.tree import DecisionTreeClassifier\n",
    "from sklearn.ensemble import RandomForestClassifier, GradientBoostingClassifier\n",
    "from category_encoders.count import CountEncoder\n",
    "\n",
    "from imblearn.over_sampling import SMOTE\n",
    "\n",
    "# This pandas option makes sure the juptyer notebook displays all the columns \n",
    "pd.set_option('display.max_columns', None)\n",
    "pd.set_option('display.max_rows', None)\n",
    "\n",
    "seed = 6"
   ]
  },
  {
   "cell_type": "markdown",
   "metadata": {},
   "source": [
    "### 1.2 CSV Into Pandas Dataframe"
   ]
  },
  {
   "cell_type": "code",
   "execution_count": 3,
   "metadata": {
    "scrolled": false
   },
   "outputs": [],
   "source": [
    "# Here we read our csv into a pandas dataframe. This can take a while. \n",
    "df = pd.read_csv('../data/Motor_Vehicle_Collisions.csv', low_memory=False)"
   ]
  },
  {
   "cell_type": "code",
   "execution_count": 4,
   "metadata": {
    "scrolled": false
   },
   "outputs": [
    {
     "name": "stdout",
     "output_type": "stream",
     "text": [
      "<class 'pandas.core.frame.DataFrame'>\n",
      "RangeIndex: 1830092 entries, 0 to 1830091\n",
      "Data columns (total 29 columns):\n",
      " #   Column                         Dtype  \n",
      "---  ------                         -----  \n",
      " 0   CRASH DATE                     object \n",
      " 1   CRASH TIME                     object \n",
      " 2   BOROUGH                        object \n",
      " 3   ZIP CODE                       object \n",
      " 4   LATITUDE                       float64\n",
      " 5   LONGITUDE                      float64\n",
      " 6   LOCATION                       object \n",
      " 7   ON STREET NAME                 object \n",
      " 8   CROSS STREET NAME              object \n",
      " 9   OFF STREET NAME                object \n",
      " 10  NUMBER OF PERSONS INJURED      float64\n",
      " 11  NUMBER OF PERSONS KILLED       float64\n",
      " 12  NUMBER OF PEDESTRIANS INJURED  int64  \n",
      " 13  NUMBER OF PEDESTRIANS KILLED   int64  \n",
      " 14  NUMBER OF CYCLIST INJURED      int64  \n",
      " 15  NUMBER OF CYCLIST KILLED       int64  \n",
      " 16  NUMBER OF MOTORIST INJURED     int64  \n",
      " 17  NUMBER OF MOTORIST KILLED      int64  \n",
      " 18  CONTRIBUTING FACTOR VEHICLE 1  object \n",
      " 19  CONTRIBUTING FACTOR VEHICLE 2  object \n",
      " 20  CONTRIBUTING FACTOR VEHICLE 3  object \n",
      " 21  CONTRIBUTING FACTOR VEHICLE 4  object \n",
      " 22  CONTRIBUTING FACTOR VEHICLE 5  object \n",
      " 23  COLLISION_ID                   int64  \n",
      " 24  VEHICLE TYPE CODE 1            object \n",
      " 25  VEHICLE TYPE CODE 2            object \n",
      " 26  VEHICLE TYPE CODE 3            object \n",
      " 27  VEHICLE TYPE CODE 4            object \n",
      " 28  VEHICLE TYPE CODE 5            object \n",
      "dtypes: float64(4), int64(7), object(18)\n",
      "memory usage: 404.9+ MB\n"
     ]
    }
   ],
   "source": [
    "# df.describe()\n",
    "df.info()"
   ]
  },
  {
   "cell_type": "markdown",
   "metadata": {},
   "source": [
    "### 1.3 Seperating by Cyclist Fatalities, Cyclist Injuries and Finding Distributions"
   ]
  },
  {
   "cell_type": "code",
   "execution_count": 5,
   "metadata": {},
   "outputs": [
    {
     "data": {
      "text/plain": [
       "43280"
      ]
     },
     "execution_count": 5,
     "metadata": {},
     "output_type": "execute_result"
    }
   ],
   "source": [
    "# Lets start by finding how many collisions involved a cyclist, fatally or otherwise. \n",
    "cyclist_collisions = df.loc[ (df['NUMBER OF CYCLIST INJURED'] > 0) | (df['NUMBER OF CYCLIST KILLED'] > 0)]\n",
    "len(cyclist_collisions)"
   ]
  },
  {
   "cell_type": "code",
   "execution_count": 5,
   "metadata": {},
   "outputs": [
    {
     "data": {
      "text/plain": [
       "43101"
      ]
     },
     "execution_count": 5,
     "metadata": {},
     "output_type": "execute_result"
    }
   ],
   "source": [
    "# This df is comprised of collisions where one or more cyclist were injured, but none died. \n",
    "non_lethal_collisions = df.loc[(df['NUMBER OF CYCLIST INJURED'] > 0) & (df['NUMBER OF CYCLIST KILLED'] == 0)]\n",
    "len(non_lethal_collisions)"
   ]
  },
  {
   "cell_type": "code",
   "execution_count": 6,
   "metadata": {},
   "outputs": [
    {
     "data": {
      "text/plain": [
       "179"
      ]
     },
     "execution_count": 6,
     "metadata": {},
     "output_type": "execute_result"
    }
   ],
   "source": [
    "# Next lets find how many rows record a cyclist dying. \n",
    "lethal_collisions = df.loc[df['NUMBER OF CYCLIST KILLED'] > 0]\n",
    "len(lethal_collisions)"
   ]
  },
  {
   "cell_type": "code",
   "execution_count": 7,
   "metadata": {},
   "outputs": [
    {
     "data": {
      "text/plain": [
       "7"
      ]
     },
     "execution_count": 7,
     "metadata": {},
     "output_type": "execute_result"
    }
   ],
   "source": [
    "# Here we are determining how many collisions resulted in both cyclist injuries, and cyclist fatalities. \n",
    "combination_collisions = df.loc[ (df['NUMBER OF CYCLIST INJURED'] > 0) & (df['NUMBER OF CYCLIST KILLED'] > 0) ]\n",
    "len(combination_collisions)"
   ]
  },
  {
   "cell_type": "code",
   "execution_count": 8,
   "metadata": {
    "scrolled": false
   },
   "outputs": [
    {
     "name": "stdout",
     "output_type": "stream",
     "text": [
      "1\n"
     ]
    },
    {
     "data": {
      "text/html": [
       "<div>\n",
       "<style scoped>\n",
       "    .dataframe tbody tr th:only-of-type {\n",
       "        vertical-align: middle;\n",
       "    }\n",
       "\n",
       "    .dataframe tbody tr th {\n",
       "        vertical-align: top;\n",
       "    }\n",
       "\n",
       "    .dataframe thead th {\n",
       "        text-align: right;\n",
       "    }\n",
       "</style>\n",
       "<table border=\"1\" class=\"dataframe\">\n",
       "  <thead>\n",
       "    <tr style=\"text-align: right;\">\n",
       "      <th></th>\n",
       "      <th>CRASH DATE</th>\n",
       "      <th>CRASH TIME</th>\n",
       "      <th>BOROUGH</th>\n",
       "      <th>ZIP CODE</th>\n",
       "      <th>LATITUDE</th>\n",
       "      <th>LONGITUDE</th>\n",
       "      <th>LOCATION</th>\n",
       "      <th>ON STREET NAME</th>\n",
       "      <th>CROSS STREET NAME</th>\n",
       "      <th>OFF STREET NAME</th>\n",
       "      <th>NUMBER OF PERSONS INJURED</th>\n",
       "      <th>NUMBER OF PERSONS KILLED</th>\n",
       "      <th>NUMBER OF PEDESTRIANS INJURED</th>\n",
       "      <th>NUMBER OF PEDESTRIANS KILLED</th>\n",
       "      <th>NUMBER OF CYCLIST INJURED</th>\n",
       "      <th>NUMBER OF CYCLIST KILLED</th>\n",
       "      <th>NUMBER OF MOTORIST INJURED</th>\n",
       "      <th>NUMBER OF MOTORIST KILLED</th>\n",
       "      <th>CONTRIBUTING FACTOR VEHICLE 1</th>\n",
       "      <th>CONTRIBUTING FACTOR VEHICLE 2</th>\n",
       "      <th>CONTRIBUTING FACTOR VEHICLE 3</th>\n",
       "      <th>CONTRIBUTING FACTOR VEHICLE 4</th>\n",
       "      <th>CONTRIBUTING FACTOR VEHICLE 5</th>\n",
       "      <th>COLLISION_ID</th>\n",
       "      <th>VEHICLE TYPE CODE 1</th>\n",
       "      <th>VEHICLE TYPE CODE 2</th>\n",
       "      <th>VEHICLE TYPE CODE 3</th>\n",
       "      <th>VEHICLE TYPE CODE 4</th>\n",
       "      <th>VEHICLE TYPE CODE 5</th>\n",
       "    </tr>\n",
       "  </thead>\n",
       "  <tbody>\n",
       "    <tr>\n",
       "      <th>687327</th>\n",
       "      <td>10/31/2017</td>\n",
       "      <td>15:08</td>\n",
       "      <td>MANHATTAN</td>\n",
       "      <td>10014</td>\n",
       "      <td>40.729046</td>\n",
       "      <td>-74.01073</td>\n",
       "      <td>(40.729046, -74.01073)</td>\n",
       "      <td>WEST STREET</td>\n",
       "      <td>WEST HOUSTON STREET</td>\n",
       "      <td>NaN</td>\n",
       "      <td>12.0</td>\n",
       "      <td>8.0</td>\n",
       "      <td>7</td>\n",
       "      <td>6</td>\n",
       "      <td>1</td>\n",
       "      <td>2</td>\n",
       "      <td>4</td>\n",
       "      <td>0</td>\n",
       "      <td>Other Vehicular</td>\n",
       "      <td>Unspecified</td>\n",
       "      <td>Unspecified</td>\n",
       "      <td>Unspecified</td>\n",
       "      <td>Unspecified</td>\n",
       "      <td>3782508</td>\n",
       "      <td>Flat Bed</td>\n",
       "      <td>Bus</td>\n",
       "      <td>Bike</td>\n",
       "      <td>Bike</td>\n",
       "      <td>Bike</td>\n",
       "    </tr>\n",
       "  </tbody>\n",
       "</table>\n",
       "</div>"
      ],
      "text/plain": [
       "        CRASH DATE CRASH TIME    BOROUGH ZIP CODE   LATITUDE  LONGITUDE  \\\n",
       "687327  10/31/2017      15:08  MANHATTAN    10014  40.729046  -74.01073   \n",
       "\n",
       "                      LOCATION                    ON STREET NAME  \\\n",
       "687327  (40.729046, -74.01073)  WEST STREET                        \n",
       "\n",
       "          CROSS STREET NAME OFF STREET NAME  NUMBER OF PERSONS INJURED  \\\n",
       "687327  WEST HOUSTON STREET             NaN                       12.0   \n",
       "\n",
       "        NUMBER OF PERSONS KILLED  NUMBER OF PEDESTRIANS INJURED  \\\n",
       "687327                       8.0                              7   \n",
       "\n",
       "        NUMBER OF PEDESTRIANS KILLED  NUMBER OF CYCLIST INJURED  \\\n",
       "687327                             6                          1   \n",
       "\n",
       "        NUMBER OF CYCLIST KILLED  NUMBER OF MOTORIST INJURED  \\\n",
       "687327                         2                           4   \n",
       "\n",
       "        NUMBER OF MOTORIST KILLED CONTRIBUTING FACTOR VEHICLE 1  \\\n",
       "687327                          0               Other Vehicular   \n",
       "\n",
       "       CONTRIBUTING FACTOR VEHICLE 2 CONTRIBUTING FACTOR VEHICLE 3  \\\n",
       "687327                   Unspecified                   Unspecified   \n",
       "\n",
       "       CONTRIBUTING FACTOR VEHICLE 4 CONTRIBUTING FACTOR VEHICLE 5  \\\n",
       "687327                   Unspecified                   Unspecified   \n",
       "\n",
       "        COLLISION_ID VEHICLE TYPE CODE 1 VEHICLE TYPE CODE 2  \\\n",
       "687327       3782508            Flat Bed                 Bus   \n",
       "\n",
       "       VEHICLE TYPE CODE 3 VEHICLE TYPE CODE 4 VEHICLE TYPE CODE 5  \n",
       "687327                Bike                Bike                Bike  "
      ]
     },
     "execution_count": 8,
     "metadata": {},
     "output_type": "execute_result"
    }
   ],
   "source": [
    "# Only one row details an event where more than one cyclist died.\n",
    "print(len(df.loc[df['NUMBER OF CYCLIST KILLED'] > 1]))\n",
    "\n",
    "# This row describes the tragic terrorist attack that occured on Halloween 2017.\n",
    "df.loc[df['NUMBER OF CYCLIST KILLED'] == 2]"
   ]
  },
  {
   "cell_type": "markdown",
   "metadata": {},
   "source": [
    "### 1.4 Counts Analysis \n",
    "    \n",
    "   So out of nearly 2 million recorded traffic collisions, 43,280 involved a cyclist either getting injured, or killed. \n",
    "   \n",
    "   Of those 43,280 collisions involving a cyclist, 43,101 detail a cyclist getting injured, but no cyclists dying. This means that in 99.5% of traffic collisions where a cyclist is either injured or killed, the cyclist does not die of their injuries. This is a HIGHLY imbalanced dataset, and our classifiers will need to be extremely robust to detect the minority class. \n",
    "   \n",
    "   We found 179 rows detailing an incident that resulted in the death of a cyclist. Only 7 rows fell into the category of 'combination collisions' where there were both cyclist injuries, as well as cyclist deaths. These combination rows will be considered lethal collisions in our classification, as they have obvious crossed the threshold for what defines a deadly collision (more than 0 cyclist deaths). \n",
    "   \n",
    "   Only one row in our entire dataset represents an event where more than one cyclist died. This row details the terrorist attack that occured on Halloween of 2017, where an attacker drove a pickup truck down the westside bike path, injuring 12, and killing 8. This tragic event is certainly an outlier in our dataset, and will not be included in our model building process, as anti-terrorist measures on seperated, dedicated bike paths is outside the scope of this project's analysis. In addition, measures to prevent this kind of event from happening again on the west side bike path have already been taken. "
   ]
  },
  {
   "cell_type": "code",
   "execution_count": 9,
   "metadata": {
    "scrolled": false
   },
   "outputs": [
    {
     "data": {
      "text/plain": [
       "43279"
      ]
     },
     "execution_count": 9,
     "metadata": {},
     "output_type": "execute_result"
    }
   ],
   "source": [
    "# Isolating just the collisions involving cyclists\n",
    "cyc_col = df.loc[ (df['NUMBER OF CYCLIST INJURED'] > 0) | (df['NUMBER OF CYCLIST KILLED'] > 0)]\n",
    "\n",
    "# Dropping the 2017 terror attack from our dataframe\n",
    "all_cycling_collisions = cyc_col.loc[cyc_col['NUMBER OF CYCLIST KILLED'] < 2]\n",
    "\n",
    "# Making sure we don't have any collisions recorded twice, by dropping any duplicates in the ID column \n",
    "all_cycling_collisions.drop_duplicates(['COLLISION_ID'])\n",
    "\n",
    "# Checking the length \n",
    "len(all_cycling_collisions) "
   ]
  },
  {
   "cell_type": "markdown",
   "metadata": {},
   "source": [
    "### 1.6 Column Data and NaN Value Counts\n",
    "\n",
    "   The first problem with much of the information in this dataset, is that it is stored in messy, irregular strings. For example under vehicle type, we see 'taxi' and 'Taxi' as seperate categories. In the date column, the dates are stored as strings, which will have to be converted, or at the very least one hot encoded into buckets if we want date to be a useful feature. \n",
    "   \n",
    "   The other challenge standing in the way of this analysis is going to be dealing with all the NaN values in columns that we need for our models. With this is mind, there are two reasons why we chose to not simply drop rows with NaN values in important input columns. \n",
    "\n",
    "   One is that because our dataset is so incredibly imbalanced, NaN values in important columns, in rows belonging to our minority class, will significantly impede our attempt to generate a generalizable model that can identify the minority class in new unseen data. The other reason we must find a way to deal with the rows containing NaNs is that since the number of lethal collisions is so proportionally small, if we just dropped rows with NaNs in the relevant columns, we would be thinning out our already tiny minority class. \n",
    "   \n",
    "   This means that our process is going to involve a lot of preprocessing, filling in the missing pieces. The first step in that process is to see what the damage is, and look at the NaN value counts for our columns."
   ]
  },
  {
   "cell_type": "markdown",
   "metadata": {},
   "source": [
    "### 1.6.1 Time and Location Data Columns\n"
   ]
  },
  {
   "cell_type": "code",
   "execution_count": 11,
   "metadata": {
    "scrolled": true
   },
   "outputs": [
    {
     "name": "stdout",
     "output_type": "stream",
     "text": [
      "The CRASH DATE column is 0.0% NaNs\n",
      "The CRASH TIME column is 0.0% NaNs\n",
      "The BOROUGH column is 21.75651008572287% NaNs\n",
      "The ZIP CODE column is 21.75882067515423% NaNs\n",
      "The LATITUDE column is 7.48168857875644% NaNs\n",
      "The LONGITUDE column is 7.48168857875644% NaNs\n",
      "The LOCATION column is 7.48168857875644% NaNs\n",
      "The ON STREET NAME column is 14.358002726495528% NaNs\n",
      "The CROSS STREET NAME column is 27.325030615309963% NaNs\n",
      "The OFF STREET NAME column is 85.80142794426858% NaNs\n"
     ]
    }
   ],
   "source": [
    "# Displaying the time and location columns \n",
    "for i in all_cycling_collisions.columns[:10]:\n",
    "    print(f'The {i} column is {all_cycling_collisions[i].isna().sum() / len(all_cycling_collisions) * 100}% NaNs') "
   ]
  },
  {
   "cell_type": "markdown",
   "metadata": {},
   "source": [
    "### 1.6.2 Contributing Factor Columns\n",
    "\n",
    "These columns contain data regarding the cause of the accident, which could be critical for our model. We see that after the second column there is a drastic increase in NaN values. "
   ]
  },
  {
   "cell_type": "code",
   "execution_count": 12,
   "metadata": {
    "scrolled": false
   },
   "outputs": [
    {
     "name": "stdout",
     "output_type": "stream",
     "text": [
      "The CONTRIBUTING FACTOR VEHICLE 1 column is 0.04159060976455094% NaNs\n",
      "The CONTRIBUTING FACTOR VEHICLE 2 column is 7.125857806326394% NaNs\n",
      "The CONTRIBUTING FACTOR VEHICLE 3 column is 97.70789528408696% NaNs\n",
      "The CONTRIBUTING FACTOR VEHICLE 4 column is 99.75276693084406% NaNs\n",
      "The CONTRIBUTING FACTOR VEHICLE 5 column is 99.91912936990227% NaNs\n"
     ]
    }
   ],
   "source": [
    "# Lets examine the contributing factor columns \n",
    "for i in all_cycling_collisions.columns[18:23]:\n",
    "    print(f'The {i} column is {all_cycling_collisions[i].isna().sum() / len(all_cycling_collisions) * 100}% NaNs') "
   ]
  },
  {
   "cell_type": "markdown",
   "metadata": {},
   "source": [
    "### 1.6.3 Vehicle Type Code Columns\n",
    "\n",
    "   These 5 columns contain data about the vehicles that were involved in the collision, including the Bike/E-Bike. Vehicle type could be a super important feature for our models, so we will have to deal with the messy string values, as well as NaN values. "
   ]
  },
  {
   "cell_type": "code",
   "execution_count": 13,
   "metadata": {
    "scrolled": false
   },
   "outputs": [
    {
     "name": "stdout",
     "output_type": "stream",
     "text": [
      "The VEHICLE TYPE CODE 1 column is 0.046211788627278816% NaNs\n",
      "The VEHICLE TYPE CODE 2 column is 9.08754823355438% NaNs\n",
      "The VEHICLE TYPE CODE 3 column is 97.73331176783198% NaNs\n",
      "The VEHICLE TYPE CODE 4 column is 99.75507752027542% NaNs\n",
      "The VEHICLE TYPE CODE 5 column is 99.91450819103953% NaNs\n"
     ]
    }
   ],
   "source": [
    "# Displaying the vehicle type code columns\n",
    "for i in all_cycling_collisions.columns[24:29]:\n",
    "    print(f'The {i} column is {all_cycling_collisions[i].isna().sum() / len(all_cycling_collisions) * 100}% NaNs') "
   ]
  },
  {
   "cell_type": "markdown",
   "metadata": {},
   "source": [
    "We can see a sharp decline in the number of rows with vehicle codes going from the second to the third column. The string values, and the NaN values will be dealt with in the data preparation step."
   ]
  },
  {
   "cell_type": "markdown",
   "metadata": {},
   "source": [
    "## 2. Data Cleaning\n",
    "\n",
    "### 2.1 Drop Unnecessary Columns\n",
    "\n",
    "The first step of preprocessing is to drop the columns that are not useful for this analysis."
   ]
  },
  {
   "cell_type": "code",
   "execution_count": 14,
   "metadata": {},
   "outputs": [
    {
     "data": {
      "text/plain": [
       "(43279, 22)"
      ]
     },
     "execution_count": 14,
     "metadata": {},
     "output_type": "execute_result"
    }
   ],
   "source": [
    "# Dropping unwanted columns using this list\n",
    "all_cycling_collisions = all_cycling_collisions.drop([ 'NUMBER OF PERSONS INJURED',\n",
    "                                                       'NUMBER OF PERSONS KILLED', \n",
    "                                                       'NUMBER OF PEDESTRIANS INJURED',\n",
    "                                                       'NUMBER OF PEDESTRIANS KILLED',  \n",
    "                                                       'NUMBER OF MOTORIST INJURED',\n",
    "                                                       'NUMBER OF MOTORIST KILLED',\n",
    "                                                       'COLLISION_ID' ] , axis=1)\n",
    "\n",
    "# Making sure it worked\n",
    "all_cycling_collisions.shape"
   ]
  },
  {
   "cell_type": "markdown",
   "metadata": {},
   "source": [
    "### 2.2 Making the 'Lethal' Column "
   ]
  },
  {
   "cell_type": "markdown",
   "metadata": {},
   "source": [
    "Before we can seperate our training data and our holdout data, we need to make a target y column, as our two datasets currently store this information in two seperate columns. After we have created this new column, we can drop the original two. "
   ]
  },
  {
   "cell_type": "code",
   "execution_count": 15,
   "metadata": {
    "scrolled": false
   },
   "outputs": [
    {
     "data": {
      "text/plain": [
       "0    43101\n",
       "1      178\n",
       "Name: Lethal, dtype: int64"
      ]
     },
     "execution_count": 15,
     "metadata": {},
     "output_type": "execute_result"
    }
   ],
   "source": [
    "# Creating the lethality column and filling it with zeros\n",
    "all_cycling_collisions['Lethal'] = 0\n",
    "\n",
    "# Going through the data frame and marking lethal collisions\n",
    "all_cycling_collisions.loc[ all_cycling_collisions['NUMBER OF CYCLIST KILLED'] > 0,['Lethal']] = 1\n",
    "\n",
    "# Dropping the old columns\n",
    "all_cycling_collisions = all_cycling_collisions.drop(['NUMBER OF CYCLIST KILLED', 'NUMBER OF CYCLIST INJURED'], axis=1)\n",
    "\n",
    "# The all-important sanity check\n",
    "all_cycling_collisions['Lethal'].value_counts()"
   ]
  },
  {
   "cell_type": "markdown",
   "metadata": {},
   "source": [
    "### 2.3 Collision Year \n",
    "\n",
    "One of the features we want to include in our modelling process is what year the collision took place in, to do this we are going to create a new column for year, and make sure it is in a format that can be handled by SciKit-learn's OneHotEncoder( ). "
   ]
  },
  {
   "cell_type": "code",
   "execution_count": 16,
   "metadata": {
    "scrolled": true
   },
   "outputs": [
    {
     "data": {
      "text/plain": [
       "2020    5481\n",
       "2019    4964\n",
       "2016    4945\n",
       "2017    4864\n",
       "2018    4694\n",
       "2015    4266\n",
       "2013    4062\n",
       "2014    3999\n",
       "2021    3802\n",
       "2012    2202\n",
       "Name: Year, dtype: int64"
      ]
     },
     "execution_count": 16,
     "metadata": {},
     "output_type": "execute_result"
    }
   ],
   "source": [
    "# Creating our year column, so we can One-Hot Encode it in a pipeline later on. \n",
    "all_cycling_collisions['Year'] = [int(date[-4:]) for date in all_cycling_collisions['CRASH DATE']]\n",
    "\n",
    "# Checking our work \n",
    "all_cycling_collisions['Year'].value_counts()"
   ]
  },
  {
   "cell_type": "markdown",
   "metadata": {},
   "source": [
    "### 2.4 Collision Month\n",
    "\n",
    "We are creating this column for two reasons. The first is that this information could be a very good predictor of cycling lethality, for example if icy roads contribute to cyclist deaths in the winter months. The other reason is that our models are going to need every feature we can give them if they are going to be able to identify the minority class in spite of the extreme class imbalance. Also fortunate is the fact that every single record in our dataset has an entry for 'CRASH DATE', so we dont have to deal with any NaN values. "
   ]
  },
  {
   "cell_type": "code",
   "execution_count": 17,
   "metadata": {
    "scrolled": true
   },
   "outputs": [
    {
     "data": {
      "text/plain": [
       "8     5768\n",
       "7     5539\n",
       "9     5420\n",
       "6     4819\n",
       "10    4277\n",
       "5     3998\n",
       "11    3068\n",
       "4     2817\n",
       "3     2193\n",
       "12    2146\n",
       "1     1725\n",
       "2     1509\n",
       "Name: Month, dtype: int64"
      ]
     },
     "execution_count": 17,
     "metadata": {},
     "output_type": "execute_result"
    }
   ],
   "source": [
    "# Creating our 'Month' Column \n",
    "all_cycling_collisions['Month'] = [int(date[:2]) for date in all_cycling_collisions['CRASH DATE']]\n",
    "\n",
    "# Checking the values \n",
    "all_cycling_collisions['Month'].value_counts()"
   ]
  },
  {
   "cell_type": "markdown",
   "metadata": {},
   "source": [
    "### 2.5 Holiday Column\n",
    "\n",
    "To take further advantage of the lack of NaN values, we are going to engineer a Holiday Column, that tracks whether or not a collision took place on or very near to a major holiday. Unfortunately, a holiday means a predictable spike in drunk driving, and also just an increase in travel in general. This column will track collisions that took place on the most hazardous holiday travel days. "
   ]
  },
  {
   "cell_type": "code",
   "execution_count": 18,
   "metadata": {
    "scrolled": false
   },
   "outputs": [
    {
     "data": {
      "text/plain": [
       "0    41163\n",
       "1     2116\n",
       "Name: Holiday Collision, dtype: int64"
      ]
     },
     "execution_count": 18,
     "metadata": {},
     "output_type": "execute_result"
    }
   ],
   "source": [
    "# Chopping the year off of the date strings for easier syntax later\n",
    "all_cycling_collisions['CRASH DATE'] = [date[:5] for date in all_cycling_collisions['CRASH DATE']]\n",
    "\n",
    "# Making a list of the relevant dates\n",
    "holiday_travel_dates = ['12/31', '01/01',\n",
    "                        '05/27', '05/28', '05/29', '05/30',\n",
    "                        '06/03', '06/04' , '06/05',\n",
    "                        '09/05', '09/06', '09/07', \n",
    "                        '11/24', '11/25', '11/26',\n",
    "                        '12/24', '12/25', '12/26',\n",
    "                        '10/31', '11/1']\n",
    "\n",
    "# Creating the column and filling it with zeros to begin with\n",
    "all_cycling_collisions['Holiday Collision'] = 0\n",
    "\n",
    "# Marking the relevant collisions\n",
    "for date in holiday_travel_dates:\n",
    "    all_cycling_collisions.loc[all_cycling_collisions['CRASH DATE'] == date, ['Holiday Collision']] = 1\n",
    "    \n",
    "# With the last of our 'CRASH DATE' based feature engineering done, we can drop it from our dataframe\n",
    "all_cycling_collisions = all_cycling_collisions.drop(['CRASH DATE'], axis=1)\n",
    "    \n",
    "# Sanity check    \n",
    "all_cycling_collisions['Holiday Collision'].value_counts()"
   ]
  },
  {
   "cell_type": "markdown",
   "metadata": {},
   "source": [
    "### 2.6 Time of Day \n",
    "\n",
    "The hour of the day the accident occured in could have big implications in our model, and for our business problem. As it stands right now, the 'CRASH TIME' column specifies the time down to the minute, which is a more granular breakdown than our model requires. We will convert the hour and minute information into only what hour the accident occured in. Thankfully, the data is already in a 24 hour format, and there are no NaN values"
   ]
  },
  {
   "cell_type": "code",
   "execution_count": 19,
   "metadata": {
    "scrolled": true
   },
   "outputs": [
    {
     "data": {
      "text/plain": [
       "18    3588\n",
       "17    3558\n",
       "19    3306\n",
       "16    3188\n",
       "20    2932\n",
       "14    2792\n",
       "15    2715\n",
       "13    2449\n",
       "21    2394\n",
       "12    2123\n",
       "22    1825\n",
       "11    1823\n",
       "9     1634\n",
       "8     1562\n",
       "10    1477\n",
       "23    1342\n",
       "0     1307\n",
       "7      961\n",
       "6      569\n",
       "1      514\n",
       "2      365\n",
       "5      312\n",
       "3      279\n",
       "4      264\n",
       "Name: Hour, dtype: int64"
      ]
     },
     "execution_count": 19,
     "metadata": {},
     "output_type": "execute_result"
    }
   ],
   "source": [
    "# Getting just the hour information and storing it in a new column, 'Hour'\n",
    "all_cycling_collisions['Hour'] = [int(time[:2].replace(':','')) for time in all_cycling_collisions['CRASH TIME']]\n",
    "\n",
    "# Dropping the 'CRASH TIME' column, as we no longer need it\n",
    "all_cycling_collisions = all_cycling_collisions.drop(['CRASH TIME'], axis=1)\n",
    "\n",
    "# Sanity Check\n",
    "all_cycling_collisions['Hour'].value_counts()"
   ]
  },
  {
   "cell_type": "markdown",
   "metadata": {},
   "source": [
    "### 2.7 Borough\n",
    "\n",
    "Borough could turn out to be a very useful feature for our classification models, but first we have to contend with all the NaN values in that column. We know from our earlier NaN report on this column that roughly a quarter of collisions do not specify what Borough the crash took place in. "
   ]
  },
  {
   "cell_type": "code",
   "execution_count": 20,
   "metadata": {
    "scrolled": true
   },
   "outputs": [
    {
     "name": "stdout",
     "output_type": "stream",
     "text": [
      "BROOKLYN         13425\n",
      "MANHATTAN         9841\n",
      "QUEENS            6698\n",
      "BRONX             3496\n",
      "STATEN ISLAND      403\n",
      "Name: BOROUGH, dtype: int64\n",
      "\n",
      "        There are 9416 rows with a NaN for Borough\n"
     ]
    },
    {
     "data": {
      "text/plain": [
       "6966"
      ]
     },
     "execution_count": 20,
     "metadata": {},
     "output_type": "execute_result"
    }
   ],
   "source": [
    "# Looking at the values in the Borough Column \n",
    "print(all_cycling_collisions[\"BOROUGH\"].value_counts())\n",
    "\n",
    "# This dataframe is all of our rows where Borough holds a NaN value\n",
    "nan_boro = all_cycling_collisions.loc[all_cycling_collisions['BOROUGH'].isna()]\n",
    "\n",
    "# This line confirms what our NaN report told us earlier, by telling us the amount of NaN's\n",
    "print(f'''\n",
    "        There are {len(nan_boro)} rows with a NaN for Borough''')\n",
    "\n",
    "# This line prints how many of our 9416 rows have latitude and longitude data\n",
    "len(nan_boro) - nan_boro['LOCATION'].isna().sum()"
   ]
  },
  {
   "cell_type": "markdown",
   "metadata": {},
   "source": [
    "The above code shows us that even though we have 9416 rows that dont specify Borough, 6966 of those rows do specify Latitude and Longitude data, which we can use to extrapolate what Borough they occured in. (Street name might be easier, or put the zip code thing before this and then use them.)"
   ]
  },
  {
   "cell_type": "code",
   "execution_count": 21,
   "metadata": {},
   "outputs": [],
   "source": [
    "# Let's start by renaming the column to match the others\n",
    "all_cycling_collisions.loc[all_cycling_collisions['BOROUGH'].isna(), ['BOROUGH']] = 'BROOKLYN'\n",
    "all_cycling_collisions['Borough'] = all_cycling_collisions['BOROUGH']\n",
    "all_cycling_collisions = all_cycling_collisions.drop(['BOROUGH'], axis=1)"
   ]
  },
  {
   "cell_type": "markdown",
   "metadata": {},
   "source": [
    "### 2.8 Zip Code \n",
    "\n",
    "We definitely want to feed this feature into our model, as it could help our classificaiton algorithm perform better. "
   ]
  },
  {
   "cell_type": "code",
   "execution_count": 22,
   "metadata": {},
   "outputs": [
    {
     "name": "stdout",
     "output_type": "stream",
     "text": [
      "9417\n"
     ]
    },
    {
     "data": {
      "text/plain": [
       "2450"
      ]
     },
     "execution_count": 22,
     "metadata": {},
     "output_type": "execute_result"
    }
   ],
   "source": [
    "# This is how many rows do not contain Zip Code information\n",
    "print(sum(all_cycling_collisions['ZIP CODE'].isna()))\n",
    "\n",
    "# Of those 9417 rows that dont have zipcode data, only 2450 also do not have latitude and longitude \n",
    "len(all_cycling_collisions.loc[all_cycling_collisions['ZIP CODE'].isna() & all_cycling_collisions['LOCATION'].isna()])"
   ]
  },
  {
   "cell_type": "markdown",
   "metadata": {},
   "source": [
    "What the above numbers mean is that if we can find a way to get the zipcode from the Latitude and Longitude, we can fill in three quarters of our missing zip codes. "
   ]
  },
  {
   "cell_type": "code",
   "execution_count": 23,
   "metadata": {},
   "outputs": [],
   "source": [
    "# Let's rename our column so we can tell it's been processed \n",
    "all_cycling_collisions['Zip Code'] = [zipcode for zipcode in all_cycling_collisions['ZIP CODE'] ]\n",
    "\n",
    "# Now that we are finished with the Location-Based columns, we can drop the originals \n",
    "all_cycling_collisions = all_cycling_collisions.drop(['ZIP CODE', 'LATITUDE', 'LONGITUDE', 'LOCATION'], axis=1)"
   ]
  },
  {
   "cell_type": "markdown",
   "metadata": {},
   "source": [
    "### 2.9 Street Name\n",
    "\n",
    "If it becomes a strong predictor, street name could be an essential feature for our business problem, as it would tell the city which streets are the most dangerous for cyclists, and therefore where to focus their efforts in terms of building new infrastructure. Street name in our dataset comes in the form of three columns, ON STREET NAME, CROSS STREET NAME, and OFF STREET NAME. The values in these columns are fairly clean in their formatting, and dont exhibit any significant overlap or redundancy."
   ]
  },
  {
   "cell_type": "code",
   "execution_count": 24,
   "metadata": {
    "scrolled": true
   },
   "outputs": [
    {
     "name": "stdout",
     "output_type": "stream",
     "text": [
      "There are 61 rows without any street name data.\n"
     ]
    }
   ],
   "source": [
    "# This dataframe contains the rows with no street data whatsoever\n",
    "no_street_data = all_cycling_collisions.loc[all_cycling_collisions['ON STREET NAME'].isna() & \n",
    "                                            all_cycling_collisions['CROSS STREET NAME'].isna() &\n",
    "                                            all_cycling_collisions['OFF STREET NAME'].isna()]\n",
    "\n",
    "# Luckily only 61 rows of our entire dataframe contain zero street name values\n",
    "print(f'There are {len(no_street_data)} rows without any street name data.')"
   ]
  },
  {
   "cell_type": "markdown",
   "metadata": {},
   "source": [
    "Now we are finding the columns with NaN values under Cross Street, and filling them in with the values from OFF STREET NAME, if there are any. "
   ]
  },
  {
   "cell_type": "code",
   "execution_count": 25,
   "metadata": {
    "scrolled": true
   },
   "outputs": [
    {
     "name": "stdout",
     "output_type": "stream",
     "text": [
      "11826\n",
      "5681\n"
     ]
    }
   ],
   "source": [
    "# Renaming our two columns \n",
    "all_cycling_collisions['Street'] = all_cycling_collisions['ON STREET NAME']\n",
    "all_cycling_collisions['Cross Street'] = all_cycling_collisions['CROSS STREET NAME']\n",
    "\n",
    "# Check how many NaN values we have in Cross Street before meshing it with OFF STREET NAME\n",
    "print(len(all_cycling_collisions.loc[all_cycling_collisions['Cross Street'].isna()]))\n",
    "\n",
    "# For our columns without a listed Cross Street, we are using the OFF STREET NAME value, if it has one\n",
    "all_cycling_collisions.loc[all_cycling_collisions['Cross Street'].isna(), ['Cross Street']] = all_cycling_collisions['OFF STREET NAME']\n",
    "\n",
    "# Number of NaNs in Cross Street after the merge\n",
    "print(len(all_cycling_collisions.loc[all_cycling_collisions['Cross Street'].isna()]))\n",
    "\n",
    "# Drop the old columns \n",
    "all_cycling_collisions = all_cycling_collisions.drop(['ON STREET NAME','CROSS STREET NAME','OFF STREET NAME'],axis=1)"
   ]
  },
  {
   "cell_type": "markdown",
   "metadata": {},
   "source": [
    "### 2.10 Contributing Factor Columns \n",
    "\n",
    "Our strategy for these columns is to use the values in the first column as the defaults, then for the rows where the contributing factor is unknown, use the values from the second column to fill in some of the gaps. Because the 3rd, 4th and 5th columns are almost entirely NaN values, we will ignore them. "
   ]
  },
  {
   "cell_type": "code",
   "execution_count": 26,
   "metadata": {},
   "outputs": [],
   "source": [
    "# Creating our Factor 1 column using CONTRIBUTING FACTOR VEHICLE 1 as the default value\n",
    "all_cycling_collisions['Factor 1'] = all_cycling_collisions['CONTRIBUTING FACTOR VEHICLE 1']\n",
    "\n",
    "# Going through Factor 1, and any rows that equal 'Unspecified', we input the value of CONTRIBUTING FACTOR VEHICLE 2\n",
    "all_cycling_collisions.loc[all_cycling_collisions['Factor 1'] == 'Unspecified', ['Factor 1']] = all_cycling_collisions['CONTRIBUTING FACTOR VEHICLE 2']\n",
    "\n",
    "# Dropping the old columns\n",
    "all_cycling_collisions.drop(['CONTRIBUTING FACTOR VEHICLE 1', \n",
    "                             'CONTRIBUTING FACTOR VEHICLE 2',\n",
    "                             'CONTRIBUTING FACTOR VEHICLE 3', \n",
    "                             'CONTRIBUTING FACTOR VEHICLE 4',\n",
    "                             'CONTRIBUTING FACTOR VEHICLE 5'], \n",
    "                                 axis=1, inplace=True)"
   ]
  },
  {
   "cell_type": "markdown",
   "metadata": {},
   "source": [
    "### 2.11 Vehicle Type Codes \n",
    "\n",
    "Unlike some of the other features in this dataset, the Vehicle Type Codes are horrific in their messy, overlapping nature. For example 'VAN', 'Van, and 'van' are all seperate categories. To deal with this we have created a few buckets to sort each string into, that will hopefully give our model more insight into what vehicle type makes for a deadly crash. Each of these new cleaned categories will be a single column, 'Vehicle Type'."
   ]
  },
  {
   "cell_type": "code",
   "execution_count": 27,
   "metadata": {},
   "outputs": [
    {
     "data": {
      "text/plain": [
       "Sedan                   18302\n",
       "SUV                     11518\n",
       "Vehicle Type Unknown     6431\n",
       "Taxi                     3673\n",
       "Scooter                  1093\n",
       "Pickup                    647\n",
       "Work Van                  628\n",
       "Bus                       557\n",
       "Large Truck               430\n",
       "Name: Vehicle Type, dtype: int64"
      ]
     },
     "execution_count": 27,
     "metadata": {},
     "output_type": "execute_result"
    }
   ],
   "source": [
    "# Creating our column with a default 'Vehicle Type Unknown' string value\n",
    "all_cycling_collisions['Vehicle Type'] = 'Vehicle Type Unknown'\n",
    "\n",
    "# Making a list of our vehicle type columns, so we can iterate over them\n",
    "vehicle_columns = ['VEHICLE TYPE CODE 1',\n",
    "           'VEHICLE TYPE CODE 2',\n",
    "           'VEHICLE TYPE CODE 3', \n",
    "           'VEHICLE TYPE CODE 4',\n",
    "           'VEHICLE TYPE CODE 5']\n",
    "\n",
    "# This dictionary translates the most common vehicle codes into our new categories    \n",
    "dict = {'Sedan':'Sedan','4 dr sedan':'Sedan','2 dr sedan': 'Sedan', 'Convertible':'Sedan','SEDAN':'Sedan',\n",
    "        'PASSENGER VEHICLE':'Sedan', 'Station Wagon/Sport Utility Vehicle':'SUV', \n",
    "        'SPORT UTILITY / STATION WAGON':'SUV', 'Taxi': 'Taxi', 'TAXI':'Taxi', \n",
    "        'LIVERY VEHICLE': 'Taxi', 'VAN':'Work Van', 'SMALL COM VEH':'Work Van', 'Van':'Work Van', 'van':'Work Van', \n",
    "        'Pick-up Truck':'Pickup', 'PICK-UP TRUCK':'Pickup', 'Box Truck':'Large Truck', 'LARGE COM VEH':'Large Truck',\n",
    "        'Tractor Truck Diesel':'Large Truck','Flat Bed':'Large Truck','Tow Truck / Wrecker':'Large Truck', \n",
    "        'Tractor Truck Gasoline':'Large Truck','Concrete Mixer':'Large Truck','FIRE TRUCK':'Large Truck',\n",
    "        'Armored Truck':'Large Truck','TRUCK':'Large Truck','FIRE':'Large Truck', 'E-Scooter':'Scooter',\n",
    "        'E-Sco':'Scooter', 'Moped':'Scooter','SCOOTER':'Scooter','DELIV':'Scooter', 'Bus':'Bus','BUS':'Bus',\n",
    "        'School Bus':'Bus', 'Garbage or Refuse':'Large Truck', 'Tanker':'Large Truck'}\n",
    "\n",
    "# Iterating over our dictionary by key\n",
    "for i in dict.keys():\n",
    "\n",
    "    # Iterating over each vehicle column\n",
    "    for j in vehicle_columns:\n",
    "    \n",
    "        all_cycling_collisions.loc[all_cycling_collisions[j] == i, ['Vehicle Type']] = dict[i]\n",
    "    \n",
    "# Dropping the old columns\n",
    "all_cycling_collisions.drop(['VEHICLE TYPE CODE 1',\n",
    "                             'VEHICLE TYPE CODE 2', \n",
    "                             'VEHICLE TYPE CODE 3', \n",
    "                             'VEHICLE TYPE CODE 4',\n",
    "                             'VEHICLE TYPE CODE 5'], \n",
    "                              axis=1, inplace=True)\n",
    "\n",
    "# Checking out the final result\n",
    "all_cycling_collisions['Vehicle Type'].value_counts()"
   ]
  },
  {
   "cell_type": "code",
   "execution_count": 28,
   "metadata": {},
   "outputs": [
    {
     "data": {
      "text/html": [
       "<div>\n",
       "<style scoped>\n",
       "    .dataframe tbody tr th:only-of-type {\n",
       "        vertical-align: middle;\n",
       "    }\n",
       "\n",
       "    .dataframe tbody tr th {\n",
       "        vertical-align: top;\n",
       "    }\n",
       "\n",
       "    .dataframe thead th {\n",
       "        text-align: right;\n",
       "    }\n",
       "</style>\n",
       "<table border=\"1\" class=\"dataframe\">\n",
       "  <thead>\n",
       "    <tr style=\"text-align: right;\">\n",
       "      <th></th>\n",
       "      <th>Lethal</th>\n",
       "      <th>Year</th>\n",
       "      <th>Month</th>\n",
       "      <th>Holiday Collision</th>\n",
       "      <th>Hour</th>\n",
       "      <th>Borough</th>\n",
       "      <th>Zip Code</th>\n",
       "      <th>Street</th>\n",
       "      <th>Cross Street</th>\n",
       "      <th>Factor 1</th>\n",
       "      <th>Vehicle Type</th>\n",
       "    </tr>\n",
       "  </thead>\n",
       "  <tbody>\n",
       "    <tr>\n",
       "      <th>52</th>\n",
       "      <td>0</td>\n",
       "      <td>2021</td>\n",
       "      <td>4</td>\n",
       "      <td>0</td>\n",
       "      <td>11</td>\n",
       "      <td>QUEENS</td>\n",
       "      <td>11368</td>\n",
       "      <td>NaN</td>\n",
       "      <td>100-10    ROOSEVELT AVENUE</td>\n",
       "      <td>Turning Improperly</td>\n",
       "      <td>SUV</td>\n",
       "    </tr>\n",
       "    <tr>\n",
       "      <th>90</th>\n",
       "      <td>0</td>\n",
       "      <td>2021</td>\n",
       "      <td>4</td>\n",
       "      <td>0</td>\n",
       "      <td>0</td>\n",
       "      <td>BROOKLYN</td>\n",
       "      <td>NaN</td>\n",
       "      <td>BATH AVENUE</td>\n",
       "      <td>NaN</td>\n",
       "      <td>Failure to Yield Right-of-Way</td>\n",
       "      <td>SUV</td>\n",
       "    </tr>\n",
       "    <tr>\n",
       "      <th>139</th>\n",
       "      <td>0</td>\n",
       "      <td>2021</td>\n",
       "      <td>4</td>\n",
       "      <td>0</td>\n",
       "      <td>17</td>\n",
       "      <td>BRONX</td>\n",
       "      <td>10452</td>\n",
       "      <td>GRANT HIGHWAY</td>\n",
       "      <td>UNIVERSITY AVENUE</td>\n",
       "      <td>Pedestrian/Bicyclist/Other Pedestrian Error/Co...</td>\n",
       "      <td>SUV</td>\n",
       "    </tr>\n",
       "    <tr>\n",
       "      <th>145</th>\n",
       "      <td>0</td>\n",
       "      <td>2021</td>\n",
       "      <td>4</td>\n",
       "      <td>0</td>\n",
       "      <td>19</td>\n",
       "      <td>BROOKLYN</td>\n",
       "      <td>11201</td>\n",
       "      <td>FLATBUSH AVENUE EXTENSION</td>\n",
       "      <td>JOHNSON STREET</td>\n",
       "      <td>Driver Inattention/Distraction</td>\n",
       "      <td>Sedan</td>\n",
       "    </tr>\n",
       "    <tr>\n",
       "      <th>178</th>\n",
       "      <td>0</td>\n",
       "      <td>2021</td>\n",
       "      <td>4</td>\n",
       "      <td>0</td>\n",
       "      <td>0</td>\n",
       "      <td>QUEENS</td>\n",
       "      <td>11369</td>\n",
       "      <td>93 STREET</td>\n",
       "      <td>32 AVENUE</td>\n",
       "      <td>Unsafe Speed</td>\n",
       "      <td>Sedan</td>\n",
       "    </tr>\n",
       "  </tbody>\n",
       "</table>\n",
       "</div>"
      ],
      "text/plain": [
       "     Lethal  Year  Month  Holiday Collision  Hour   Borough Zip Code  \\\n",
       "52        0  2021      4                  0    11    QUEENS    11368   \n",
       "90        0  2021      4                  0     0  BROOKLYN      NaN   \n",
       "139       0  2021      4                  0    17     BRONX    10452   \n",
       "145       0  2021      4                  0    19  BROOKLYN    11201   \n",
       "178       0  2021      4                  0     0    QUEENS    11369   \n",
       "\n",
       "                        Street                Cross Street  \\\n",
       "52                         NaN  100-10    ROOSEVELT AVENUE   \n",
       "90                 BATH AVENUE                         NaN   \n",
       "139              GRANT HIGHWAY           UNIVERSITY AVENUE   \n",
       "145  FLATBUSH AVENUE EXTENSION              JOHNSON STREET   \n",
       "178                  93 STREET                   32 AVENUE   \n",
       "\n",
       "                                              Factor 1 Vehicle Type  \n",
       "52                                  Turning Improperly          SUV  \n",
       "90                       Failure to Yield Right-of-Way          SUV  \n",
       "139  Pedestrian/Bicyclist/Other Pedestrian Error/Co...          SUV  \n",
       "145                     Driver Inattention/Distraction        Sedan  \n",
       "178                                       Unsafe Speed        Sedan  "
      ]
     },
     "execution_count": 28,
     "metadata": {},
     "output_type": "execute_result"
    }
   ],
   "source": [
    "# Lets take a look at our cleaned dataset\n",
    "all_cycling_collisions.head()"
   ]
  },
  {
   "cell_type": "markdown",
   "metadata": {},
   "source": [
    "## 3. Data Preprocessing\n",
    "\n",
    "### 3.1 Train Holdout Split, and Train Test Split\n",
    "\n",
    "The absolute first thing we need to do in terms of preprocessing is to seperate our data into the train and holdout set to avoid data leakage, and make sure we can robustly evaluate our models later on. Then we seperate our training data further into train and test so we can evaluate different model iterations. "
   ]
  },
  {
   "cell_type": "code",
   "execution_count": 29,
   "metadata": {
    "scrolled": true
   },
   "outputs": [],
   "source": [
    "# Seperating our data into features and target\n",
    "X = all_cycling_collisions.drop(['Lethal'], axis=1)\n",
    "y = all_cycling_collisions['Lethal']\n",
    "\n",
    "# Train holdout split\n",
    "X_training, X_hold, y_training, y_hold = train_test_split(X, y, random_state=seed, test_size=.1)\n",
    "\n",
    "# Train test split\n",
    "X_train, X_test, y_train, y_test = train_test_split(X_training, y_training, random_state=seed, test_size=.2)"
   ]
  },
  {
   "cell_type": "markdown",
   "metadata": {},
   "source": [
    "### 3.2 Prepping our Data for Modeling"
   ]
  },
  {
   "cell_type": "code",
   "execution_count": 30,
   "metadata": {
    "scrolled": false
   },
   "outputs": [
    {
     "data": {
      "text/html": [
       "<div>\n",
       "<style scoped>\n",
       "    .dataframe tbody tr th:only-of-type {\n",
       "        vertical-align: middle;\n",
       "    }\n",
       "\n",
       "    .dataframe tbody tr th {\n",
       "        vertical-align: top;\n",
       "    }\n",
       "\n",
       "    .dataframe thead th {\n",
       "        text-align: right;\n",
       "    }\n",
       "</style>\n",
       "<table border=\"1\" class=\"dataframe\">\n",
       "  <thead>\n",
       "    <tr style=\"text-align: right;\">\n",
       "      <th></th>\n",
       "      <th>0</th>\n",
       "      <th>1</th>\n",
       "      <th>2</th>\n",
       "      <th>3</th>\n",
       "      <th>4</th>\n",
       "      <th>5</th>\n",
       "      <th>6</th>\n",
       "      <th>7</th>\n",
       "      <th>8</th>\n",
       "      <th>9</th>\n",
       "      <th>10</th>\n",
       "      <th>11</th>\n",
       "      <th>12</th>\n",
       "      <th>13</th>\n",
       "      <th>14</th>\n",
       "      <th>15</th>\n",
       "      <th>16</th>\n",
       "      <th>17</th>\n",
       "      <th>18</th>\n",
       "      <th>19</th>\n",
       "      <th>20</th>\n",
       "      <th>21</th>\n",
       "      <th>22</th>\n",
       "      <th>23</th>\n",
       "      <th>24</th>\n",
       "      <th>25</th>\n",
       "      <th>26</th>\n",
       "      <th>27</th>\n",
       "      <th>28</th>\n",
       "      <th>29</th>\n",
       "      <th>30</th>\n",
       "      <th>31</th>\n",
       "      <th>32</th>\n",
       "      <th>33</th>\n",
       "      <th>34</th>\n",
       "      <th>35</th>\n",
       "      <th>36</th>\n",
       "      <th>37</th>\n",
       "      <th>38</th>\n",
       "      <th>39</th>\n",
       "      <th>40</th>\n",
       "      <th>41</th>\n",
       "      <th>42</th>\n",
       "      <th>43</th>\n",
       "      <th>44</th>\n",
       "      <th>45</th>\n",
       "      <th>46</th>\n",
       "      <th>47</th>\n",
       "      <th>48</th>\n",
       "      <th>49</th>\n",
       "      <th>50</th>\n",
       "      <th>51</th>\n",
       "      <th>52</th>\n",
       "      <th>53</th>\n",
       "      <th>54</th>\n",
       "      <th>55</th>\n",
       "      <th>56</th>\n",
       "      <th>57</th>\n",
       "      <th>58</th>\n",
       "      <th>59</th>\n",
       "      <th>60</th>\n",
       "      <th>61</th>\n",
       "      <th>62</th>\n",
       "      <th>63</th>\n",
       "      <th>64</th>\n",
       "      <th>65</th>\n",
       "    </tr>\n",
       "  </thead>\n",
       "  <tbody>\n",
       "    <tr>\n",
       "      <th>0</th>\n",
       "      <td>0.0</td>\n",
       "      <td>0.0</td>\n",
       "      <td>1.0</td>\n",
       "      <td>0.0</td>\n",
       "      <td>0.0</td>\n",
       "      <td>0.0</td>\n",
       "      <td>0.0</td>\n",
       "      <td>0.0</td>\n",
       "      <td>0.0</td>\n",
       "      <td>0.0</td>\n",
       "      <td>0.0</td>\n",
       "      <td>0.0</td>\n",
       "      <td>0.0</td>\n",
       "      <td>1.0</td>\n",
       "      <td>0.0</td>\n",
       "      <td>0.0</td>\n",
       "      <td>0.0</td>\n",
       "      <td>0.0</td>\n",
       "      <td>0.0</td>\n",
       "      <td>0.0</td>\n",
       "      <td>0.0</td>\n",
       "      <td>0.0</td>\n",
       "      <td>1.0</td>\n",
       "      <td>0.0</td>\n",
       "      <td>0.0</td>\n",
       "      <td>0.0</td>\n",
       "      <td>0.0</td>\n",
       "      <td>0.0</td>\n",
       "      <td>0.0</td>\n",
       "      <td>0.0</td>\n",
       "      <td>0.0</td>\n",
       "      <td>0.0</td>\n",
       "      <td>0.0</td>\n",
       "      <td>0.0</td>\n",
       "      <td>0.0</td>\n",
       "      <td>0.0</td>\n",
       "      <td>0.0</td>\n",
       "      <td>0.0</td>\n",
       "      <td>0.0</td>\n",
       "      <td>0.0</td>\n",
       "      <td>0.0</td>\n",
       "      <td>0.0</td>\n",
       "      <td>0.0</td>\n",
       "      <td>0.0</td>\n",
       "      <td>1.0</td>\n",
       "      <td>0.0</td>\n",
       "      <td>0.0</td>\n",
       "      <td>0.0</td>\n",
       "      <td>0.0</td>\n",
       "      <td>1.0</td>\n",
       "      <td>0.0</td>\n",
       "      <td>0.0</td>\n",
       "      <td>0.0</td>\n",
       "      <td>0.0</td>\n",
       "      <td>0.0</td>\n",
       "      <td>0.0</td>\n",
       "      <td>0.0</td>\n",
       "      <td>0.0</td>\n",
       "      <td>0.0</td>\n",
       "      <td>0.0</td>\n",
       "      <td>1.0</td>\n",
       "      <td>0.0</td>\n",
       "      <td>0.031821</td>\n",
       "      <td>0.000666</td>\n",
       "      <td>0.001716</td>\n",
       "      <td>1.000000</td>\n",
       "    </tr>\n",
       "    <tr>\n",
       "      <th>1</th>\n",
       "      <td>0.0</td>\n",
       "      <td>1.0</td>\n",
       "      <td>0.0</td>\n",
       "      <td>0.0</td>\n",
       "      <td>0.0</td>\n",
       "      <td>0.0</td>\n",
       "      <td>0.0</td>\n",
       "      <td>0.0</td>\n",
       "      <td>0.0</td>\n",
       "      <td>0.0</td>\n",
       "      <td>0.0</td>\n",
       "      <td>0.0</td>\n",
       "      <td>0.0</td>\n",
       "      <td>0.0</td>\n",
       "      <td>0.0</td>\n",
       "      <td>0.0</td>\n",
       "      <td>0.0</td>\n",
       "      <td>0.0</td>\n",
       "      <td>1.0</td>\n",
       "      <td>0.0</td>\n",
       "      <td>0.0</td>\n",
       "      <td>0.0</td>\n",
       "      <td>1.0</td>\n",
       "      <td>0.0</td>\n",
       "      <td>0.0</td>\n",
       "      <td>0.0</td>\n",
       "      <td>0.0</td>\n",
       "      <td>0.0</td>\n",
       "      <td>0.0</td>\n",
       "      <td>0.0</td>\n",
       "      <td>0.0</td>\n",
       "      <td>0.0</td>\n",
       "      <td>0.0</td>\n",
       "      <td>0.0</td>\n",
       "      <td>0.0</td>\n",
       "      <td>0.0</td>\n",
       "      <td>0.0</td>\n",
       "      <td>0.0</td>\n",
       "      <td>0.0</td>\n",
       "      <td>0.0</td>\n",
       "      <td>0.0</td>\n",
       "      <td>1.0</td>\n",
       "      <td>0.0</td>\n",
       "      <td>0.0</td>\n",
       "      <td>0.0</td>\n",
       "      <td>0.0</td>\n",
       "      <td>0.0</td>\n",
       "      <td>0.0</td>\n",
       "      <td>0.0</td>\n",
       "      <td>0.0</td>\n",
       "      <td>0.0</td>\n",
       "      <td>1.0</td>\n",
       "      <td>0.0</td>\n",
       "      <td>0.0</td>\n",
       "      <td>0.0</td>\n",
       "      <td>0.0</td>\n",
       "      <td>1.0</td>\n",
       "      <td>0.0</td>\n",
       "      <td>0.0</td>\n",
       "      <td>0.0</td>\n",
       "      <td>0.0</td>\n",
       "      <td>0.0</td>\n",
       "      <td>0.008103</td>\n",
       "      <td>0.001332</td>\n",
       "      <td>0.003677</td>\n",
       "      <td>1.000000</td>\n",
       "    </tr>\n",
       "    <tr>\n",
       "      <th>2</th>\n",
       "      <td>0.0</td>\n",
       "      <td>0.0</td>\n",
       "      <td>0.0</td>\n",
       "      <td>0.0</td>\n",
       "      <td>0.0</td>\n",
       "      <td>0.0</td>\n",
       "      <td>1.0</td>\n",
       "      <td>0.0</td>\n",
       "      <td>0.0</td>\n",
       "      <td>0.0</td>\n",
       "      <td>0.0</td>\n",
       "      <td>0.0</td>\n",
       "      <td>0.0</td>\n",
       "      <td>0.0</td>\n",
       "      <td>1.0</td>\n",
       "      <td>0.0</td>\n",
       "      <td>0.0</td>\n",
       "      <td>0.0</td>\n",
       "      <td>0.0</td>\n",
       "      <td>0.0</td>\n",
       "      <td>0.0</td>\n",
       "      <td>0.0</td>\n",
       "      <td>1.0</td>\n",
       "      <td>0.0</td>\n",
       "      <td>0.0</td>\n",
       "      <td>0.0</td>\n",
       "      <td>0.0</td>\n",
       "      <td>0.0</td>\n",
       "      <td>0.0</td>\n",
       "      <td>0.0</td>\n",
       "      <td>0.0</td>\n",
       "      <td>0.0</td>\n",
       "      <td>0.0</td>\n",
       "      <td>0.0</td>\n",
       "      <td>0.0</td>\n",
       "      <td>0.0</td>\n",
       "      <td>0.0</td>\n",
       "      <td>0.0</td>\n",
       "      <td>0.0</td>\n",
       "      <td>1.0</td>\n",
       "      <td>0.0</td>\n",
       "      <td>0.0</td>\n",
       "      <td>0.0</td>\n",
       "      <td>0.0</td>\n",
       "      <td>0.0</td>\n",
       "      <td>0.0</td>\n",
       "      <td>0.0</td>\n",
       "      <td>0.0</td>\n",
       "      <td>0.0</td>\n",
       "      <td>1.0</td>\n",
       "      <td>0.0</td>\n",
       "      <td>0.0</td>\n",
       "      <td>0.0</td>\n",
       "      <td>0.0</td>\n",
       "      <td>0.0</td>\n",
       "      <td>0.0</td>\n",
       "      <td>1.0</td>\n",
       "      <td>0.0</td>\n",
       "      <td>0.0</td>\n",
       "      <td>0.0</td>\n",
       "      <td>0.0</td>\n",
       "      <td>0.0</td>\n",
       "      <td>0.038450</td>\n",
       "      <td>0.008659</td>\n",
       "      <td>0.002206</td>\n",
       "      <td>0.434345</td>\n",
       "    </tr>\n",
       "    <tr>\n",
       "      <th>3</th>\n",
       "      <td>0.0</td>\n",
       "      <td>0.0</td>\n",
       "      <td>0.0</td>\n",
       "      <td>1.0</td>\n",
       "      <td>0.0</td>\n",
       "      <td>0.0</td>\n",
       "      <td>0.0</td>\n",
       "      <td>0.0</td>\n",
       "      <td>0.0</td>\n",
       "      <td>0.0</td>\n",
       "      <td>0.0</td>\n",
       "      <td>0.0</td>\n",
       "      <td>0.0</td>\n",
       "      <td>0.0</td>\n",
       "      <td>0.0</td>\n",
       "      <td>0.0</td>\n",
       "      <td>0.0</td>\n",
       "      <td>0.0</td>\n",
       "      <td>0.0</td>\n",
       "      <td>1.0</td>\n",
       "      <td>0.0</td>\n",
       "      <td>0.0</td>\n",
       "      <td>1.0</td>\n",
       "      <td>0.0</td>\n",
       "      <td>0.0</td>\n",
       "      <td>0.0</td>\n",
       "      <td>0.0</td>\n",
       "      <td>0.0</td>\n",
       "      <td>0.0</td>\n",
       "      <td>0.0</td>\n",
       "      <td>0.0</td>\n",
       "      <td>0.0</td>\n",
       "      <td>0.0</td>\n",
       "      <td>0.0</td>\n",
       "      <td>0.0</td>\n",
       "      <td>0.0</td>\n",
       "      <td>0.0</td>\n",
       "      <td>0.0</td>\n",
       "      <td>0.0</td>\n",
       "      <td>1.0</td>\n",
       "      <td>0.0</td>\n",
       "      <td>0.0</td>\n",
       "      <td>0.0</td>\n",
       "      <td>0.0</td>\n",
       "      <td>0.0</td>\n",
       "      <td>0.0</td>\n",
       "      <td>0.0</td>\n",
       "      <td>0.0</td>\n",
       "      <td>0.0</td>\n",
       "      <td>0.0</td>\n",
       "      <td>0.0</td>\n",
       "      <td>1.0</td>\n",
       "      <td>0.0</td>\n",
       "      <td>0.0</td>\n",
       "      <td>0.0</td>\n",
       "      <td>0.0</td>\n",
       "      <td>0.0</td>\n",
       "      <td>0.0</td>\n",
       "      <td>1.0</td>\n",
       "      <td>0.0</td>\n",
       "      <td>0.0</td>\n",
       "      <td>0.0</td>\n",
       "      <td>0.052151</td>\n",
       "      <td>0.021758</td>\n",
       "      <td>0.000981</td>\n",
       "      <td>0.148181</td>\n",
       "    </tr>\n",
       "    <tr>\n",
       "      <th>4</th>\n",
       "      <td>0.0</td>\n",
       "      <td>0.0</td>\n",
       "      <td>0.0</td>\n",
       "      <td>0.0</td>\n",
       "      <td>0.0</td>\n",
       "      <td>0.0</td>\n",
       "      <td>0.0</td>\n",
       "      <td>0.0</td>\n",
       "      <td>0.0</td>\n",
       "      <td>1.0</td>\n",
       "      <td>0.0</td>\n",
       "      <td>0.0</td>\n",
       "      <td>0.0</td>\n",
       "      <td>0.0</td>\n",
       "      <td>0.0</td>\n",
       "      <td>1.0</td>\n",
       "      <td>0.0</td>\n",
       "      <td>0.0</td>\n",
       "      <td>0.0</td>\n",
       "      <td>0.0</td>\n",
       "      <td>0.0</td>\n",
       "      <td>0.0</td>\n",
       "      <td>1.0</td>\n",
       "      <td>0.0</td>\n",
       "      <td>0.0</td>\n",
       "      <td>0.0</td>\n",
       "      <td>0.0</td>\n",
       "      <td>0.0</td>\n",
       "      <td>0.0</td>\n",
       "      <td>0.0</td>\n",
       "      <td>0.0</td>\n",
       "      <td>0.0</td>\n",
       "      <td>1.0</td>\n",
       "      <td>0.0</td>\n",
       "      <td>0.0</td>\n",
       "      <td>0.0</td>\n",
       "      <td>0.0</td>\n",
       "      <td>0.0</td>\n",
       "      <td>0.0</td>\n",
       "      <td>0.0</td>\n",
       "      <td>0.0</td>\n",
       "      <td>0.0</td>\n",
       "      <td>0.0</td>\n",
       "      <td>0.0</td>\n",
       "      <td>0.0</td>\n",
       "      <td>0.0</td>\n",
       "      <td>0.0</td>\n",
       "      <td>0.0</td>\n",
       "      <td>0.0</td>\n",
       "      <td>1.0</td>\n",
       "      <td>0.0</td>\n",
       "      <td>0.0</td>\n",
       "      <td>0.0</td>\n",
       "      <td>0.0</td>\n",
       "      <td>0.0</td>\n",
       "      <td>0.0</td>\n",
       "      <td>1.0</td>\n",
       "      <td>0.0</td>\n",
       "      <td>0.0</td>\n",
       "      <td>0.0</td>\n",
       "      <td>0.0</td>\n",
       "      <td>0.0</td>\n",
       "      <td>0.079847</td>\n",
       "      <td>1.000000</td>\n",
       "      <td>-0.000245</td>\n",
       "      <td>0.148181</td>\n",
       "    </tr>\n",
       "  </tbody>\n",
       "</table>\n",
       "</div>"
      ],
      "text/plain": [
       "    0    1    2    3    4    5    6    7    8    9    10   11   12   13   14  \\\n",
       "0  0.0  0.0  1.0  0.0  0.0  0.0  0.0  0.0  0.0  0.0  0.0  0.0  0.0  1.0  0.0   \n",
       "1  0.0  1.0  0.0  0.0  0.0  0.0  0.0  0.0  0.0  0.0  0.0  0.0  0.0  0.0  0.0   \n",
       "2  0.0  0.0  0.0  0.0  0.0  0.0  1.0  0.0  0.0  0.0  0.0  0.0  0.0  0.0  1.0   \n",
       "3  0.0  0.0  0.0  1.0  0.0  0.0  0.0  0.0  0.0  0.0  0.0  0.0  0.0  0.0  0.0   \n",
       "4  0.0  0.0  0.0  0.0  0.0  0.0  0.0  0.0  0.0  1.0  0.0  0.0  0.0  0.0  0.0   \n",
       "\n",
       "    15   16   17   18   19   20   21   22   23   24   25   26   27   28   29  \\\n",
       "0  0.0  0.0  0.0  0.0  0.0  0.0  0.0  1.0  0.0  0.0  0.0  0.0  0.0  0.0  0.0   \n",
       "1  0.0  0.0  0.0  1.0  0.0  0.0  0.0  1.0  0.0  0.0  0.0  0.0  0.0  0.0  0.0   \n",
       "2  0.0  0.0  0.0  0.0  0.0  0.0  0.0  1.0  0.0  0.0  0.0  0.0  0.0  0.0  0.0   \n",
       "3  0.0  0.0  0.0  0.0  1.0  0.0  0.0  1.0  0.0  0.0  0.0  0.0  0.0  0.0  0.0   \n",
       "4  1.0  0.0  0.0  0.0  0.0  0.0  0.0  1.0  0.0  0.0  0.0  0.0  0.0  0.0  0.0   \n",
       "\n",
       "    30   31   32   33   34   35   36   37   38   39   40   41   42   43   44  \\\n",
       "0  0.0  0.0  0.0  0.0  0.0  0.0  0.0  0.0  0.0  0.0  0.0  0.0  0.0  0.0  1.0   \n",
       "1  0.0  0.0  0.0  0.0  0.0  0.0  0.0  0.0  0.0  0.0  0.0  1.0  0.0  0.0  0.0   \n",
       "2  0.0  0.0  0.0  0.0  0.0  0.0  0.0  0.0  0.0  1.0  0.0  0.0  0.0  0.0  0.0   \n",
       "3  0.0  0.0  0.0  0.0  0.0  0.0  0.0  0.0  0.0  1.0  0.0  0.0  0.0  0.0  0.0   \n",
       "4  0.0  0.0  1.0  0.0  0.0  0.0  0.0  0.0  0.0  0.0  0.0  0.0  0.0  0.0  0.0   \n",
       "\n",
       "    45   46   47   48   49   50   51   52   53   54   55   56   57   58   59  \\\n",
       "0  0.0  0.0  0.0  0.0  1.0  0.0  0.0  0.0  0.0  0.0  0.0  0.0  0.0  0.0  0.0   \n",
       "1  0.0  0.0  0.0  0.0  0.0  0.0  1.0  0.0  0.0  0.0  0.0  1.0  0.0  0.0  0.0   \n",
       "2  0.0  0.0  0.0  0.0  1.0  0.0  0.0  0.0  0.0  0.0  0.0  1.0  0.0  0.0  0.0   \n",
       "3  0.0  0.0  0.0  0.0  0.0  0.0  1.0  0.0  0.0  0.0  0.0  0.0  0.0  1.0  0.0   \n",
       "4  0.0  0.0  0.0  0.0  1.0  0.0  0.0  0.0  0.0  0.0  0.0  1.0  0.0  0.0  0.0   \n",
       "\n",
       "    60   61        62        63        64        65  \n",
       "0  1.0  0.0  0.031821  0.000666  0.001716  1.000000  \n",
       "1  0.0  0.0  0.008103  0.001332  0.003677  1.000000  \n",
       "2  0.0  0.0  0.038450  0.008659  0.002206  0.434345  \n",
       "3  0.0  0.0  0.052151  0.021758  0.000981  0.148181  \n",
       "4  0.0  0.0  0.079847  1.000000 -0.000245  0.148181  "
      ]
     },
     "execution_count": 30,
     "metadata": {},
     "output_type": "execute_result"
    }
   ],
   "source": [
    "# Setting up a Pipeline for columns we can one-hot encode\n",
    "ohe_transformer = Pipeline(steps=[\n",
    "    ('ohe_imp', SimpleImputer(strategy='constant')),\n",
    "    ('ohe', OneHotEncoder(handle_unknown='ignore'))])\n",
    "\n",
    "# Pipeline 2 for columns we are going to encode in place, and then scale \n",
    "ord_transformer = Pipeline(steps=[\n",
    "    ('ord_imp', SimpleImputer(strategy='constant')),\n",
    "    ('cat', CountEncoder()),\n",
    "    ('mms', MinMaxScaler() )])\n",
    "\n",
    "# These two columns will tell our ColumnTransformer which columns to apply each of the transformers to\n",
    "one_hots = ['Year', 'Month', 'Holiday Collision', 'Hour', 'Borough','Vehicle Type']\n",
    "ordinals = ['Zip Code', 'Street', 'Cross Street', 'Factor 1' ]\n",
    "\n",
    "# Making our preprocessor\n",
    "preprocessor = ColumnTransformer([\n",
    "    ('ohe', ohe_transformer, one_hots),\n",
    "    ('ord', ord_transformer, ordinals)\n",
    "])\n",
    "\n",
    "# Running our preprocessor on X_train and X_test\n",
    "transformed_train = preprocessor.fit_transform(X_train)\n",
    "transformed_test  = preprocessor.transform(X_test)\n",
    "\n",
    "# Turning the arrays back into dataframes\n",
    "X_train_encoded = pd.DataFrame.sparse.from_spmatrix(transformed_train)\n",
    "X_test_encoded  = pd.DataFrame.sparse.from_spmatrix(transformed_test)\n",
    "\n",
    "# Sanity Check \n",
    "X_test_encoded.head()"
   ]
  },
  {
   "cell_type": "code",
   "execution_count": 31,
   "metadata": {
    "scrolled": false
   },
   "outputs": [
    {
     "data": {
      "text/plain": [
       "1253906    0\n",
       "941773     0\n",
       "426120     0\n",
       "1095555    0\n",
       "587932     0\n",
       "Name: Lethal, dtype: int64"
      ]
     },
     "execution_count": 31,
     "metadata": {},
     "output_type": "execute_result"
    }
   ],
   "source": [
    "y_train.head()"
   ]
  },
  {
   "cell_type": "code",
   "execution_count": 32,
   "metadata": {},
   "outputs": [
    {
     "data": {
      "text/plain": [
       "Int64Index([1253906,  941773,  426120, 1095555,  587932, 1752885,  117556,\n",
       "            1360368,  277318, 1790559,\n",
       "            ...\n",
       "             769790,  865471, 1808228, 1406883,  281492,  932208,  143806,\n",
       "             825369,   84979,   60098],\n",
       "           dtype='int64', length=31160)"
      ]
     },
     "execution_count": 32,
     "metadata": {},
     "output_type": "execute_result"
    }
   ],
   "source": [
    "y_train.index"
   ]
  },
  {
   "cell_type": "code",
   "execution_count": 33,
   "metadata": {},
   "outputs": [],
   "source": [
    "y_train = np.array(y_train)"
   ]
  },
  {
   "cell_type": "markdown",
   "metadata": {},
   "source": [
    "### 3.3 Handling Class Imbalance with SMOTE\n",
    "\n",
    "Because our dataset is so incredibly imbalanced, we are utilizing Synthetic Minority Oversampling Technique, where we generate new, synthetic minority class data points. We are doing this hoping that when we fit our models to the training data, the synthetic points will make the model more sensitive to the minority class, and more able to pick it up. "
   ]
  },
  {
   "cell_type": "code",
   "execution_count": 34,
   "metadata": {
    "scrolled": true
   },
   "outputs": [],
   "source": [
    "# Length of training data before SMOTE\n",
    "#print(len(X_train_encoded))\n",
    "\n",
    "# Instantiating SMOTE and generating our new training sets\n",
    "#sm = SMOTE(sampling_strategy=.1,random_state=seed)\n",
    "#X_train_resampled, y_train_resampled = sm.fit_resample(X_train_encoded, y_train)\n",
    "\n",
    "# Length of training data after SMOTE\n",
    "#print(len(X_train_resampled))\n",
    "\n",
    "X_train_resampled = X_train_encoded\n",
    "y_train_resampled = y_train"
   ]
  },
  {
   "cell_type": "markdown",
   "metadata": {},
   "source": [
    "## 4. Exploring Model Types\n",
    "\n",
    "The first step will be an evaluate function to see how each model does. "
   ]
  },
  {
   "cell_type": "code",
   "execution_count": 35,
   "metadata": {},
   "outputs": [],
   "source": [
    "def evaluate(classifier):\n",
    "    \n",
    "    classifier.fit(X_train_resampled, y_train_resampled)\n",
    "    y_preds = classifier.predict(X_test_encoded)\n",
    "    print(f'Recall Score:    {recall_score(y_test, y_preds)}')\n",
    "    print(f'Accuracy Score:  {accuracy_score(y_test, y_preds)}')\n",
    "    print(f'Precision Score: {precision_score(y_test, y_preds)}')\n",
    "    plot_confusion_matrix(classifier, X_test_encoded, y_test)\n",
    "    \n",
    "    fitted = classifier.fit(X_train_resampled, y_train_resampled)"
   ]
  },
  {
   "cell_type": "markdown",
   "metadata": {},
   "source": [
    "### 4.1 Dummy Model "
   ]
  },
  {
   "cell_type": "code",
   "execution_count": 36,
   "metadata": {
    "scrolled": true
   },
   "outputs": [
    {
     "name": "stdout",
     "output_type": "stream",
     "text": [
      "Recall Score:    0.0\n",
      "Accuracy Score:  0.9962777563855731\n",
      "Precision Score: 0.0\n"
     ]
    },
    {
     "name": "stderr",
     "output_type": "stream",
     "text": [
      "/Users/aidanstack/opt/anaconda3/envs/learn-env/lib/python3.8/site-packages/sklearn/metrics/_classification.py:1221: UndefinedMetricWarning: Precision is ill-defined and being set to 0.0 due to no predicted samples. Use `zero_division` parameter to control this behavior.\n",
      "  _warn_prf(average, modifier, msg_start, len(result))\n"
     ]
    },
    {
     "data": {
      "image/png": "[encoded data removed]",
      "text/plain": [
       "<Figure size 432x288 with 2 Axes>"
      ]
     },
     "metadata": {
      "needs_background": "light"
     },
     "output_type": "display_data"
    }
   ],
   "source": [
    "# Instantiating our Dummy Model and fitting it to our training data\n",
    "dummy_clf = DummyClassifier(strategy='most_frequent')\n",
    "\n",
    "# Evaluating it \n",
    "evaluate(dummy_clf)"
   ]
  },
  {
   "cell_type": "markdown",
   "metadata": {},
   "source": [
    "### 4.2 Baseline Model - Logistic Regression \n",
    "\n",
    "   This will serve as our baseline model to compare the performance of our later model iterations to. "
   ]
  },
  {
   "cell_type": "code",
   "execution_count": 37,
   "metadata": {},
   "outputs": [
    {
     "name": "stdout",
     "output_type": "stream",
     "text": [
      "Recall Score:    0.3793103448275862\n",
      "Accuracy Score:  0.7525349762546528\n",
      "Precision Score: 0.005726184279021343\n"
     ]
    },
    {
     "data": {
      "image/png": "[encoded data removed]",
      "text/plain": [
       "<Figure size 432x288 with 2 Axes>"
      ]
     },
     "metadata": {
      "needs_background": "light"
     },
     "output_type": "display_data"
    }
   ],
   "source": [
    "# Instantiating our Logistic Regression Model and evaluating it \n",
    "logreg = LogisticRegression(random_state=seed, \n",
    "                            class_weight='balanced', \n",
    "                            max_iter=10e5)\n",
    "\n",
    "evaluate(logreg)"
   ]
  },
  {
   "cell_type": "markdown",
   "metadata": {},
   "source": [
    "### 4.3 K-Nearest Neighbors Model"
   ]
  },
  {
   "cell_type": "code",
   "execution_count": 38,
   "metadata": {},
   "outputs": [],
   "source": [
    "# KNN param grid\n",
    "pg3 = {'n_neighbors': [1, 3, 5, 11],\n",
    "       'weights': ['uniform', 'distance'],\n",
    "       'leaf_size': [5, 10, 30]}\n",
    "\n",
    "# The grid search is commented out to reduce notebook runtime, best parameters are input into tuned_knn\n",
    "\n",
    "# knn = KNeighborsClassifier()\n",
    "# tuned_knn = GridSearchCV(clf_3, pg3, cv=5, scoring='recall')\n",
    "# tuned_knn.fit(X_train_resampled, y_train_resampled)\n",
    "# print(tuned_knn.best_params_)"
   ]
  },
  {
   "cell_type": "code",
   "execution_count": 39,
   "metadata": {},
   "outputs": [
    {
     "name": "stdout",
     "output_type": "stream",
     "text": [
      "Recall Score:    0.034482758620689655\n",
      "Accuracy Score:  0.9933256321396483\n",
      "Precision Score: 0.04\n"
     ]
    },
    {
     "data": {
      "image/png": "[encoded data removed]",
      "text/plain": [
       "<Figure size 432x288 with 2 Axes>"
      ]
     },
     "metadata": {
      "needs_background": "light"
     },
     "output_type": "display_data"
    }
   ],
   "source": [
    "# Making our tuned knn with the parameters output by GridSearch\n",
    "tuned_knn = (KNeighborsClassifier(n_neighbors = 1, \n",
    "                                  leaf_size=10, \n",
    "                                  weights='distance'))\n",
    "\n",
    "# Looking at the results\n",
    "evaluate(tuned_knn)"
   ]
  },
  {
   "cell_type": "markdown",
   "metadata": {},
   "source": [
    "### 4.5 Decision Tree"
   ]
  },
  {
   "cell_type": "code",
   "execution_count": 40,
   "metadata": {
    "scrolled": true
   },
   "outputs": [],
   "source": [
    "# Decision Tree parameter grid\n",
    "pg4 = {'criterion': ['gini'],\n",
    "       'max_depth':[None],\n",
    "       'min_samples_split': [2, 10, 100],\n",
    "       'min_samples_leaf': [1],\n",
    "       'max_features':[None],\n",
    "       'max_leaf_nodes':[None, 100],\n",
    "       'class_weight':['balanced']}\n",
    "\n",
    "# Grid Search commented out to reduce notebook runtime\n",
    "\n",
    "# tree = DecisionTreeClassifier(random_state=seed)\n",
    "# tuned_tree = GridSearchCV(tree, pg4, cv=5, scoring='recall').fit(X_train_resampled, y_train_resampled)\n",
    "# tuned_tree.fit(X_train_resampled, y_train_resampled)\n",
    "# print(tuned_tree.best_params_)"
   ]
  },
  {
   "cell_type": "code",
   "execution_count": 41,
   "metadata": {},
   "outputs": [
    {
     "name": "stdout",
     "output_type": "stream",
     "text": [
      "Recall Score:    0.06896551724137931\n",
      "Accuracy Score:  0.9826723142087024\n",
      "Precision Score: 0.01818181818181818\n"
     ]
    },
    {
     "data": {
      "image/png": "[encoded data removed]",
      "text/plain": [
       "<Figure size 432x288 with 2 Axes>"
      ]
     },
     "metadata": {
      "needs_background": "light"
     },
     "output_type": "display_data"
    }
   ],
   "source": [
    "# Manually building tuned_tree, inputting parameters ouput by GridSearch\n",
    "tuned_tree = DecisionTreeClassifier(class_weight= 'balanced', \n",
    "                                    criterion= 'gini',\n",
    "                                    max_depth= None, \n",
    "                                    max_features= None, \n",
    "                                    max_leaf_nodes= None, \n",
    "                                    min_samples_leaf= 1, \n",
    "                                    min_samples_split= 10)\n",
    "\n",
    "# Checking its accuracy\n",
    "evaluate(tuned_tree)"
   ]
  },
  {
   "cell_type": "markdown",
   "metadata": {},
   "source": [
    "### 4.6 Random Forest"
   ]
  },
  {
   "cell_type": "code",
   "execution_count": 42,
   "metadata": {},
   "outputs": [],
   "source": [
    "pg5 = {'n_estimators' : [10, 100, 250],\n",
    "       'min_samples_split': [2, 4],\n",
    "       'min_samples_leaf': [1, 3],\n",
    "       'max_leaf_nodes': [None, 150],\n",
    "       'class_weight':['balanced'],}\n",
    "\n",
    "# The Grid Search is commented out to reduce notebook runtime \n",
    "\n",
    "forest = RandomForestClassifier(random_state=seed)\n",
    "forest_tuner = GridSearchCV(forest, pg5, cv=5, scoring='recall')\n",
    "# forest_tuner.fit(X_train_resampled, y_train_resampled)\n",
    "# forest_tuner.best_params_  "
   ]
  },
  {
   "cell_type": "code",
   "execution_count": 43,
   "metadata": {},
   "outputs": [
    {
     "name": "stdout",
     "output_type": "stream",
     "text": [
      "Recall Score:    0.0\n",
      "Accuracy Score:  0.9924271595430625\n",
      "Precision Score: 0.0\n"
     ]
    },
    {
     "data": {
      "image/png": "[encoded data removed]",
      "text/plain": [
       "<Figure size 432x288 with 2 Axes>"
      ]
     },
     "metadata": {
      "needs_background": "light"
     },
     "output_type": "display_data"
    }
   ],
   "source": [
    "# Manually inputting the results of Grid Search \n",
    "tuned_forest = RandomForestClassifier(random_state=seed,\n",
    "                                      class_weight= 'balanced',\n",
    "                                      max_leaf_nodes= 150,\n",
    "                                      min_samples_leaf= 1,\n",
    "                                      min_samples_split= 4,\n",
    "                                      n_estimators= 10)\n",
    "# Evalutation\n",
    "evaluate(tuned_forest)"
   ]
  },
  {
   "cell_type": "markdown",
   "metadata": {},
   "source": [
    "## 5. Model Iterations"
   ]
  },
  {
   "cell_type": "code",
   "execution_count": 44,
   "metadata": {},
   "outputs": [
    {
     "name": "stdout",
     "output_type": "stream",
     "text": [
      "Recall Score:    0.4827586206896552\n",
      "Accuracy Score:  0.7440636632011295\n",
      "Precision Score: 0.007024586051179127\n"
     ]
    },
    {
     "data": {
      "image/png": "[encoded data removed]",
      "text/plain": [
       "<Figure size 432x288 with 2 Axes>"
      ]
     },
     "metadata": {
      "needs_background": "light"
     },
     "output_type": "display_data"
    }
   ],
   "source": [
    "# Logistic Regression parameter grid\n",
    "pg2 = {'penalty': ['l2'],\n",
    "       'tol' : [.001 ,.0001, .00001],\n",
    "       'C' : [.003, .001, .0005],\n",
    "       'class_weight':['balanced'],\n",
    "       'max_iter':[10e10],\n",
    "       'solver':['newton-cg', 'lbfgs']\n",
    "       }\n",
    "\n",
    "# The grid search is commented out for runtime, best parameters are input into tuned_logreg\n",
    "\n",
    "# logreg = LogisticRegression(random_state=seed)\n",
    "# tuned_logreg = GridSearchCV(logreg, pg2, cv=5, scoring='recall')\n",
    "# tuned_logreg.fit(X_train_encoded, y_train)\n",
    "# print(tuned_logreg.best_params_)\n",
    "\n",
    "tuned_logreg_1 = LogisticRegression(C= 0.001, \n",
    "                                  class_weight= 'balanced', \n",
    "                                  max_iter= 100000000000.0, \n",
    "                                  penalty= 'l2', \n",
    "                                  solver= 'newton-cg', \n",
    "                                  tol= 0.001)\n",
    "\n",
    "evaluate(tuned_logreg_1)"
   ]
  },
  {
   "cell_type": "code",
   "execution_count": 45,
   "metadata": {},
   "outputs": [
    {
     "name": "stdout",
     "output_type": "stream",
     "text": [
      "Recall Score:    0.5862068965517241\n",
      "Accuracy Score:  0.7196765498652291\n",
      "Precision Score: 0.0077661032434901784\n"
     ]
    },
    {
     "data": {
      "image/png": "[encoded data removed]",
      "text/plain": [
       "<Figure size 432x288 with 2 Axes>"
      ]
     },
     "metadata": {
      "needs_background": "light"
     },
     "output_type": "display_data"
    }
   ],
   "source": [
    "tuned_logreg_2 = LogisticRegression(C= 0.0001, \n",
    "                                    class_weight= 'balanced', \n",
    "                                    max_iter= 10e12, \n",
    "                                    penalty= 'l2', \n",
    "                                    solver= 'lbfgs', \n",
    "                                    tol= 0.001)\n",
    "\n",
    "evaluate(tuned_logreg_2)"
   ]
  },
  {
   "cell_type": "markdown",
   "metadata": {},
   "source": [
    "## 6. Final Model Evaluation and Analysis"
   ]
  },
  {
   "cell_type": "markdown",
   "metadata": {},
   "source": [
    "### 6.1 Running our Final Model on the Holdout Data"
   ]
  },
  {
   "cell_type": "code",
   "execution_count": 46,
   "metadata": {
    "scrolled": false
   },
   "outputs": [
    {
     "name": "stdout",
     "output_type": "stream",
     "text": [
      "Recall Score: 0.6875\n",
      "Accuracy Score: 0.7104898336414048\n"
     ]
    },
    {
     "data": {
      "image/png": "[encoded data removed]",
      "text/plain": [
       "<Figure size 432x288 with 2 Axes>"
      ]
     },
     "metadata": {
      "needs_background": "light"
     },
     "output_type": "display_data"
    }
   ],
   "source": [
    "# Instantiating our final model as a pipeline consisting of our preprocessor and our classifier. \n",
    "final_clf = Pipeline(steps=[\n",
    "    ('pre', preprocessor),\n",
    "    ('clf', LogisticRegression(C= 0.00001, \n",
    "                               class_weight= 'balanced', \n",
    "                               max_iter= 10e12, \n",
    "                               penalty= 'l2', \n",
    "                               solver= 'lbfgs', \n",
    "                               tol= 0.001))              ])\n",
    "\n",
    "# Fitting to our entire training data set\n",
    "final_clf.fit(X_train, y_train)\n",
    "\n",
    "# Checking the results\n",
    "plot_confusion_matrix(final_clf, X_hold, y_hold)\n",
    "y_preds = final_clf.predict(X_hold)\n",
    "print(f'Recall Score: {recall_score(y_hold, y_preds)}')\n",
    "print(f'Accuracy Score: {accuracy_score(y_hold, y_preds)}')"
   ]
  },
  {
   "cell_type": "markdown",
   "metadata": {},
   "source": [
    "### 6.2 Model Performance Analysis\n",
    "\n",
    "The performance of this model was always going to be severly limited by the rare nature of our minority class. The final model has an accuracy of 71%, which is a far cry from the 99.5% accuracy of our initial dummy model, but our model can actually detect positives! The goal of this analysis was never to build an accurate classification model, the goal was to see what patterns emerged as we trained this model to be as good at detecting positives (lethal collisions). Unlike our dummy model with its recall score of 0, our model finished with a recall score of 68.75%, much better than simply guessing the majority class every time. The next step will be to pull the coefficients out of our fitted Logistic Regression, and see what factors make for the most deadly cycling collisions. "
   ]
  },
  {
   "cell_type": "markdown",
   "metadata": {},
   "source": [
    "### 6.3 Feature Coefficients"
   ]
  },
  {
   "cell_type": "code",
   "execution_count": 47,
   "metadata": {},
   "outputs": [
    {
     "name": "stdout",
     "output_type": "stream",
     "text": [
      "                                          0\n",
      "Vehicle Type_Large Truck           0.013703\n",
      "Zip Code                           0.006488\n",
      "Borough_BROOKLYN                   0.006009\n",
      "Year_2019                          0.004411\n",
      "Vehicle Type_Bus                   0.004254\n",
      "Year_2017                          0.004105\n",
      "Hour_0                             0.004044\n",
      "Hour_6                             0.003656\n",
      "Month_6                            0.003525\n",
      "Year_2020                          0.003521\n",
      "Cross Street                       0.003006\n",
      "Vehicle Type_Pickup                0.002899\n",
      "Hour_7                             0.002372\n",
      "Hour_23                            0.002257\n",
      "Holiday Collision_1                0.001986\n",
      "Hour_8                             0.001878\n",
      "Month_7                            0.001838\n",
      "Year_2014                          0.001598\n",
      "Month_4                            0.001505\n",
      "Hour_1                             0.001400\n",
      "Month_9                            0.001233\n",
      "Vehicle Type_Work Van              0.001205\n",
      "Hour_5                             0.001203\n",
      "Hour_3                             0.001190\n",
      "Hour_9                             0.001184\n",
      "Borough_STATEN ISLAND              0.001058\n",
      "Month_1                            0.000992\n",
      "Month_11                           0.000981\n",
      "Borough_BRONX                      0.000797\n",
      "Hour_22                            0.000751\n",
      "Vehicle Type_Vehicle Type Unknown  0.000726\n",
      "Hour_21                            0.000439\n",
      "Month_5                            0.000431\n",
      "Hour_17                            0.000123\n",
      "Hour_2                            -0.000083\n",
      "Hour_10                           -0.000338\n",
      "Hour_4                            -0.000496\n",
      "Hour_19                           -0.000686\n",
      "Year_2021                         -0.000764\n",
      "Borough_QUEENS                    -0.000778\n",
      "Vehicle Type_Scooter              -0.000843\n",
      "Hour_12                           -0.000927\n",
      "Month_2                           -0.001013\n",
      "Year_2012                         -0.001045\n",
      "Vehicle Type_Taxi                 -0.001354\n",
      "Hour_14                           -0.001436\n",
      "Hour_13                           -0.001518\n",
      "Month_12                          -0.001569\n",
      "Year_2016                         -0.001927\n",
      "Holiday Collision_0               -0.001986\n",
      "Month_8                           -0.002111\n",
      "Hour_16                           -0.002260\n",
      "Hour_20                           -0.002313\n",
      "Year_2015                         -0.002368\n",
      "Hour_11                           -0.002789\n",
      "Month_3                           -0.002816\n",
      "Month_10                          -0.002996\n",
      "Year_2013                         -0.003215\n",
      "Hour_15                           -0.003595\n",
      "Hour_18                           -0.004057\n",
      "Year_2018                         -0.004316\n",
      "Street                            -0.006500\n",
      "Vehicle Type_SUV                  -0.006572\n",
      "Borough_MANHATTAN                 -0.007087\n",
      "Factor 1                          -0.008628\n",
      "Vehicle Type_Sedan                -0.014018\n"
     ]
    }
   ],
   "source": [
    "# Getting the coefficients back out of our model \n",
    "coefficients = list(final_clf['clf'].coef_[0])\n",
    "\n",
    "# Getting the column names out of our preprocessor\n",
    "cols_1 = final_clf['pre'].transformers_[0][1]['ohe'].get_feature_names(one_hots)\n",
    "cols_2 = final_clf['pre'].transformers_[1][2]\n",
    "transformed_cols = [*cols_1, *cols_2]\n",
    "\n",
    "# Turning the results into a dataframe, sorted by strongest indicators of lethality to weakest\n",
    "results = pd.DataFrame(coefficients,index=transformed_cols).sort_values(by=0, ascending=False)\n",
    "print(results)      "
   ]
  },
  {
   "cell_type": "markdown",
   "metadata": {},
   "source": [
    "### 6.4 Feature Analysis\n",
    "\n",
    "The first step we took was to write a custom function 'order_feature_lists' which returns an dictionary with each input column's values sorted by how important our classifier found them in determining fatal accidents. While it does this for all columns, this function is only really relevant for our one hot encoded features. "
   ]
  },
  {
   "cell_type": "code",
   "execution_count": 48,
   "metadata": {},
   "outputs": [],
   "source": [
    "# Creating our function\n",
    "def order_feature_lists():\n",
    "    '''This function goes through the dataframe holding our results, \n",
    "    and lists the values from each column, ranked by descending \n",
    "    coefficient value. This means that the values at the top of the \n",
    "    list were the most indicative of a fatal crash.'''\n",
    "    \n",
    "    dicty = {}\n",
    "    \n",
    "    for col in X_hold.columns:\n",
    "        listy = []\n",
    "        for i in range(len(results)):\n",
    "            if col in results.index[i]:\n",
    "                listy.append(results.iloc[i])      \n",
    "        dicty[col] = pd.DataFrame(listy)\n",
    "        \n",
    "    return dicty\n",
    "\n",
    "# Running our function and saving it to 'features'\n",
    "features = order_feature_lists()"
   ]
  },
  {
   "cell_type": "markdown",
   "metadata": {},
   "source": [
    "### 6.4.1 Collision Year \n",
    "\n",
    "The three years topping our lists are (in order of coefficient) 2019, 2017, and 2020. This tells us that cycling fatalities are not declining over time, as the top three most dangerous years are all very recent. This feature shows cycling fatalities are a problem that the City of New York needs to put more effort into immediately."
   ]
  },
  {
   "cell_type": "code",
   "execution_count": 49,
   "metadata": {
    "scrolled": true
   },
   "outputs": [
    {
     "data": {
      "text/html": [
       "<div>\n",
       "<style scoped>\n",
       "    .dataframe tbody tr th:only-of-type {\n",
       "        vertical-align: middle;\n",
       "    }\n",
       "\n",
       "    .dataframe tbody tr th {\n",
       "        vertical-align: top;\n",
       "    }\n",
       "\n",
       "    .dataframe thead th {\n",
       "        text-align: right;\n",
       "    }\n",
       "</style>\n",
       "<table border=\"1\" class=\"dataframe\">\n",
       "  <thead>\n",
       "    <tr style=\"text-align: right;\">\n",
       "      <th></th>\n",
       "      <th>0</th>\n",
       "    </tr>\n",
       "  </thead>\n",
       "  <tbody>\n",
       "    <tr>\n",
       "      <th>Year_2019</th>\n",
       "      <td>0.004411</td>\n",
       "    </tr>\n",
       "    <tr>\n",
       "      <th>Year_2017</th>\n",
       "      <td>0.004105</td>\n",
       "    </tr>\n",
       "    <tr>\n",
       "      <th>Year_2020</th>\n",
       "      <td>0.003521</td>\n",
       "    </tr>\n",
       "    <tr>\n",
       "      <th>Year_2014</th>\n",
       "      <td>0.001598</td>\n",
       "    </tr>\n",
       "    <tr>\n",
       "      <th>Year_2021</th>\n",
       "      <td>-0.000764</td>\n",
       "    </tr>\n",
       "    <tr>\n",
       "      <th>Year_2012</th>\n",
       "      <td>-0.001045</td>\n",
       "    </tr>\n",
       "    <tr>\n",
       "      <th>Year_2016</th>\n",
       "      <td>-0.001927</td>\n",
       "    </tr>\n",
       "    <tr>\n",
       "      <th>Year_2015</th>\n",
       "      <td>-0.002368</td>\n",
       "    </tr>\n",
       "    <tr>\n",
       "      <th>Year_2013</th>\n",
       "      <td>-0.003215</td>\n",
       "    </tr>\n",
       "    <tr>\n",
       "      <th>Year_2018</th>\n",
       "      <td>-0.004316</td>\n",
       "    </tr>\n",
       "  </tbody>\n",
       "</table>\n",
       "</div>"
      ],
      "text/plain": [
       "                  0\n",
       "Year_2019  0.004411\n",
       "Year_2017  0.004105\n",
       "Year_2020  0.003521\n",
       "Year_2014  0.001598\n",
       "Year_2021 -0.000764\n",
       "Year_2012 -0.001045\n",
       "Year_2016 -0.001927\n",
       "Year_2015 -0.002368\n",
       "Year_2013 -0.003215\n",
       "Year_2018 -0.004316"
      ]
     },
     "execution_count": 49,
     "metadata": {},
     "output_type": "execute_result"
    }
   ],
   "source": [
    "features['Year']"
   ]
  },
  {
   "cell_type": "markdown",
   "metadata": {},
   "source": [
    "### 6.4.2 Collision Month \n",
    "\n",
    "The pattern in this column is slightly harder to break down, however what is clear is June and July topping the list, with June way out ahead of the rest. This tells us that the increased ridership of the summer months leads to an overall increase in cycling fatalities. If the city is interested in reducing the number of cycling fatalities each year, they should double down on their temporary measures, such as traffic cops at intersections, in these summer months. Other, more permanent changes to infrastructure such as new bike lanes, are less informed by this feature because they would prevent cycling deaths year round. "
   ]
  },
  {
   "cell_type": "code",
   "execution_count": 50,
   "metadata": {},
   "outputs": [
    {
     "data": {
      "text/html": [
       "<div>\n",
       "<style scoped>\n",
       "    .dataframe tbody tr th:only-of-type {\n",
       "        vertical-align: middle;\n",
       "    }\n",
       "\n",
       "    .dataframe tbody tr th {\n",
       "        vertical-align: top;\n",
       "    }\n",
       "\n",
       "    .dataframe thead th {\n",
       "        text-align: right;\n",
       "    }\n",
       "</style>\n",
       "<table border=\"1\" class=\"dataframe\">\n",
       "  <thead>\n",
       "    <tr style=\"text-align: right;\">\n",
       "      <th></th>\n",
       "      <th>0</th>\n",
       "    </tr>\n",
       "  </thead>\n",
       "  <tbody>\n",
       "    <tr>\n",
       "      <th>Month_6</th>\n",
       "      <td>0.003525</td>\n",
       "    </tr>\n",
       "    <tr>\n",
       "      <th>Month_7</th>\n",
       "      <td>0.001838</td>\n",
       "    </tr>\n",
       "    <tr>\n",
       "      <th>Month_4</th>\n",
       "      <td>0.001505</td>\n",
       "    </tr>\n",
       "    <tr>\n",
       "      <th>Month_9</th>\n",
       "      <td>0.001233</td>\n",
       "    </tr>\n",
       "    <tr>\n",
       "      <th>Month_1</th>\n",
       "      <td>0.000992</td>\n",
       "    </tr>\n",
       "    <tr>\n",
       "      <th>Month_11</th>\n",
       "      <td>0.000981</td>\n",
       "    </tr>\n",
       "    <tr>\n",
       "      <th>Month_5</th>\n",
       "      <td>0.000431</td>\n",
       "    </tr>\n",
       "    <tr>\n",
       "      <th>Month_2</th>\n",
       "      <td>-0.001013</td>\n",
       "    </tr>\n",
       "    <tr>\n",
       "      <th>Month_12</th>\n",
       "      <td>-0.001569</td>\n",
       "    </tr>\n",
       "    <tr>\n",
       "      <th>Month_8</th>\n",
       "      <td>-0.002111</td>\n",
       "    </tr>\n",
       "    <tr>\n",
       "      <th>Month_3</th>\n",
       "      <td>-0.002816</td>\n",
       "    </tr>\n",
       "    <tr>\n",
       "      <th>Month_10</th>\n",
       "      <td>-0.002996</td>\n",
       "    </tr>\n",
       "  </tbody>\n",
       "</table>\n",
       "</div>"
      ],
      "text/plain": [
       "                 0\n",
       "Month_6   0.003525\n",
       "Month_7   0.001838\n",
       "Month_4   0.001505\n",
       "Month_9   0.001233\n",
       "Month_1   0.000992\n",
       "Month_11  0.000981\n",
       "Month_5   0.000431\n",
       "Month_2  -0.001013\n",
       "Month_12 -0.001569\n",
       "Month_8  -0.002111\n",
       "Month_3  -0.002816\n",
       "Month_10 -0.002996"
      ]
     },
     "execution_count": 50,
     "metadata": {},
     "output_type": "execute_result"
    }
   ],
   "source": [
    "features['Month']"
   ]
  },
  {
   "cell_type": "markdown",
   "metadata": {},
   "source": [
    "### 6.4.3 Hour \n",
    "\n",
    "The information provided by these coefficients may not be surprising to the city, but they are informative nonetheless. This data clearly shows that the middle of the night, into the rush hours are the most lethal times for cyclists. Visibility of cyclists is at a low at night, and drunk and reckless driving peaks in the midnight hours. The morning rush hours are also dangerous, likely due simply to large amounts of traffic. The city could take action by installing better lighting on dark streets, running campaigns to get cyclists to wear more visible clothing and add lights to their bikes, as well as crack down on drunk driving, and utilize more officers in the direction of traffic."
   ]
  },
  {
   "cell_type": "code",
   "execution_count": 51,
   "metadata": {},
   "outputs": [
    {
     "data": {
      "text/html": [
       "<div>\n",
       "<style scoped>\n",
       "    .dataframe tbody tr th:only-of-type {\n",
       "        vertical-align: middle;\n",
       "    }\n",
       "\n",
       "    .dataframe tbody tr th {\n",
       "        vertical-align: top;\n",
       "    }\n",
       "\n",
       "    .dataframe thead th {\n",
       "        text-align: right;\n",
       "    }\n",
       "</style>\n",
       "<table border=\"1\" class=\"dataframe\">\n",
       "  <thead>\n",
       "    <tr style=\"text-align: right;\">\n",
       "      <th></th>\n",
       "      <th>0</th>\n",
       "    </tr>\n",
       "  </thead>\n",
       "  <tbody>\n",
       "    <tr>\n",
       "      <th>Hour_0</th>\n",
       "      <td>0.004044</td>\n",
       "    </tr>\n",
       "    <tr>\n",
       "      <th>Hour_6</th>\n",
       "      <td>0.003656</td>\n",
       "    </tr>\n",
       "    <tr>\n",
       "      <th>Hour_7</th>\n",
       "      <td>0.002372</td>\n",
       "    </tr>\n",
       "    <tr>\n",
       "      <th>Hour_23</th>\n",
       "      <td>0.002257</td>\n",
       "    </tr>\n",
       "    <tr>\n",
       "      <th>Hour_8</th>\n",
       "      <td>0.001878</td>\n",
       "    </tr>\n",
       "    <tr>\n",
       "      <th>Hour_1</th>\n",
       "      <td>0.001400</td>\n",
       "    </tr>\n",
       "    <tr>\n",
       "      <th>Hour_5</th>\n",
       "      <td>0.001203</td>\n",
       "    </tr>\n",
       "    <tr>\n",
       "      <th>Hour_3</th>\n",
       "      <td>0.001190</td>\n",
       "    </tr>\n",
       "    <tr>\n",
       "      <th>Hour_9</th>\n",
       "      <td>0.001184</td>\n",
       "    </tr>\n",
       "    <tr>\n",
       "      <th>Hour_22</th>\n",
       "      <td>0.000751</td>\n",
       "    </tr>\n",
       "    <tr>\n",
       "      <th>Hour_21</th>\n",
       "      <td>0.000439</td>\n",
       "    </tr>\n",
       "    <tr>\n",
       "      <th>Hour_17</th>\n",
       "      <td>0.000123</td>\n",
       "    </tr>\n",
       "    <tr>\n",
       "      <th>Hour_2</th>\n",
       "      <td>-0.000083</td>\n",
       "    </tr>\n",
       "    <tr>\n",
       "      <th>Hour_10</th>\n",
       "      <td>-0.000338</td>\n",
       "    </tr>\n",
       "    <tr>\n",
       "      <th>Hour_4</th>\n",
       "      <td>-0.000496</td>\n",
       "    </tr>\n",
       "    <tr>\n",
       "      <th>Hour_19</th>\n",
       "      <td>-0.000686</td>\n",
       "    </tr>\n",
       "    <tr>\n",
       "      <th>Hour_12</th>\n",
       "      <td>-0.000927</td>\n",
       "    </tr>\n",
       "    <tr>\n",
       "      <th>Hour_14</th>\n",
       "      <td>-0.001436</td>\n",
       "    </tr>\n",
       "    <tr>\n",
       "      <th>Hour_13</th>\n",
       "      <td>-0.001518</td>\n",
       "    </tr>\n",
       "    <tr>\n",
       "      <th>Hour_16</th>\n",
       "      <td>-0.002260</td>\n",
       "    </tr>\n",
       "    <tr>\n",
       "      <th>Hour_20</th>\n",
       "      <td>-0.002313</td>\n",
       "    </tr>\n",
       "    <tr>\n",
       "      <th>Hour_11</th>\n",
       "      <td>-0.002789</td>\n",
       "    </tr>\n",
       "    <tr>\n",
       "      <th>Hour_15</th>\n",
       "      <td>-0.003595</td>\n",
       "    </tr>\n",
       "    <tr>\n",
       "      <th>Hour_18</th>\n",
       "      <td>-0.004057</td>\n",
       "    </tr>\n",
       "  </tbody>\n",
       "</table>\n",
       "</div>"
      ],
      "text/plain": [
       "                0\n",
       "Hour_0   0.004044\n",
       "Hour_6   0.003656\n",
       "Hour_7   0.002372\n",
       "Hour_23  0.002257\n",
       "Hour_8   0.001878\n",
       "Hour_1   0.001400\n",
       "Hour_5   0.001203\n",
       "Hour_3   0.001190\n",
       "Hour_9   0.001184\n",
       "Hour_22  0.000751\n",
       "Hour_21  0.000439\n",
       "Hour_17  0.000123\n",
       "Hour_2  -0.000083\n",
       "Hour_10 -0.000338\n",
       "Hour_4  -0.000496\n",
       "Hour_19 -0.000686\n",
       "Hour_12 -0.000927\n",
       "Hour_14 -0.001436\n",
       "Hour_13 -0.001518\n",
       "Hour_16 -0.002260\n",
       "Hour_20 -0.002313\n",
       "Hour_11 -0.002789\n",
       "Hour_15 -0.003595\n",
       "Hour_18 -0.004057"
      ]
     },
     "execution_count": 51,
     "metadata": {},
     "output_type": "execute_result"
    }
   ],
   "source": [
    "features['Hour']"
   ]
  },
  {
   "cell_type": "markdown",
   "metadata": {},
   "source": [
    "### 6.4.4 Holiday \n",
    "\n",
    "These coefficients tell us that Holidays such as Thanksgiving, Christmas, July 4th, Memorial Day, and New Years Eve are all more dangerous times for cyclists in the city. These are some of the heaviest travel days of the year, as well as the Drunk Driving capitals of the year. The city could focus on these dates to help reduce cycling fatalities."
   ]
  },
  {
   "cell_type": "code",
   "execution_count": 52,
   "metadata": {},
   "outputs": [
    {
     "data": {
      "text/html": [
       "<div>\n",
       "<style scoped>\n",
       "    .dataframe tbody tr th:only-of-type {\n",
       "        vertical-align: middle;\n",
       "    }\n",
       "\n",
       "    .dataframe tbody tr th {\n",
       "        vertical-align: top;\n",
       "    }\n",
       "\n",
       "    .dataframe thead th {\n",
       "        text-align: right;\n",
       "    }\n",
       "</style>\n",
       "<table border=\"1\" class=\"dataframe\">\n",
       "  <thead>\n",
       "    <tr style=\"text-align: right;\">\n",
       "      <th></th>\n",
       "      <th>0</th>\n",
       "    </tr>\n",
       "  </thead>\n",
       "  <tbody>\n",
       "    <tr>\n",
       "      <th>Holiday Collision_1</th>\n",
       "      <td>0.001986</td>\n",
       "    </tr>\n",
       "    <tr>\n",
       "      <th>Holiday Collision_0</th>\n",
       "      <td>-0.001986</td>\n",
       "    </tr>\n",
       "  </tbody>\n",
       "</table>\n",
       "</div>"
      ],
      "text/plain": [
       "                            0\n",
       "Holiday Collision_1  0.001986\n",
       "Holiday Collision_0 -0.001986"
      ]
     },
     "execution_count": 52,
     "metadata": {},
     "output_type": "execute_result"
    }
   ],
   "source": [
    "features['Holiday Collision']"
   ]
  },
  {
   "cell_type": "markdown",
   "metadata": {},
   "source": [
    "### 6.4.5 Borough\n",
    "\n",
    "This list of the Boroughs in order of borough as an indicator of collision lethality will tell the city where they need to focus their efforts geographically. "
   ]
  },
  {
   "cell_type": "code",
   "execution_count": 53,
   "metadata": {
    "scrolled": true
   },
   "outputs": [
    {
     "data": {
      "text/html": [
       "<div>\n",
       "<style scoped>\n",
       "    .dataframe tbody tr th:only-of-type {\n",
       "        vertical-align: middle;\n",
       "    }\n",
       "\n",
       "    .dataframe tbody tr th {\n",
       "        vertical-align: top;\n",
       "    }\n",
       "\n",
       "    .dataframe thead th {\n",
       "        text-align: right;\n",
       "    }\n",
       "</style>\n",
       "<table border=\"1\" class=\"dataframe\">\n",
       "  <thead>\n",
       "    <tr style=\"text-align: right;\">\n",
       "      <th></th>\n",
       "      <th>0</th>\n",
       "    </tr>\n",
       "  </thead>\n",
       "  <tbody>\n",
       "    <tr>\n",
       "      <th>Borough_BROOKLYN</th>\n",
       "      <td>0.006009</td>\n",
       "    </tr>\n",
       "    <tr>\n",
       "      <th>Borough_STATEN ISLAND</th>\n",
       "      <td>0.001058</td>\n",
       "    </tr>\n",
       "    <tr>\n",
       "      <th>Borough_BRONX</th>\n",
       "      <td>0.000797</td>\n",
       "    </tr>\n",
       "    <tr>\n",
       "      <th>Borough_QUEENS</th>\n",
       "      <td>-0.000778</td>\n",
       "    </tr>\n",
       "    <tr>\n",
       "      <th>Borough_MANHATTAN</th>\n",
       "      <td>-0.007087</td>\n",
       "    </tr>\n",
       "  </tbody>\n",
       "</table>\n",
       "</div>"
      ],
      "text/plain": [
       "                              0\n",
       "Borough_BROOKLYN       0.006009\n",
       "Borough_STATEN ISLAND  0.001058\n",
       "Borough_BRONX          0.000797\n",
       "Borough_QUEENS        -0.000778\n",
       "Borough_MANHATTAN     -0.007087"
      ]
     },
     "execution_count": 53,
     "metadata": {},
     "output_type": "execute_result"
    }
   ],
   "source": [
    "features['Borough']"
   ]
  },
  {
   "cell_type": "markdown",
   "metadata": {},
   "source": [
    "### 6.4.6 Vehicle Type\n",
    "\n",
    "From our original list of all the coefficients produced by our model, vehicle type: Large Truck topped the list as the best indicator that a collision would be fatal. It is pretty intuitive that on average, the larger the vehicle involved, the worse the outcome for the cyclist. Our model shows exactly that, and even tells us that smaller cars like sedans are connected to a decrease in lethal outcomes for cyclists. "
   ]
  },
  {
   "cell_type": "code",
   "execution_count": 54,
   "metadata": {
    "scrolled": true
   },
   "outputs": [
    {
     "data": {
      "text/html": [
       "<div>\n",
       "<style scoped>\n",
       "    .dataframe tbody tr th:only-of-type {\n",
       "        vertical-align: middle;\n",
       "    }\n",
       "\n",
       "    .dataframe tbody tr th {\n",
       "        vertical-align: top;\n",
       "    }\n",
       "\n",
       "    .dataframe thead th {\n",
       "        text-align: right;\n",
       "    }\n",
       "</style>\n",
       "<table border=\"1\" class=\"dataframe\">\n",
       "  <thead>\n",
       "    <tr style=\"text-align: right;\">\n",
       "      <th></th>\n",
       "      <th>0</th>\n",
       "    </tr>\n",
       "  </thead>\n",
       "  <tbody>\n",
       "    <tr>\n",
       "      <th>Vehicle Type_Large Truck</th>\n",
       "      <td>0.013703</td>\n",
       "    </tr>\n",
       "    <tr>\n",
       "      <th>Vehicle Type_Bus</th>\n",
       "      <td>0.004254</td>\n",
       "    </tr>\n",
       "    <tr>\n",
       "      <th>Vehicle Type_Pickup</th>\n",
       "      <td>0.002899</td>\n",
       "    </tr>\n",
       "    <tr>\n",
       "      <th>Vehicle Type_Work Van</th>\n",
       "      <td>0.001205</td>\n",
       "    </tr>\n",
       "    <tr>\n",
       "      <th>Vehicle Type_Vehicle Type Unknown</th>\n",
       "      <td>0.000726</td>\n",
       "    </tr>\n",
       "    <tr>\n",
       "      <th>Vehicle Type_Scooter</th>\n",
       "      <td>-0.000843</td>\n",
       "    </tr>\n",
       "    <tr>\n",
       "      <th>Vehicle Type_Taxi</th>\n",
       "      <td>-0.001354</td>\n",
       "    </tr>\n",
       "    <tr>\n",
       "      <th>Vehicle Type_SUV</th>\n",
       "      <td>-0.006572</td>\n",
       "    </tr>\n",
       "    <tr>\n",
       "      <th>Vehicle Type_Sedan</th>\n",
       "      <td>-0.014018</td>\n",
       "    </tr>\n",
       "  </tbody>\n",
       "</table>\n",
       "</div>"
      ],
      "text/plain": [
       "                                          0\n",
       "Vehicle Type_Large Truck           0.013703\n",
       "Vehicle Type_Bus                   0.004254\n",
       "Vehicle Type_Pickup                0.002899\n",
       "Vehicle Type_Work Van              0.001205\n",
       "Vehicle Type_Vehicle Type Unknown  0.000726\n",
       "Vehicle Type_Scooter              -0.000843\n",
       "Vehicle Type_Taxi                 -0.001354\n",
       "Vehicle Type_SUV                  -0.006572\n",
       "Vehicle Type_Sedan                -0.014018"
      ]
     },
     "execution_count": 54,
     "metadata": {},
     "output_type": "execute_result"
    }
   ],
   "source": [
    "features['Vehicle Type']"
   ]
  },
  {
   "cell_type": "markdown",
   "metadata": {},
   "source": [
    "## 7. Key Takeaways and Next Steps\n",
    "\n",
    "### 7.1 Key Takeaways\n",
    "\n",
    "   1. Large Trucks and Buses. One of the most effective changes the city could enact is to figure out how to reduce the number of cyclists killed by large vehicle. Whether this means changes to bike lane infrastructure, restricting which streets large vehicles can drive on, cyclist saftey training programs, or special training for city bus drivers and people who have commercial drivers licenses in NYC. \n",
    "   \n",
    "   2. Zipcode. As the second strongest indicator of lethality zipcode is an aspect to crashes that cannot be ignored by the city. Luckily this indicator is highly informative for the city in terms of where geographically to focus their efforts. \n",
    "   \n",
    "   3. Brooklyn. With a huge number of cyclists, Brooklyn is definitely another piece of the geographical puzzle when it comes to the city reducing cycling fatalities. \n",
    "   \n",
    "   4. Time of Day. The city could do a lot by cracking down on drunk and reckless driving in the late night and early morning, as well as run campaigns urging cyclists to wear more visible clothing and use lights after sundown. More traffic control officers during rush hour could also make a large difference. \n",
    "   \n",
    "### 7.2 Possible Next Steps\n",
    "\n",
    "1. Fill in NaN values in Borough and Zipcode using latitude and longitude data. \n",
    "\n",
    "2. Build an intersection feature using Street and Cross Street that finds the cities most dangerous intersections. \n",
    "\n",
    "3. Look at bicycles vs E-Bikes in terms of collision lethality. "
   ]
  },
  {
   "cell_type": "code",
   "execution_count": null,
   "metadata": {},
   "outputs": [],
   "source": []
  }
 ],
 "metadata": {
  "kernelspec": {
   "display_name": "Python (learn-env)",
   "language": "python",
   "name": "learn-env"
  },
  "language_info": {
   "codemirror_mode": {
    "name": "ipython",
    "version": 3
   },
   "file_extension": ".py",
   "mimetype": "text/x-python",
   "name": "python",
   "nbconvert_exporter": "python",
   "pygments_lexer": "ipython3",
   "version": "3.8.5"
  }
 },
 "nbformat": 4,
 "nbformat_minor": 4
}
