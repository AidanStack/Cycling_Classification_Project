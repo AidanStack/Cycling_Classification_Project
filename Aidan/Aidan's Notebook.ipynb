{
 "cells": [
  {
   "cell_type": "markdown",
   "metadata": {},
   "source": [
    "# Phase 3 Classification Project - NYC Cycling Fatalities "
   ]
  },
  {
   "cell_type": "markdown",
   "metadata": {},
   "source": [
    "## Business Problem and Overview\n",
    "\n",
    "   Our proposed client is the City of New York itself. The city government has come under fire from constituents and cyclist advocacy groups for the dangerous conditions cyclists endure. The city's transportation leadership want to know what conditions lead to deadly traffic collisions for New York's cyclists. The classification model in this instance is not the end product, as once the city has a record of the accident, they already know if a cyclist has died or not. The final product of this analysis will be the emergent patters revealed by what parameters make for a classification model capable of predicting fatal cycling accidents.\n",
    "   \n",
    "   Fittingly, the City of New York is also the source of our data. Our dataset comes in the form of 1.8 million rows detailing motor vehicle collisions that have occured in NYC. The city publishes this data via the NYC Open Data project, an initiative undertaken by the city to make publicly aggregated data accessible to citizens. The data spans nearly a decade, covering dates from July 2012, and is updated almost daily. \n",
    "   \n",
    "   Our dataset is highly imbalanced (99.5% - .5%) which means that using accuracy score as a default would be a mistake, as even a dummy model that simply guessed the majority class every time would have an accuracy of 99.5%. For our purposes, a metric such as recall would work much better, as judging our model on its ability to find the true positives (lethal collisions). "
   ]
  },
  {
   "cell_type": "markdown",
   "metadata": {},
   "source": [
    "## 1. Data Understanding"
   ]
  },
  {
   "cell_type": "markdown",
   "metadata": {},
   "source": [
    "### 1.1 Import the Relevant Libraries, Modules, and Functions"
   ]
  },
  {
   "cell_type": "code",
   "execution_count": 1,
   "metadata": {},
   "outputs": [],
   "source": [
    "import numpy as np\n",
    "import pandas as pd\n",
    "\n",
    "from sklearn.model_selection import train_test_split, cross_val_score, GridSearchCV, cross_validate\n",
    "from sklearn.metrics import plot_confusion_matrix, classification_report, roc_auc_score\n",
    "from sklearn.metrics import precision_score, recall_score, accuracy_score, f1_score\n",
    "from sklearn.preprocessing import OneHotEncoder, LabelEncoder, OrdinalEncoder\n",
    "from sklearn.impute import SimpleImputer\n",
    "from sklearn.compose import ColumnTransformer\n",
    "from sklearn.pipeline import Pipeline\n",
    "from sklearn.dummy import DummyClassifier\n",
    "from sklearn.linear_model import LogisticRegression\n",
    "from sklearn.neighbors import KNeighborsClassifier\n",
    "from sklearn.naive_bayes import GaussianNB\n",
    "from sklearn.tree import DecisionTreeClassifier\n",
    "from sklearn.ensemble import RandomForestClassifier, GradientBoostingClassifier\n",
    "\n",
    "\n",
    "# This pandas option makes sure the juptyer notebook displays all the columns \n",
    "pd.set_option('display.max_columns', None)\n",
    "pd.set_option('display.max_rows', None)\n",
    "\n",
    "seed = 6"
   ]
  },
  {
   "cell_type": "markdown",
   "metadata": {},
   "source": [
    "### 1.2 CSV Into Pandas Dataframe"
   ]
  },
  {
   "cell_type": "code",
   "execution_count": 2,
   "metadata": {
    "scrolled": false
   },
   "outputs": [],
   "source": [
    "# Here we read our csv into a pandas dataframe. This can take a while. \n",
    "df = pd.read_csv('../data/Motor_Vehicle_Collisions.csv', low_memory=False)"
   ]
  },
  {
   "cell_type": "code",
   "execution_count": 3,
   "metadata": {
    "scrolled": false
   },
   "outputs": [
    {
     "name": "stdout",
     "output_type": "stream",
     "text": [
      "<class 'pandas.core.frame.DataFrame'>\n",
      "RangeIndex: 1830092 entries, 0 to 1830091\n",
      "Data columns (total 29 columns):\n",
      " #   Column                         Dtype  \n",
      "---  ------                         -----  \n",
      " 0   CRASH DATE                     object \n",
      " 1   CRASH TIME                     object \n",
      " 2   BOROUGH                        object \n",
      " 3   ZIP CODE                       object \n",
      " 4   LATITUDE                       float64\n",
      " 5   LONGITUDE                      float64\n",
      " 6   LOCATION                       object \n",
      " 7   ON STREET NAME                 object \n",
      " 8   CROSS STREET NAME              object \n",
      " 9   OFF STREET NAME                object \n",
      " 10  NUMBER OF PERSONS INJURED      float64\n",
      " 11  NUMBER OF PERSONS KILLED       float64\n",
      " 12  NUMBER OF PEDESTRIANS INJURED  int64  \n",
      " 13  NUMBER OF PEDESTRIANS KILLED   int64  \n",
      " 14  NUMBER OF CYCLIST INJURED      int64  \n",
      " 15  NUMBER OF CYCLIST KILLED       int64  \n",
      " 16  NUMBER OF MOTORIST INJURED     int64  \n",
      " 17  NUMBER OF MOTORIST KILLED      int64  \n",
      " 18  CONTRIBUTING FACTOR VEHICLE 1  object \n",
      " 19  CONTRIBUTING FACTOR VEHICLE 2  object \n",
      " 20  CONTRIBUTING FACTOR VEHICLE 3  object \n",
      " 21  CONTRIBUTING FACTOR VEHICLE 4  object \n",
      " 22  CONTRIBUTING FACTOR VEHICLE 5  object \n",
      " 23  COLLISION_ID                   int64  \n",
      " 24  VEHICLE TYPE CODE 1            object \n",
      " 25  VEHICLE TYPE CODE 2            object \n",
      " 26  VEHICLE TYPE CODE 3            object \n",
      " 27  VEHICLE TYPE CODE 4            object \n",
      " 28  VEHICLE TYPE CODE 5            object \n",
      "dtypes: float64(4), int64(7), object(18)\n",
      "memory usage: 404.9+ MB\n"
     ]
    }
   ],
   "source": [
    "# df.describe()\n",
    "df.info()"
   ]
  },
  {
   "cell_type": "markdown",
   "metadata": {},
   "source": [
    "### 1.3 Seperating by Cyclist Fatalities, Cyclist Injuries and Finding Distributions"
   ]
  },
  {
   "cell_type": "code",
   "execution_count": 4,
   "metadata": {},
   "outputs": [
    {
     "data": {
      "text/plain": [
       "43280"
      ]
     },
     "execution_count": 4,
     "metadata": {},
     "output_type": "execute_result"
    }
   ],
   "source": [
    "# Lets start by finding how many collisions involved a cyclist, fatally or otherwise. \n",
    "cyclist_collisions = df.loc[ (df['NUMBER OF CYCLIST INJURED'] > 0) | (df['NUMBER OF CYCLIST KILLED'] > 0)]\n",
    "len(cyclist_collisions)"
   ]
  },
  {
   "cell_type": "code",
   "execution_count": 5,
   "metadata": {},
   "outputs": [
    {
     "data": {
      "text/plain": [
       "43101"
      ]
     },
     "execution_count": 5,
     "metadata": {},
     "output_type": "execute_result"
    }
   ],
   "source": [
    "# This df is comprised of collisions where one or more cyclist were injured, but none died. \n",
    "non_lethal_collisions = df.loc[(df['NUMBER OF CYCLIST INJURED'] > 0) & (df['NUMBER OF CYCLIST KILLED'] == 0)]\n",
    "len(non_lethal_collisions)"
   ]
  },
  {
   "cell_type": "code",
   "execution_count": 6,
   "metadata": {},
   "outputs": [
    {
     "data": {
      "text/plain": [
       "179"
      ]
     },
     "execution_count": 6,
     "metadata": {},
     "output_type": "execute_result"
    }
   ],
   "source": [
    "# Next lets find how many rows record a cyclist dying. \n",
    "lethal_collisions = df.loc[df['NUMBER OF CYCLIST KILLED'] > 0]\n",
    "len(lethal_collisions)"
   ]
  },
  {
   "cell_type": "code",
   "execution_count": 7,
   "metadata": {},
   "outputs": [
    {
     "data": {
      "text/plain": [
       "7"
      ]
     },
     "execution_count": 7,
     "metadata": {},
     "output_type": "execute_result"
    }
   ],
   "source": [
    "# Here we are determining how many collisions resulted in both cyclist injuries, and cyclist fatalities. \n",
    "combination_collisions = df.loc[ (df['NUMBER OF CYCLIST INJURED'] > 0) & (df['NUMBER OF CYCLIST KILLED'] > 0) ]\n",
    "len(combination_collisions)"
   ]
  },
  {
   "cell_type": "code",
   "execution_count": 8,
   "metadata": {
    "scrolled": false
   },
   "outputs": [
    {
     "name": "stdout",
     "output_type": "stream",
     "text": [
      "1\n"
     ]
    },
    {
     "data": {
      "text/html": [
       "<div>\n",
       "<style scoped>\n",
       "    .dataframe tbody tr th:only-of-type {\n",
       "        vertical-align: middle;\n",
       "    }\n",
       "\n",
       "    .dataframe tbody tr th {\n",
       "        vertical-align: top;\n",
       "    }\n",
       "\n",
       "    .dataframe thead th {\n",
       "        text-align: right;\n",
       "    }\n",
       "</style>\n",
       "<table border=\"1\" class=\"dataframe\">\n",
       "  <thead>\n",
       "    <tr style=\"text-align: right;\">\n",
       "      <th></th>\n",
       "      <th>CRASH DATE</th>\n",
       "      <th>CRASH TIME</th>\n",
       "      <th>BOROUGH</th>\n",
       "      <th>ZIP CODE</th>\n",
       "      <th>LATITUDE</th>\n",
       "      <th>LONGITUDE</th>\n",
       "      <th>LOCATION</th>\n",
       "      <th>ON STREET NAME</th>\n",
       "      <th>CROSS STREET NAME</th>\n",
       "      <th>OFF STREET NAME</th>\n",
       "      <th>NUMBER OF PERSONS INJURED</th>\n",
       "      <th>NUMBER OF PERSONS KILLED</th>\n",
       "      <th>NUMBER OF PEDESTRIANS INJURED</th>\n",
       "      <th>NUMBER OF PEDESTRIANS KILLED</th>\n",
       "      <th>NUMBER OF CYCLIST INJURED</th>\n",
       "      <th>NUMBER OF CYCLIST KILLED</th>\n",
       "      <th>NUMBER OF MOTORIST INJURED</th>\n",
       "      <th>NUMBER OF MOTORIST KILLED</th>\n",
       "      <th>CONTRIBUTING FACTOR VEHICLE 1</th>\n",
       "      <th>CONTRIBUTING FACTOR VEHICLE 2</th>\n",
       "      <th>CONTRIBUTING FACTOR VEHICLE 3</th>\n",
       "      <th>CONTRIBUTING FACTOR VEHICLE 4</th>\n",
       "      <th>CONTRIBUTING FACTOR VEHICLE 5</th>\n",
       "      <th>COLLISION_ID</th>\n",
       "      <th>VEHICLE TYPE CODE 1</th>\n",
       "      <th>VEHICLE TYPE CODE 2</th>\n",
       "      <th>VEHICLE TYPE CODE 3</th>\n",
       "      <th>VEHICLE TYPE CODE 4</th>\n",
       "      <th>VEHICLE TYPE CODE 5</th>\n",
       "    </tr>\n",
       "  </thead>\n",
       "  <tbody>\n",
       "    <tr>\n",
       "      <th>687327</th>\n",
       "      <td>10/31/2017</td>\n",
       "      <td>15:08</td>\n",
       "      <td>MANHATTAN</td>\n",
       "      <td>10014</td>\n",
       "      <td>40.729046</td>\n",
       "      <td>-74.01073</td>\n",
       "      <td>(40.729046, -74.01073)</td>\n",
       "      <td>WEST STREET</td>\n",
       "      <td>WEST HOUSTON STREET</td>\n",
       "      <td>NaN</td>\n",
       "      <td>12.0</td>\n",
       "      <td>8.0</td>\n",
       "      <td>7</td>\n",
       "      <td>6</td>\n",
       "      <td>1</td>\n",
       "      <td>2</td>\n",
       "      <td>4</td>\n",
       "      <td>0</td>\n",
       "      <td>Other Vehicular</td>\n",
       "      <td>Unspecified</td>\n",
       "      <td>Unspecified</td>\n",
       "      <td>Unspecified</td>\n",
       "      <td>Unspecified</td>\n",
       "      <td>3782508</td>\n",
       "      <td>Flat Bed</td>\n",
       "      <td>Bus</td>\n",
       "      <td>Bike</td>\n",
       "      <td>Bike</td>\n",
       "      <td>Bike</td>\n",
       "    </tr>\n",
       "  </tbody>\n",
       "</table>\n",
       "</div>"
      ],
      "text/plain": [
       "        CRASH DATE CRASH TIME    BOROUGH ZIP CODE   LATITUDE  LONGITUDE  \\\n",
       "687327  10/31/2017      15:08  MANHATTAN    10014  40.729046  -74.01073   \n",
       "\n",
       "                      LOCATION                    ON STREET NAME  \\\n",
       "687327  (40.729046, -74.01073)  WEST STREET                        \n",
       "\n",
       "          CROSS STREET NAME OFF STREET NAME  NUMBER OF PERSONS INJURED  \\\n",
       "687327  WEST HOUSTON STREET             NaN                       12.0   \n",
       "\n",
       "        NUMBER OF PERSONS KILLED  NUMBER OF PEDESTRIANS INJURED  \\\n",
       "687327                       8.0                              7   \n",
       "\n",
       "        NUMBER OF PEDESTRIANS KILLED  NUMBER OF CYCLIST INJURED  \\\n",
       "687327                             6                          1   \n",
       "\n",
       "        NUMBER OF CYCLIST KILLED  NUMBER OF MOTORIST INJURED  \\\n",
       "687327                         2                           4   \n",
       "\n",
       "        NUMBER OF MOTORIST KILLED CONTRIBUTING FACTOR VEHICLE 1  \\\n",
       "687327                          0               Other Vehicular   \n",
       "\n",
       "       CONTRIBUTING FACTOR VEHICLE 2 CONTRIBUTING FACTOR VEHICLE 3  \\\n",
       "687327                   Unspecified                   Unspecified   \n",
       "\n",
       "       CONTRIBUTING FACTOR VEHICLE 4 CONTRIBUTING FACTOR VEHICLE 5  \\\n",
       "687327                   Unspecified                   Unspecified   \n",
       "\n",
       "        COLLISION_ID VEHICLE TYPE CODE 1 VEHICLE TYPE CODE 2  \\\n",
       "687327       3782508            Flat Bed                 Bus   \n",
       "\n",
       "       VEHICLE TYPE CODE 3 VEHICLE TYPE CODE 4 VEHICLE TYPE CODE 5  \n",
       "687327                Bike                Bike                Bike  "
      ]
     },
     "execution_count": 8,
     "metadata": {},
     "output_type": "execute_result"
    }
   ],
   "source": [
    "# Only one row details an event where more than one cyclist died.\n",
    "print(len(df.loc[df['NUMBER OF CYCLIST KILLED'] > 1]))\n",
    "\n",
    "# This row describes the tragic terrorist attack that occured on Halloween 2017.\n",
    "df.loc[df['NUMBER OF CYCLIST KILLED'] == 2]"
   ]
  },
  {
   "cell_type": "markdown",
   "metadata": {},
   "source": [
    "### 1.4 Counts Analysis \n",
    "    \n",
    "   So out of nearly 2 million recorded traffic collisions, 43,280 involved a cyclist either getting injured, or killed. \n",
    "   \n",
    "   Of those 43,280 collisions involving a cyclist, 43,101 detail a cyclist getting injured, but no cyclists dying. This means that in 99.5% of traffic collisions where a cyclist is either injured or killed, the cyclist does not die of their injuries. This is a HIGHLY imbalanced dataset, and our classifiers will need to be extremely robust to detect the minority class. \n",
    "   \n",
    "   We found 179 rows detailing an incident that resulted in the death of a cyclist. Only 7 rows fell into the category of 'combination collisions' where there were both cyclist injuries, as well as cyclist deaths. These combination rows will be considered lethal collisions in our classification, as they have obvious crossed the threshold for what defines a deadly collision (more than 0 cyclist deaths). \n",
    "   \n",
    "   Only one row in our entire dataset represents an event where more than one cyclist died. This row details the terrorist attack that occured on Halloween of 2017, where an attacker drove a pickup truck down the westside bike path, injuring 12, and killing 8. This tragic event is certainly an outlier in our dataset, and will not be included in our model building process, as anti-terrorist measures on seperated, dedicated bike paths is outside the scope of this project's analysis. In addition, measures to prevent this kind of event from happening again on the west side bike path have already been taken. "
   ]
  },
  {
   "cell_type": "code",
   "execution_count": 9,
   "metadata": {
    "scrolled": false
   },
   "outputs": [
    {
     "data": {
      "text/plain": [
       "43279"
      ]
     },
     "execution_count": 9,
     "metadata": {},
     "output_type": "execute_result"
    }
   ],
   "source": [
    "# Isolating just the collisions involving cyclists\n",
    "cyc_col = df.loc[ (df['NUMBER OF CYCLIST INJURED'] > 0) | (df['NUMBER OF CYCLIST KILLED'] > 0)]\n",
    "\n",
    "# Dropping the 2017 terror attack from our dataframe\n",
    "all_cycling_collisions = cyc_col.loc[cyc_col['NUMBER OF CYCLIST KILLED'] < 2]\n",
    "\n",
    "# Making sure we don't have any collisions recorded twice, by dropping any duplicates in the ID column \n",
    "all_cycling_collisions.drop_duplicates(['COLLISION_ID'])\n",
    "\n",
    "# Checking the length \n",
    "len(all_cycling_collisions) "
   ]
  },
  {
   "cell_type": "code",
   "execution_count": 10,
   "metadata": {},
   "outputs": [],
   "source": [
    "# We saved our cycling collisions data as its own csv, as this is really the raw dataset of interest. \n",
    "\n",
    "#all_cycling_collisions.to_csv('Cycling_Collisions_Isolated')"
   ]
  },
  {
   "cell_type": "markdown",
   "metadata": {},
   "source": [
    "### 1.6 Column Data and NaN Value Counts\n",
    "\n",
    "   The first problem with much of the information in this dataset, is that it is stored in messy, irregular strings. For example under vehicle type, we see 'taxi' and 'Taxi' as seperate categories. In the date column, the dates are stored as strings, which will have to be converted, or at the very least one hot encoded into buckets if we want date to be a useful feature. \n",
    "   \n",
    "   The other challenge standing in the way of this analysis is going to be dealing with all the NaN values in columns that we need for our models. With this is mind, there are two reasons why we chose to not simply drop rows with NaN values in important input columns. \n",
    "\n",
    "   One is that because our dataset is so incredibly imbalanced, NaN values in important columns, in rows belonging to our minority class, will significantly impede our attempt to generate a generalizable model that can identify the minority class in new unseen data. The other reason we must find a way to deal with the rows containing NaNs is that since the number of lethal collisions is so proportionally small, if we just dropped rows with NaNs in the relevant columns, we would be thinning out our already tiny minority class. \n",
    "   \n",
    "   This means that our process is going to involve a lot of preprocessing, filling in the missing pieces. The first step in that process is to see what the damage is, and look at the NaN value counts for our columns."
   ]
  },
  {
   "cell_type": "markdown",
   "metadata": {},
   "source": [
    "### 1.6.1 Time and Location Data Columns\n"
   ]
  },
  {
   "cell_type": "code",
   "execution_count": 11,
   "metadata": {
    "scrolled": true
   },
   "outputs": [
    {
     "name": "stdout",
     "output_type": "stream",
     "text": [
      "The CRASH DATE column is 0.0% NaNs\n",
      "The CRASH TIME column is 0.0% NaNs\n",
      "The BOROUGH column is 21.75651008572287% NaNs\n",
      "The ZIP CODE column is 21.75882067515423% NaNs\n",
      "The LATITUDE column is 7.48168857875644% NaNs\n",
      "The LONGITUDE column is 7.48168857875644% NaNs\n",
      "The LOCATION column is 7.48168857875644% NaNs\n",
      "The ON STREET NAME column is 14.358002726495528% NaNs\n",
      "The CROSS STREET NAME column is 27.325030615309963% NaNs\n",
      "The OFF STREET NAME column is 85.80142794426858% NaNs\n"
     ]
    }
   ],
   "source": [
    "# Displaying the time and location columns \n",
    "for i in all_cycling_collisions.columns[:10]:\n",
    "    print(f'The {i} column is {all_cycling_collisions[i].isna().sum() / len(all_cycling_collisions) * 100}% NaNs') "
   ]
  },
  {
   "cell_type": "markdown",
   "metadata": {},
   "source": [
    "### 1.6.2 Contributing Factor Columns"
   ]
  },
  {
   "cell_type": "code",
   "execution_count": 12,
   "metadata": {
    "scrolled": false
   },
   "outputs": [
    {
     "name": "stdout",
     "output_type": "stream",
     "text": [
      "The CONTRIBUTING FACTOR VEHICLE 1 column is 0.04159060976455094% NaNs\n",
      "The CONTRIBUTING FACTOR VEHICLE 2 column is 7.125857806326394% NaNs\n",
      "The CONTRIBUTING FACTOR VEHICLE 3 column is 97.70789528408696% NaNs\n",
      "The CONTRIBUTING FACTOR VEHICLE 4 column is 99.75276693084406% NaNs\n",
      "The CONTRIBUTING FACTOR VEHICLE 5 column is 99.91912936990227% NaNs\n"
     ]
    }
   ],
   "source": [
    "# Lets examine the contributing factor columns \n",
    "for i in all_cycling_collisions.columns[18:23]:\n",
    "    print(f'The {i} column is {all_cycling_collisions[i].isna().sum() / len(all_cycling_collisions) * 100}% NaNs') "
   ]
  },
  {
   "cell_type": "markdown",
   "metadata": {},
   "source": [
    "### 1.6.3 Vehicle Type Code Columns\n",
    "\n",
    "   These 5 columns contain data about the vehicles that were involved in the collision, including the Bike/E-Bike. Vehicle type could be a super important feature for our models, so we will have to deal with the messy string values, as well as NaN values. "
   ]
  },
  {
   "cell_type": "code",
   "execution_count": 13,
   "metadata": {
    "scrolled": false
   },
   "outputs": [
    {
     "name": "stdout",
     "output_type": "stream",
     "text": [
      "The VEHICLE TYPE CODE 1 column is 0.046211788627278816% NaNs\n",
      "The VEHICLE TYPE CODE 2 column is 9.08754823355438% NaNs\n",
      "The VEHICLE TYPE CODE 3 column is 97.73331176783198% NaNs\n",
      "The VEHICLE TYPE CODE 4 column is 99.75507752027542% NaNs\n",
      "The VEHICLE TYPE CODE 5 column is 99.91450819103953% NaNs\n"
     ]
    }
   ],
   "source": [
    "# Displaying the vehicle type code columns\n",
    "for i in all_cycling_collisions.columns[24:29]:\n",
    "    print(f'The {i} column is {all_cycling_collisions[i].isna().sum() / len(all_cycling_collisions) * 100}% NaNs') "
   ]
  },
  {
   "cell_type": "markdown",
   "metadata": {},
   "source": [
    "We can see that only 13% and 2% of the rows in our lethal, and non-lethal dataframes respectively, have values for Vehicle Type by the time we get to the third column. The string values, and the NaN values will be dealt with in the data preparation step."
   ]
  },
  {
   "cell_type": "markdown",
   "metadata": {},
   "source": [
    "## 2. Data Cleaning\n",
    "\n",
    "### 2.1 Drop Unnecessary Columns\n",
    "\n",
    "The first step of preprocessing is to drop the columns that are not useful for this analysis."
   ]
  },
  {
   "cell_type": "code",
   "execution_count": 14,
   "metadata": {},
   "outputs": [
    {
     "data": {
      "text/plain": [
       "(43279, 22)"
      ]
     },
     "execution_count": 14,
     "metadata": {},
     "output_type": "execute_result"
    }
   ],
   "source": [
    "# Dropping unwanted columns using this list\n",
    "all_cycling_collisions = all_cycling_collisions.drop([ 'NUMBER OF PERSONS INJURED',\n",
    "                                                       'NUMBER OF PERSONS KILLED', \n",
    "                                                       'NUMBER OF PEDESTRIANS INJURED',\n",
    "                                                       'NUMBER OF PEDESTRIANS KILLED',  \n",
    "                                                       'NUMBER OF MOTORIST INJURED',\n",
    "                                                       'NUMBER OF MOTORIST KILLED',\n",
    "                                                       'COLLISION_ID' ] , axis=1)\n",
    "\n",
    "# Making sure it worked\n",
    "all_cycling_collisions.shape"
   ]
  },
  {
   "cell_type": "markdown",
   "metadata": {},
   "source": [
    "### 2.2 Making the 'Lethal' Column "
   ]
  },
  {
   "cell_type": "markdown",
   "metadata": {},
   "source": [
    "Before we can seperate our training data and our holdout data, we need to make a target y column, as our two datasets currently store this information in two seperate columns. After we have created this new column, we can drop the original two. "
   ]
  },
  {
   "cell_type": "code",
   "execution_count": 15,
   "metadata": {
    "scrolled": false
   },
   "outputs": [
    {
     "data": {
      "text/plain": [
       "0    43101\n",
       "1      178\n",
       "Name: Lethal, dtype: int64"
      ]
     },
     "execution_count": 15,
     "metadata": {},
     "output_type": "execute_result"
    }
   ],
   "source": [
    "# Creating the lethality column and filling it with zeros\n",
    "all_cycling_collisions['Lethal'] = 0\n",
    "\n",
    "# Going through the data frame and marking lethal collisions\n",
    "all_cycling_collisions.loc[ all_cycling_collisions['NUMBER OF CYCLIST KILLED'] > 0,['Lethal']] = 1\n",
    "\n",
    "# Dropping the old columns\n",
    "all_cycling_collisions = all_cycling_collisions.drop(['NUMBER OF CYCLIST KILLED', 'NUMBER OF CYCLIST INJURED'], axis=1)\n",
    "\n",
    "# The all-important sanity check\n",
    "all_cycling_collisions['Lethal'].value_counts()"
   ]
  },
  {
   "cell_type": "markdown",
   "metadata": {},
   "source": [
    "### 2.3 Collision Year \n",
    "\n",
    "One of the features we want to include in our modelling process is what year the collision took place in, to do this we are going to create a new column for year, and make sure it is in a format that can be handled by SciKit-learn's OneHotEncoder( ). "
   ]
  },
  {
   "cell_type": "code",
   "execution_count": 16,
   "metadata": {
    "scrolled": true
   },
   "outputs": [
    {
     "data": {
      "text/plain": [
       "2020    5481\n",
       "2019    4964\n",
       "2016    4945\n",
       "2017    4864\n",
       "2018    4694\n",
       "2015    4266\n",
       "2013    4062\n",
       "2014    3999\n",
       "2021    3802\n",
       "2012    2202\n",
       "Name: Year, dtype: int64"
      ]
     },
     "execution_count": 16,
     "metadata": {},
     "output_type": "execute_result"
    }
   ],
   "source": [
    "# Creating our year column, so we can One-Hot Encode it in a pipeline later on. \n",
    "all_cycling_collisions['Year'] = [int(date[-4:]) for date in all_cycling_collisions['CRASH DATE']]\n",
    "\n",
    "# Checking our work \n",
    "all_cycling_collisions['Year'].value_counts()"
   ]
  },
  {
   "cell_type": "markdown",
   "metadata": {},
   "source": [
    "### 2.4 Collision Month\n",
    "\n",
    "We are creating this column for two reasons. The first is that this information could be a very good predictor of cycling lethality, for example if icy roads contribute to cyclist deaths in the winter months. The other reason is that our models are going to need every feature we can give them if they are going to be able to identify the minority class in spite of the extreme class imbalance. Also fortunate is the fact that every single record in our dataset has an entry for 'CRASH DATE', so we dont have to deal with any NaN values. "
   ]
  },
  {
   "cell_type": "code",
   "execution_count": 17,
   "metadata": {
    "scrolled": true
   },
   "outputs": [
    {
     "data": {
      "text/plain": [
       "8     5768\n",
       "7     5539\n",
       "9     5420\n",
       "6     4819\n",
       "10    4277\n",
       "5     3998\n",
       "11    3068\n",
       "4     2817\n",
       "3     2193\n",
       "12    2146\n",
       "1     1725\n",
       "2     1509\n",
       "Name: Month, dtype: int64"
      ]
     },
     "execution_count": 17,
     "metadata": {},
     "output_type": "execute_result"
    }
   ],
   "source": [
    "# Creating our 'Month' Column \n",
    "all_cycling_collisions['Month'] = [int(date[:2]) for date in all_cycling_collisions['CRASH DATE']]\n",
    "\n",
    "# Checking the values \n",
    "all_cycling_collisions['Month'].value_counts()"
   ]
  },
  {
   "cell_type": "markdown",
   "metadata": {},
   "source": [
    "### 2.5 Holiday Column\n",
    "\n",
    "To take further advantage of the lack of NaN values, we are going to engineer a Holiday Column, that tracks whether or not a collision took place on or very near to a major holiday. Unfortunately, a holiday means a predictable spike in drunk driving, and also just an increase in travel in general. This column will track collisions that took place on the most hazardous holiday travel days. "
   ]
  },
  {
   "cell_type": "code",
   "execution_count": 18,
   "metadata": {
    "scrolled": false
   },
   "outputs": [
    {
     "data": {
      "text/plain": [
       "0    41163\n",
       "1     2116\n",
       "Name: Holiday Collision, dtype: int64"
      ]
     },
     "execution_count": 18,
     "metadata": {},
     "output_type": "execute_result"
    }
   ],
   "source": [
    "# Chopping the year off of the date strings for easier syntax later\n",
    "all_cycling_collisions['CRASH DATE'] = [date[:5] for date in all_cycling_collisions['CRASH DATE']]\n",
    "\n",
    "# Making a list of the relevant dates\n",
    "holiday_travel_dates = ['12/31', '01/01',\n",
    "                        '05/27', '05/28', '05/29', '05/30',\n",
    "                        '06/03', '06/04' , '06/05',\n",
    "                        '09/05', '09/06', '09/07', \n",
    "                        '11/24', '11/25', '11/26',\n",
    "                        '12/24', '12/25', '12/26',\n",
    "                        '10/31', '11/1']\n",
    "\n",
    "# Creating the column and filling it with zeros to begin with\n",
    "all_cycling_collisions['Holiday Collision'] = 0\n",
    "\n",
    "# Marking the relevant collisions\n",
    "for date in holiday_travel_dates:\n",
    "    all_cycling_collisions.loc[all_cycling_collisions['CRASH DATE'] == date, ['Holiday Collision']] = 1\n",
    "    \n",
    "# With the last of our 'CRASH DATE' based feature engineering done, we can drop it from our dataframe\n",
    "all_cycling_collisions = all_cycling_collisions.drop(['CRASH DATE'], axis=1)\n",
    "    \n",
    "# Sanity check    \n",
    "all_cycling_collisions['Holiday Collision'].value_counts()"
   ]
  },
  {
   "cell_type": "markdown",
   "metadata": {},
   "source": [
    "### 2.6 Time of Day \n",
    "\n",
    "The hour of the day the accident occured in could have big implications in our model, and for our business problem. As it stands right now, the 'CRASH TIME' column specifies the time down to the minute, which is a more granular breakdown than our model requires. We will convert the hour and minute information into only what hour the accident occured in. Thankfully, the data is already in a 24 hour format, and there are no NaN values"
   ]
  },
  {
   "cell_type": "code",
   "execution_count": 19,
   "metadata": {
    "scrolled": true
   },
   "outputs": [
    {
     "data": {
      "text/plain": [
       "18    3588\n",
       "17    3558\n",
       "19    3306\n",
       "16    3188\n",
       "20    2932\n",
       "14    2792\n",
       "15    2715\n",
       "13    2449\n",
       "21    2394\n",
       "12    2123\n",
       "22    1825\n",
       "11    1823\n",
       "9     1634\n",
       "8     1562\n",
       "10    1477\n",
       "23    1342\n",
       "0     1307\n",
       "7      961\n",
       "6      569\n",
       "1      514\n",
       "2      365\n",
       "5      312\n",
       "3      279\n",
       "4      264\n",
       "Name: Hour, dtype: int64"
      ]
     },
     "execution_count": 19,
     "metadata": {},
     "output_type": "execute_result"
    }
   ],
   "source": [
    "# Getting just the hour information and storing it in a new column, 'Hour'\n",
    "all_cycling_collisions['Hour'] = [int(time[:2].replace(':','')) for time in all_cycling_collisions['CRASH TIME']]\n",
    "\n",
    "# Dropping the 'CRASH TIME' column, as we no longer need it\n",
    "all_cycling_collisions = all_cycling_collisions.drop(['CRASH TIME'], axis=1)\n",
    "\n",
    "# Sanity Check\n",
    "all_cycling_collisions['Hour'].value_counts()"
   ]
  },
  {
   "cell_type": "markdown",
   "metadata": {},
   "source": [
    "### 2.7 Borough\n",
    "\n",
    "Borough could turn out to be a very useful feature for our classification models, but first we have to contend with all the NaN values in that column. We know from our earlier NaN report on this column that roughly a quarter of collisions do not specify what Borough the crash took place in. "
   ]
  },
  {
   "cell_type": "code",
   "execution_count": 20,
   "metadata": {
    "scrolled": true
   },
   "outputs": [
    {
     "name": "stdout",
     "output_type": "stream",
     "text": [
      "BROOKLYN         13425\n",
      "MANHATTAN         9841\n",
      "QUEENS            6698\n",
      "BRONX             3496\n",
      "STATEN ISLAND      403\n",
      "Name: BOROUGH, dtype: int64\n",
      "\n",
      "        There are 9416 rows with a NaN for Borough\n"
     ]
    },
    {
     "data": {
      "text/plain": [
       "6966"
      ]
     },
     "execution_count": 20,
     "metadata": {},
     "output_type": "execute_result"
    }
   ],
   "source": [
    "# Looking at the values in the Borough Column \n",
    "print(all_cycling_collisions[\"BOROUGH\"].value_counts())\n",
    "\n",
    "# This dataframe is all of our rows where Borough holds a NaN value\n",
    "nan_boro = all_cycling_collisions.loc[all_cycling_collisions['BOROUGH'].isna()]\n",
    "\n",
    "# This line confirms what our NaN report told us earlier, by telling us the amount of NaN's\n",
    "print(f'''\n",
    "        There are {len(nan_boro)} rows with a NaN for Borough''')\n",
    "\n",
    "# This line prints how many of our 9416 rows have latitude and longitude data\n",
    "len(nan_boro) - nan_boro['LOCATION'].isna().sum()"
   ]
  },
  {
   "cell_type": "markdown",
   "metadata": {},
   "source": [
    "The above code shows us that even though we have 9416 rows that dont specify Borough, 6966 of those rows do specify Latitude and Longitude data, which we can use to extrapolate what Borough they occured in. (Street name might be easier, or put the zip code thing before this and then use them.)"
   ]
  },
  {
   "cell_type": "code",
   "execution_count": 21,
   "metadata": {},
   "outputs": [],
   "source": [
    "# Let's start by renaming the column to match the others\n",
    "all_cycling_collisions['Borough'] = all_cycling_collisions['BOROUGH']\n",
    "all_cycling_collisions = all_cycling_collisions.drop(['BOROUGH'], axis=1)\n",
    "#\n",
    "#\n",
    "#\n",
    "#\n",
    "#\n",
    "#\n",
    "# \n",
    "#\n",
    "#\n",
    "#\n",
    "#\n",
    "#"
   ]
  },
  {
   "cell_type": "code",
   "execution_count": 22,
   "metadata": {
    "scrolled": false
   },
   "outputs": [
    {
     "name": "stdout",
     "output_type": "stream",
     "text": [
      "<class 'pandas.core.frame.DataFrame'>\n",
      "Int64Index: 43279 entries, 52 to 1830084\n",
      "Data columns (total 23 columns):\n",
      " #   Column                         Non-Null Count  Dtype  \n",
      "---  ------                         --------------  -----  \n",
      " 0   ZIP CODE                       33862 non-null  object \n",
      " 1   LATITUDE                       40041 non-null  float64\n",
      " 2   LONGITUDE                      40041 non-null  float64\n",
      " 3   LOCATION                       40041 non-null  object \n",
      " 4   ON STREET NAME                 37065 non-null  object \n",
      " 5   CROSS STREET NAME              31453 non-null  object \n",
      " 6   OFF STREET NAME                6145 non-null   object \n",
      " 7   CONTRIBUTING FACTOR VEHICLE 1  43261 non-null  object \n",
      " 8   CONTRIBUTING FACTOR VEHICLE 2  40195 non-null  object \n",
      " 9   CONTRIBUTING FACTOR VEHICLE 3  992 non-null    object \n",
      " 10  CONTRIBUTING FACTOR VEHICLE 4  107 non-null    object \n",
      " 11  CONTRIBUTING FACTOR VEHICLE 5  35 non-null     object \n",
      " 12  VEHICLE TYPE CODE 1            43259 non-null  object \n",
      " 13  VEHICLE TYPE CODE 2            39346 non-null  object \n",
      " 14  VEHICLE TYPE CODE 3            981 non-null    object \n",
      " 15  VEHICLE TYPE CODE 4            106 non-null    object \n",
      " 16  VEHICLE TYPE CODE 5            37 non-null     object \n",
      " 17  Lethal                         43279 non-null  int64  \n",
      " 18  Year                           43279 non-null  int64  \n",
      " 19  Month                          43279 non-null  int64  \n",
      " 20  Holiday Collision              43279 non-null  int64  \n",
      " 21  Hour                           43279 non-null  int64  \n",
      " 22  Borough                        33863 non-null  object \n",
      "dtypes: float64(2), int64(5), object(16)\n",
      "memory usage: 7.9+ MB\n"
     ]
    }
   ],
   "source": [
    "all_cycling_collisions.info()"
   ]
  },
  {
   "cell_type": "markdown",
   "metadata": {},
   "source": [
    "### 2.8 Zip Code \n",
    "\n",
    "We definitely want to feed this feature into our model, as it could help our classificaiton algorithm perform better. "
   ]
  },
  {
   "cell_type": "code",
   "execution_count": 23,
   "metadata": {},
   "outputs": [
    {
     "name": "stdout",
     "output_type": "stream",
     "text": [
      "9417\n"
     ]
    },
    {
     "data": {
      "text/plain": [
       "2450"
      ]
     },
     "execution_count": 23,
     "metadata": {},
     "output_type": "execute_result"
    }
   ],
   "source": [
    "# This is how many rows do not contain Zip Code information\n",
    "print(sum(all_cycling_collisions['ZIP CODE'].isna()))\n",
    "\n",
    "# Of those 9417 rows that dont have zipcode data, only 2450 also do not have latitude and longitude \n",
    "len(all_cycling_collisions.loc[all_cycling_collisions['ZIP CODE'].isna() & all_cycling_collisions['LOCATION'].isna()])"
   ]
  },
  {
   "cell_type": "markdown",
   "metadata": {},
   "source": [
    "What the above numbers mean is that if we can find a way to get the zipcode from the Latitude and Longitude, we can fill in three quarters of our missing zip codes. "
   ]
  },
  {
   "cell_type": "code",
   "execution_count": 24,
   "metadata": {},
   "outputs": [],
   "source": [
    "# Let's rename our column so we can tell it's been processed \n",
    "all_cycling_collisions['Zip Code'] = [zipcode for zipcode in all_cycling_collisions['ZIP CODE'] ]\n",
    "\n",
    "#\n",
    "#\n",
    "#\n",
    "#\n",
    "#\n",
    "#\n",
    "# ZIP CODE WIZARDY GOES HERE, STACK OVERFLOW PAGE HAS BEEN BOOKMARKED\n",
    "#\n",
    "#\n",
    "#\n",
    "#\n",
    "#\n",
    "#\n",
    "#\n",
    "\n",
    "# Now that we are finished with the Location-Based columns, we can drop the originals \n",
    "all_cycling_collisions = all_cycling_collisions.drop(['ZIP CODE', 'LATITUDE', 'LONGITUDE', 'LOCATION'], axis=1)"
   ]
  },
  {
   "cell_type": "markdown",
   "metadata": {},
   "source": [
    "### 2.9 Street Name\n",
    "\n",
    "If it becomes a strong predictor, street name could be an essential feature for our business problem, as it would tell the city which streets are the most dangerous for cyclists, and therefore where to focus their efforts in terms of building new infrastructure. Street name in our dataset comes in the form of three columns, ON STREET NAME, CROSS STREET NAME, and OFF STREET NAME. The values in these columns are fairly clean in their formatting, and dont exhibit any significant overlap or redundancy."
   ]
  },
  {
   "cell_type": "code",
   "execution_count": 25,
   "metadata": {
    "scrolled": true
   },
   "outputs": [
    {
     "name": "stdout",
     "output_type": "stream",
     "text": [
      "There are 61 rows without any street name data.\n"
     ]
    }
   ],
   "source": [
    "# This dataframe contains the rows with no street data whatsoever\n",
    "no_street_data = all_cycling_collisions.loc[all_cycling_collisions['ON STREET NAME'].isna() & \n",
    "                                            all_cycling_collisions['CROSS STREET NAME'].isna() &\n",
    "                                            all_cycling_collisions['OFF STREET NAME'].isna()]\n",
    "\n",
    "# Luckily only 61 rows of our entire dataframe contain zero street name values\n",
    "print(f'There are {len(no_street_data)} rows without any street name data.')"
   ]
  },
  {
   "cell_type": "markdown",
   "metadata": {},
   "source": [
    "Now we are finding the columns with NaN values under Cross Street, and filling them in with the values from OFF STREET NAME, if there are any. "
   ]
  },
  {
   "cell_type": "code",
   "execution_count": 26,
   "metadata": {
    "scrolled": true
   },
   "outputs": [
    {
     "name": "stdout",
     "output_type": "stream",
     "text": [
      "11826\n",
      "5681\n"
     ]
    }
   ],
   "source": [
    "# Renaming our two columns \n",
    "all_cycling_collisions['Street'] = all_cycling_collisions['ON STREET NAME']\n",
    "all_cycling_collisions['Cross Street'] = all_cycling_collisions['CROSS STREET NAME']\n",
    "\n",
    "# Check how many NaN values we have in Cross Street before meshing it with OFF STREET NAME\n",
    "print(len(all_cycling_collisions.loc[all_cycling_collisions['Cross Street'].isna()]))\n",
    "\n",
    "# For our columns without a listed Cross Street, we are using the OFF STREET NAME value, if it has one\n",
    "all_cycling_collisions.loc[all_cycling_collisions['Cross Street'].isna(), ['Cross Street']] = all_cycling_collisions['OFF STREET NAME']\n",
    "\n",
    "# Number of NaNs in Cross Street after the merge\n",
    "print(len(all_cycling_collisions.loc[all_cycling_collisions['Cross Street'].isna()]))\n",
    "\n",
    "# Drop the old columns \n",
    "all_cycling_collisions = all_cycling_collisions.drop(['ON STREET NAME','CROSS STREET NAME','OFF STREET NAME'],axis=1)"
   ]
  },
  {
   "cell_type": "markdown",
   "metadata": {},
   "source": [
    "### 2.10 Contributing Factor Columns \n",
    "\n"
   ]
  },
  {
   "cell_type": "code",
   "execution_count": 28,
   "metadata": {},
   "outputs": [],
   "source": [
    "#all_cycling_collisions['CONTRIBUTING FACTOR VEHICLE 1'].value_counts()\n",
    "all_cycling_collisions['Factor 1'] = 'Contributing Factor Unknown'"
   ]
  },
  {
   "cell_type": "markdown",
   "metadata": {},
   "source": [
    "### 2.11 Vehicle Type Codes \n",
    "\n"
   ]
  },
  {
   "cell_type": "code",
   "execution_count": 47,
   "metadata": {
    "scrolled": false
   },
   "outputs": [],
   "source": [
    "# all_cycling_collisions['VEHICLE TYPE CODE 1'].value_counts()\n",
    "all_cycling_collisions['Vehicle Type'] = 'Vehicle Type Unknown'"
   ]
  },
  {
   "cell_type": "code",
   "execution_count": 30,
   "metadata": {},
   "outputs": [],
   "source": [
    "# Delete this cell later\n",
    "all_cycling_collisions.drop(['CONTRIBUTING FACTOR VEHICLE 1', 'CONTRIBUTING FACTOR VEHICLE 2',\n",
    "       'CONTRIBUTING FACTOR VEHICLE 3', 'CONTRIBUTING FACTOR VEHICLE 4',\n",
    "       'CONTRIBUTING FACTOR VEHICLE 5', 'VEHICLE TYPE CODE 1',\n",
    "       'VEHICLE TYPE CODE 2', 'VEHICLE TYPE CODE 3', 'VEHICLE TYPE CODE 4',\n",
    "       'VEHICLE TYPE CODE 5'], axis=1, inplace=True)"
   ]
  },
  {
   "cell_type": "markdown",
   "metadata": {},
   "source": [
    "## 3. Data Preprocessing\n",
    "\n",
    "### 3.1 Train Test Split\n",
    "\n",
    "The absolute first thing we need to do in terms of preprocessing is to seperate our data into the train and holdout set to avoid data leakage, and make sure we can robustly evaluate our models later on. "
   ]
  },
  {
   "cell_type": "code",
   "execution_count": null,
   "metadata": {
    "scrolled": true
   },
   "outputs": [],
   "source": [
    "# Seperating our data into features and target\n",
    "X = all_cycling_collisions.drop(['Lethal'], axis=1)\n",
    "y = all_cycling_collisions['Lethal']\n",
    "\n",
    "# Performing the split\n",
    "X_train, X_hold, y_train, y_hold = train_test_split(X, y, random_state=seed, test_size=.15)"
   ]
  },
  {
   "cell_type": "markdown",
   "metadata": {},
   "source": [
    "### 3.2 Imputing Missing Values "
   ]
  },
  {
   "cell_type": "code",
   "execution_count": 48,
   "metadata": {
    "scrolled": false
   },
   "outputs": [
    {
     "data": {
      "text/html": [
       "<div>\n",
       "<style scoped>\n",
       "    .dataframe tbody tr th:only-of-type {\n",
       "        vertical-align: middle;\n",
       "    }\n",
       "\n",
       "    .dataframe tbody tr th {\n",
       "        vertical-align: top;\n",
       "    }\n",
       "\n",
       "    .dataframe thead th {\n",
       "        text-align: right;\n",
       "    }\n",
       "</style>\n",
       "<table border=\"1\" class=\"dataframe\">\n",
       "  <thead>\n",
       "    <tr style=\"text-align: right;\">\n",
       "      <th></th>\n",
       "      <th>0</th>\n",
       "      <th>1</th>\n",
       "      <th>2</th>\n",
       "      <th>3</th>\n",
       "      <th>4</th>\n",
       "      <th>5</th>\n",
       "      <th>6</th>\n",
       "      <th>7</th>\n",
       "      <th>8</th>\n",
       "      <th>9</th>\n",
       "      <th>10</th>\n",
       "      <th>11</th>\n",
       "      <th>12</th>\n",
       "      <th>13</th>\n",
       "      <th>14</th>\n",
       "      <th>15</th>\n",
       "      <th>16</th>\n",
       "      <th>17</th>\n",
       "      <th>18</th>\n",
       "      <th>19</th>\n",
       "      <th>20</th>\n",
       "      <th>21</th>\n",
       "      <th>22</th>\n",
       "      <th>23</th>\n",
       "      <th>24</th>\n",
       "      <th>25</th>\n",
       "      <th>26</th>\n",
       "      <th>27</th>\n",
       "      <th>28</th>\n",
       "      <th>29</th>\n",
       "      <th>30</th>\n",
       "      <th>31</th>\n",
       "      <th>32</th>\n",
       "      <th>33</th>\n",
       "      <th>34</th>\n",
       "      <th>35</th>\n",
       "      <th>36</th>\n",
       "      <th>37</th>\n",
       "      <th>38</th>\n",
       "      <th>39</th>\n",
       "      <th>40</th>\n",
       "      <th>41</th>\n",
       "      <th>42</th>\n",
       "      <th>43</th>\n",
       "      <th>44</th>\n",
       "      <th>45</th>\n",
       "      <th>46</th>\n",
       "      <th>47</th>\n",
       "      <th>48</th>\n",
       "      <th>49</th>\n",
       "      <th>50</th>\n",
       "      <th>51</th>\n",
       "      <th>52</th>\n",
       "      <th>53</th>\n",
       "      <th>54</th>\n",
       "      <th>55</th>\n",
       "      <th>56</th>\n",
       "      <th>57</th>\n",
       "      <th>58</th>\n",
       "    </tr>\n",
       "  </thead>\n",
       "  <tbody>\n",
       "    <tr>\n",
       "      <th>0</th>\n",
       "      <td>0.0</td>\n",
       "      <td>0.0</td>\n",
       "      <td>0.0</td>\n",
       "      <td>0.0</td>\n",
       "      <td>0.0</td>\n",
       "      <td>0.0</td>\n",
       "      <td>1.0</td>\n",
       "      <td>0.0</td>\n",
       "      <td>0.0</td>\n",
       "      <td>0.0</td>\n",
       "      <td>0.0</td>\n",
       "      <td>0.0</td>\n",
       "      <td>0.0</td>\n",
       "      <td>0.0</td>\n",
       "      <td>0.0</td>\n",
       "      <td>0.0</td>\n",
       "      <td>0.0</td>\n",
       "      <td>0.0</td>\n",
       "      <td>0.0</td>\n",
       "      <td>1.0</td>\n",
       "      <td>0.0</td>\n",
       "      <td>0.0</td>\n",
       "      <td>1.0</td>\n",
       "      <td>0.0</td>\n",
       "      <td>0.0</td>\n",
       "      <td>0.0</td>\n",
       "      <td>0.0</td>\n",
       "      <td>0.0</td>\n",
       "      <td>0.0</td>\n",
       "      <td>0.0</td>\n",
       "      <td>0.0</td>\n",
       "      <td>0.0</td>\n",
       "      <td>0.0</td>\n",
       "      <td>0.0</td>\n",
       "      <td>0.0</td>\n",
       "      <td>0.0</td>\n",
       "      <td>0.0</td>\n",
       "      <td>0.0</td>\n",
       "      <td>0.0</td>\n",
       "      <td>0.0</td>\n",
       "      <td>0.0</td>\n",
       "      <td>0.0</td>\n",
       "      <td>1.0</td>\n",
       "      <td>0.0</td>\n",
       "      <td>0.0</td>\n",
       "      <td>0.0</td>\n",
       "      <td>0.0</td>\n",
       "      <td>0.0</td>\n",
       "      <td>0.0</td>\n",
       "      <td>0.0</td>\n",
       "      <td>0.0</td>\n",
       "      <td>1.0</td>\n",
       "      <td>0.0</td>\n",
       "      <td>0.0</td>\n",
       "      <td>148.0</td>\n",
       "      <td>2529.0</td>\n",
       "      <td>1702.0</td>\n",
       "      <td>0.0</td>\n",
       "      <td>0.0</td>\n",
       "    </tr>\n",
       "    <tr>\n",
       "      <th>1</th>\n",
       "      <td>1.0</td>\n",
       "      <td>0.0</td>\n",
       "      <td>0.0</td>\n",
       "      <td>0.0</td>\n",
       "      <td>0.0</td>\n",
       "      <td>0.0</td>\n",
       "      <td>0.0</td>\n",
       "      <td>0.0</td>\n",
       "      <td>0.0</td>\n",
       "      <td>0.0</td>\n",
       "      <td>0.0</td>\n",
       "      <td>0.0</td>\n",
       "      <td>0.0</td>\n",
       "      <td>0.0</td>\n",
       "      <td>0.0</td>\n",
       "      <td>0.0</td>\n",
       "      <td>0.0</td>\n",
       "      <td>1.0</td>\n",
       "      <td>0.0</td>\n",
       "      <td>0.0</td>\n",
       "      <td>0.0</td>\n",
       "      <td>0.0</td>\n",
       "      <td>1.0</td>\n",
       "      <td>0.0</td>\n",
       "      <td>0.0</td>\n",
       "      <td>0.0</td>\n",
       "      <td>0.0</td>\n",
       "      <td>0.0</td>\n",
       "      <td>0.0</td>\n",
       "      <td>0.0</td>\n",
       "      <td>0.0</td>\n",
       "      <td>0.0</td>\n",
       "      <td>0.0</td>\n",
       "      <td>0.0</td>\n",
       "      <td>0.0</td>\n",
       "      <td>0.0</td>\n",
       "      <td>0.0</td>\n",
       "      <td>0.0</td>\n",
       "      <td>0.0</td>\n",
       "      <td>1.0</td>\n",
       "      <td>0.0</td>\n",
       "      <td>0.0</td>\n",
       "      <td>0.0</td>\n",
       "      <td>0.0</td>\n",
       "      <td>0.0</td>\n",
       "      <td>0.0</td>\n",
       "      <td>0.0</td>\n",
       "      <td>0.0</td>\n",
       "      <td>0.0</td>\n",
       "      <td>0.0</td>\n",
       "      <td>1.0</td>\n",
       "      <td>0.0</td>\n",
       "      <td>0.0</td>\n",
       "      <td>0.0</td>\n",
       "      <td>26.0</td>\n",
       "      <td>2166.0</td>\n",
       "      <td>6916.0</td>\n",
       "      <td>0.0</td>\n",
       "      <td>0.0</td>\n",
       "    </tr>\n",
       "    <tr>\n",
       "      <th>2</th>\n",
       "      <td>0.0</td>\n",
       "      <td>0.0</td>\n",
       "      <td>0.0</td>\n",
       "      <td>0.0</td>\n",
       "      <td>0.0</td>\n",
       "      <td>0.0</td>\n",
       "      <td>0.0</td>\n",
       "      <td>1.0</td>\n",
       "      <td>0.0</td>\n",
       "      <td>0.0</td>\n",
       "      <td>0.0</td>\n",
       "      <td>0.0</td>\n",
       "      <td>0.0</td>\n",
       "      <td>0.0</td>\n",
       "      <td>0.0</td>\n",
       "      <td>0.0</td>\n",
       "      <td>0.0</td>\n",
       "      <td>1.0</td>\n",
       "      <td>0.0</td>\n",
       "      <td>0.0</td>\n",
       "      <td>0.0</td>\n",
       "      <td>0.0</td>\n",
       "      <td>1.0</td>\n",
       "      <td>0.0</td>\n",
       "      <td>0.0</td>\n",
       "      <td>0.0</td>\n",
       "      <td>0.0</td>\n",
       "      <td>0.0</td>\n",
       "      <td>0.0</td>\n",
       "      <td>0.0</td>\n",
       "      <td>0.0</td>\n",
       "      <td>0.0</td>\n",
       "      <td>0.0</td>\n",
       "      <td>0.0</td>\n",
       "      <td>0.0</td>\n",
       "      <td>0.0</td>\n",
       "      <td>0.0</td>\n",
       "      <td>0.0</td>\n",
       "      <td>0.0</td>\n",
       "      <td>0.0</td>\n",
       "      <td>0.0</td>\n",
       "      <td>1.0</td>\n",
       "      <td>0.0</td>\n",
       "      <td>0.0</td>\n",
       "      <td>0.0</td>\n",
       "      <td>0.0</td>\n",
       "      <td>0.0</td>\n",
       "      <td>0.0</td>\n",
       "      <td>0.0</td>\n",
       "      <td>0.0</td>\n",
       "      <td>0.0</td>\n",
       "      <td>0.0</td>\n",
       "      <td>0.0</td>\n",
       "      <td>1.0</td>\n",
       "      <td>196.0</td>\n",
       "      <td>426.0</td>\n",
       "      <td>9852.0</td>\n",
       "      <td>0.0</td>\n",
       "      <td>0.0</td>\n",
       "    </tr>\n",
       "    <tr>\n",
       "      <th>3</th>\n",
       "      <td>0.0</td>\n",
       "      <td>0.0</td>\n",
       "      <td>0.0</td>\n",
       "      <td>0.0</td>\n",
       "      <td>1.0</td>\n",
       "      <td>0.0</td>\n",
       "      <td>0.0</td>\n",
       "      <td>0.0</td>\n",
       "      <td>0.0</td>\n",
       "      <td>0.0</td>\n",
       "      <td>0.0</td>\n",
       "      <td>0.0</td>\n",
       "      <td>0.0</td>\n",
       "      <td>0.0</td>\n",
       "      <td>1.0</td>\n",
       "      <td>0.0</td>\n",
       "      <td>0.0</td>\n",
       "      <td>0.0</td>\n",
       "      <td>0.0</td>\n",
       "      <td>0.0</td>\n",
       "      <td>0.0</td>\n",
       "      <td>0.0</td>\n",
       "      <td>1.0</td>\n",
       "      <td>0.0</td>\n",
       "      <td>0.0</td>\n",
       "      <td>0.0</td>\n",
       "      <td>0.0</td>\n",
       "      <td>0.0</td>\n",
       "      <td>0.0</td>\n",
       "      <td>0.0</td>\n",
       "      <td>0.0</td>\n",
       "      <td>0.0</td>\n",
       "      <td>0.0</td>\n",
       "      <td>0.0</td>\n",
       "      <td>0.0</td>\n",
       "      <td>0.0</td>\n",
       "      <td>0.0</td>\n",
       "      <td>0.0</td>\n",
       "      <td>0.0</td>\n",
       "      <td>0.0</td>\n",
       "      <td>0.0</td>\n",
       "      <td>1.0</td>\n",
       "      <td>0.0</td>\n",
       "      <td>0.0</td>\n",
       "      <td>0.0</td>\n",
       "      <td>0.0</td>\n",
       "      <td>0.0</td>\n",
       "      <td>0.0</td>\n",
       "      <td>0.0</td>\n",
       "      <td>1.0</td>\n",
       "      <td>0.0</td>\n",
       "      <td>0.0</td>\n",
       "      <td>0.0</td>\n",
       "      <td>0.0</td>\n",
       "      <td>110.0</td>\n",
       "      <td>2964.0</td>\n",
       "      <td>9187.0</td>\n",
       "      <td>0.0</td>\n",
       "      <td>0.0</td>\n",
       "    </tr>\n",
       "    <tr>\n",
       "      <th>4</th>\n",
       "      <td>0.0</td>\n",
       "      <td>0.0</td>\n",
       "      <td>0.0</td>\n",
       "      <td>0.0</td>\n",
       "      <td>0.0</td>\n",
       "      <td>0.0</td>\n",
       "      <td>0.0</td>\n",
       "      <td>0.0</td>\n",
       "      <td>1.0</td>\n",
       "      <td>0.0</td>\n",
       "      <td>0.0</td>\n",
       "      <td>0.0</td>\n",
       "      <td>0.0</td>\n",
       "      <td>0.0</td>\n",
       "      <td>0.0</td>\n",
       "      <td>0.0</td>\n",
       "      <td>0.0</td>\n",
       "      <td>0.0</td>\n",
       "      <td>0.0</td>\n",
       "      <td>1.0</td>\n",
       "      <td>0.0</td>\n",
       "      <td>0.0</td>\n",
       "      <td>1.0</td>\n",
       "      <td>0.0</td>\n",
       "      <td>0.0</td>\n",
       "      <td>0.0</td>\n",
       "      <td>0.0</td>\n",
       "      <td>0.0</td>\n",
       "      <td>0.0</td>\n",
       "      <td>0.0</td>\n",
       "      <td>0.0</td>\n",
       "      <td>0.0</td>\n",
       "      <td>0.0</td>\n",
       "      <td>0.0</td>\n",
       "      <td>0.0</td>\n",
       "      <td>0.0</td>\n",
       "      <td>0.0</td>\n",
       "      <td>0.0</td>\n",
       "      <td>0.0</td>\n",
       "      <td>0.0</td>\n",
       "      <td>0.0</td>\n",
       "      <td>0.0</td>\n",
       "      <td>0.0</td>\n",
       "      <td>0.0</td>\n",
       "      <td>1.0</td>\n",
       "      <td>0.0</td>\n",
       "      <td>0.0</td>\n",
       "      <td>0.0</td>\n",
       "      <td>0.0</td>\n",
       "      <td>0.0</td>\n",
       "      <td>0.0</td>\n",
       "      <td>0.0</td>\n",
       "      <td>0.0</td>\n",
       "      <td>1.0</td>\n",
       "      <td>196.0</td>\n",
       "      <td>2718.0</td>\n",
       "      <td>9852.0</td>\n",
       "      <td>0.0</td>\n",
       "      <td>0.0</td>\n",
       "    </tr>\n",
       "  </tbody>\n",
       "</table>\n",
       "</div>"
      ],
      "text/plain": [
       "    0    1    2    3    4    5    6    7    8    9    10   11   12   13   14  \\\n",
       "0  0.0  0.0  0.0  0.0  0.0  0.0  1.0  0.0  0.0  0.0  0.0  0.0  0.0  0.0  0.0   \n",
       "1  1.0  0.0  0.0  0.0  0.0  0.0  0.0  0.0  0.0  0.0  0.0  0.0  0.0  0.0  0.0   \n",
       "2  0.0  0.0  0.0  0.0  0.0  0.0  0.0  1.0  0.0  0.0  0.0  0.0  0.0  0.0  0.0   \n",
       "3  0.0  0.0  0.0  0.0  1.0  0.0  0.0  0.0  0.0  0.0  0.0  0.0  0.0  0.0  1.0   \n",
       "4  0.0  0.0  0.0  0.0  0.0  0.0  0.0  0.0  1.0  0.0  0.0  0.0  0.0  0.0  0.0   \n",
       "\n",
       "    15   16   17   18   19   20   21   22   23   24   25   26   27   28   29  \\\n",
       "0  0.0  0.0  0.0  0.0  1.0  0.0  0.0  1.0  0.0  0.0  0.0  0.0  0.0  0.0  0.0   \n",
       "1  0.0  0.0  1.0  0.0  0.0  0.0  0.0  1.0  0.0  0.0  0.0  0.0  0.0  0.0  0.0   \n",
       "2  0.0  0.0  1.0  0.0  0.0  0.0  0.0  1.0  0.0  0.0  0.0  0.0  0.0  0.0  0.0   \n",
       "3  0.0  0.0  0.0  0.0  0.0  0.0  0.0  1.0  0.0  0.0  0.0  0.0  0.0  0.0  0.0   \n",
       "4  0.0  0.0  0.0  0.0  1.0  0.0  0.0  1.0  0.0  0.0  0.0  0.0  0.0  0.0  0.0   \n",
       "\n",
       "    30   31   32   33   34   35   36   37   38   39   40   41   42   43   44  \\\n",
       "0  0.0  0.0  0.0  0.0  0.0  0.0  0.0  0.0  0.0  0.0  0.0  0.0  1.0  0.0  0.0   \n",
       "1  0.0  0.0  0.0  0.0  0.0  0.0  0.0  0.0  0.0  1.0  0.0  0.0  0.0  0.0  0.0   \n",
       "2  0.0  0.0  0.0  0.0  0.0  0.0  0.0  0.0  0.0  0.0  0.0  1.0  0.0  0.0  0.0   \n",
       "3  0.0  0.0  0.0  0.0  0.0  0.0  0.0  0.0  0.0  0.0  0.0  1.0  0.0  0.0  0.0   \n",
       "4  0.0  0.0  0.0  0.0  0.0  0.0  0.0  0.0  0.0  0.0  0.0  0.0  0.0  0.0  1.0   \n",
       "\n",
       "    45   46   47   48   49   50   51   52   53     54      55      56   57  \\\n",
       "0  0.0  0.0  0.0  0.0  0.0  0.0  1.0  0.0  0.0  148.0  2529.0  1702.0  0.0   \n",
       "1  0.0  0.0  0.0  0.0  0.0  1.0  0.0  0.0  0.0   26.0  2166.0  6916.0  0.0   \n",
       "2  0.0  0.0  0.0  0.0  0.0  0.0  0.0  0.0  1.0  196.0   426.0  9852.0  0.0   \n",
       "3  0.0  0.0  0.0  0.0  1.0  0.0  0.0  0.0  0.0  110.0  2964.0  9187.0  0.0   \n",
       "4  0.0  0.0  0.0  0.0  0.0  0.0  0.0  0.0  1.0  196.0  2718.0  9852.0  0.0   \n",
       "\n",
       "    58  \n",
       "0  0.0  \n",
       "1  0.0  \n",
       "2  0.0  \n",
       "3  0.0  \n",
       "4  0.0  "
      ]
     },
     "execution_count": 48,
     "metadata": {},
     "output_type": "execute_result"
    }
   ],
   "source": [
    "# This line will hold our column names\n",
    "columns = dict(zip(range(10), [i for i in X_train.columns]))\n",
    "\n",
    "# Imputing NaN values\n",
    "imp = SimpleImputer(strategy='constant')\n",
    "imp.fit(X_train)\n",
    "X_train_imputed = pd.DataFrame(imp.transform(X_train))\n",
    "\n",
    "# Adding the original column names back on \n",
    "X_train_imputed.rename(columns=columns, inplace=True)\n",
    "\n",
    "one_hots = ['Year', 'Month', 'Holiday Collision', 'Hour', 'Borough']\n",
    "ordinals = ['Zip Code', 'Street', 'Cross Street', 'Factor 1', 'Vehicle Type']\n",
    "\n",
    "ct = ColumnTransformer([\n",
    "    ('ohe', OneHotEncoder(handle_unknown='ignore', sparse=False), one_hots),\n",
    "    ('ord', OrdinalEncoder(), ordinals)\n",
    "])\n",
    "\n",
    "\n",
    "X_train_encoded =  pd.DataFrame(ct.fit_transform(X_train_imputed))\n",
    "X_train_encoded.head()"
   ]
  },
  {
   "cell_type": "markdown",
   "metadata": {},
   "source": [
    "## 4. Modeling \n",
    "\n",
    "### 4.1 Dummy Model "
   ]
  },
  {
   "cell_type": "code",
   "execution_count": 33,
   "metadata": {
    "scrolled": true
   },
   "outputs": [
    {
     "name": "stdout",
     "output_type": "stream",
     "text": [
      "The dummy model has an accuracy of 0.9959950708564387\n",
      "The dummy model has a recall of 0.0\n"
     ]
    },
    {
     "data": {
      "image/png": "[encoded data removed]",
      "text/plain": [
       "<Figure size 432x288 with 2 Axes>"
      ]
     },
     "metadata": {
      "needs_background": "light"
     },
     "output_type": "display_data"
    }
   ],
   "source": [
    "# Instantiating our Dummy Model and fitting it to our training data\n",
    "clf_1 = DummyClassifier(strategy='most_frequent')\n",
    "clf_1.fit(X_train, y_train)\n",
    "dummy_pred = clf_1.predict(X_hold)\n",
    "\n",
    "# Looking at the confusion matrix\n",
    "plot_confusion_matrix(clf_1, X_hold, y_hold)\n",
    "\n",
    "# Looking at accuracy \n",
    "print(f'The dummy model has an accuracy of {accuracy_score(y_hold, dummy_pred)}')\n",
    "\n",
    "# But what about recall \n",
    "print(f'The dummy model has a recall of {recall_score(y_hold, dummy_pred)}') "
   ]
  },
  {
   "cell_type": "markdown",
   "metadata": {},
   "source": [
    "### 4.2 Baseline Model - Basic Logistic Regression \n",
    "\n",
    "   This will serve as our baseline model to compare the performance of our later model iterations to. "
   ]
  },
  {
   "cell_type": "code",
   "execution_count": 34,
   "metadata": {
    "scrolled": false
   },
   "outputs": [
    {
     "data": {
      "text/plain": [
       "array([0., 0., 0., 0., 0.])"
      ]
     },
     "execution_count": 34,
     "metadata": {},
     "output_type": "execute_result"
    }
   ],
   "source": [
    "clf_2 = LogisticRegression(random_state=seed)\n",
    "clf_2.fit(X_train_encoded, y_train)\n",
    "cross_val_score(clf_2, X_train_encoded, y_train, scoring='recall')"
   ]
  },
  {
   "cell_type": "markdown",
   "metadata": {},
   "source": [
    "Lets try a grid search and see if that helps. "
   ]
  },
  {
   "cell_type": "code",
   "execution_count": 35,
   "metadata": {
    "scrolled": true
   },
   "outputs": [
    {
     "name": "stdout",
     "output_type": "stream",
     "text": [
      "[0.51612903 0.4516129  0.73333333 0.43333333 0.53333333]\n"
     ]
    },
    {
     "data": {
      "text/plain": [
       "<sklearn.metrics._plot.confusion_matrix.ConfusionMatrixDisplay at 0x7fd4ea53f5b0>"
      ]
     },
     "execution_count": 35,
     "metadata": {},
     "output_type": "execute_result"
    },
    {
     "data": {
      "image/png": "[encoded data removed]",
      "text/plain": [
       "<Figure size 432x288 with 2 Axes>"
      ]
     },
     "metadata": {
      "needs_background": "light"
     },
     "output_type": "display_data"
    }
   ],
   "source": [
    "pg2 = {'tol' : [1e-4, 1e-5, 1e-6, 1e-7],\n",
    "       'C' : [.1, .01, .001],\n",
    "       'class_weight' : ['balanced'],\n",
    "       'max_iter': [100000]}\n",
    "\n",
    "# The grid search is commented out to reduce notebook runtime, best parameters are input into best_logreg\n",
    "\n",
    "# tuned_logreg = GridSearchCV(clf_2, pg2, cv=5)\n",
    "# tuned_logreg.fit(X_train_encoded, y_train)\n",
    "# tuned_logreg.best_estimator_\n",
    "\n",
    "tuned_logreg = LogisticRegression(random_state=seed, C=0.1,\n",
    "                                  class_weight='balanced', max_iter=1000000)\n",
    "\n",
    "print(cross_val_score(tuned_logreg, X_train_encoded, y_train, scoring='recall'))\n",
    "\n",
    "tuned_logreg.fit(X_train_encoded, y_train)\n",
    "plot_confusion_matrix(tuned_logreg, X_train_encoded, y_train)"
   ]
  },
  {
   "cell_type": "markdown",
   "metadata": {},
   "source": [
    "### 4.3 K-Nearest Neighbors Model"
   ]
  },
  {
   "cell_type": "code",
   "execution_count": 36,
   "metadata": {
    "scrolled": false
   },
   "outputs": [
    {
     "data": {
      "text/plain": [
       "<sklearn.metrics._plot.confusion_matrix.ConfusionMatrixDisplay at 0x7fd4c9ca7640>"
      ]
     },
     "execution_count": 36,
     "metadata": {},
     "output_type": "execute_result"
    },
    {
     "data": {
      "image/png": "[encoded data removed]",
      "text/plain": [
       "<Figure size 432x288 with 2 Axes>"
      ]
     },
     "metadata": {
      "needs_background": "light"
     },
     "output_type": "display_data"
    }
   ],
   "source": [
    "clf_3 = KNeighborsClassifier()\n",
    "clf_3.fit(X_train_encoded, y_train)\n",
    "cross_val_score"
   ]
  },
  {
   "cell_type": "code",
   "execution_count": 49,
   "metadata": {},
   "outputs": [
    {
     "data": {
      "text/plain": [
       "array([0.03225806, 0.03225806, 0.06666667, 0.        , 0.06666667])"
      ]
     },
     "execution_count": 49,
     "metadata": {},
     "output_type": "execute_result"
    }
   ],
   "source": [
    "pg3 = {'n_neighbors': [1, 2, 3, 5],\n",
    "       'weights': ['uniform', 'distance'],\n",
    "       'leaf_size': [ 50, 40, 30, 20]}\n",
    "\n",
    "# The grid search is commented out to reduce notebook runtime, best parameters are input into tuned_knn\n",
    "\n",
    "# knn = GridSearchCV(clf_3, pg3, cv=5, scoring='accuracy')\n",
    "# knn.fit(X_train_encoded, y_train)\n",
    "\n",
    "tuned_knn = KNeighborsClassifier(n_neighbors = 1, leaf_size=5, weights='distance')\n",
    "tuned_knn.fit(X_train_encoded, y_train)\n",
    "\n",
    "cross_val_score(tuned_knn, X_train_encoded, y_train, scoring='recall')"
   ]
  },
  {
   "cell_type": "markdown",
   "metadata": {},
   "source": [
    "### 4.4 Naive Bayes Model"
   ]
  },
  {
   "cell_type": "code",
   "execution_count": 40,
   "metadata": {},
   "outputs": [
    {
     "ename": "ValueError",
     "evalue": "could not convert string to float: 'QUEENS'",
     "output_type": "error",
     "traceback": [
      "\u001b[0;31m---------------------------------------------------------------------------\u001b[0m",
      "\u001b[0;31mValueError\u001b[0m                                Traceback (most recent call last)",
      "\u001b[0;32m<ipython-input-40-149f0683267d>\u001b[0m in \u001b[0;36m<module>\u001b[0;34m\u001b[0m\n\u001b[1;32m      1\u001b[0m \u001b[0mclf_4\u001b[0m \u001b[0;34m=\u001b[0m \u001b[0mGaussianNB\u001b[0m\u001b[0;34m(\u001b[0m\u001b[0;34m)\u001b[0m\u001b[0;34m\u001b[0m\u001b[0;34m\u001b[0m\u001b[0m\n\u001b[0;32m----> 2\u001b[0;31m \u001b[0mclf_4\u001b[0m\u001b[0;34m.\u001b[0m\u001b[0mfit\u001b[0m\u001b[0;34m(\u001b[0m\u001b[0mX_train\u001b[0m\u001b[0;34m,\u001b[0m \u001b[0my_train\u001b[0m\u001b[0;34m)\u001b[0m\u001b[0;34m\u001b[0m\u001b[0;34m\u001b[0m\u001b[0m\n\u001b[0m\u001b[1;32m      3\u001b[0m \u001b[0mplot_confusion_matrix\u001b[0m\u001b[0;34m(\u001b[0m\u001b[0mclf_4\u001b[0m\u001b[0;34m,\u001b[0m \u001b[0mX_train\u001b[0m\u001b[0;34m,\u001b[0m \u001b[0my_train\u001b[0m\u001b[0;34m)\u001b[0m\u001b[0;34m\u001b[0m\u001b[0;34m\u001b[0m\u001b[0m\n",
      "\u001b[0;32m~/opt/anaconda3/envs/learn-env/lib/python3.8/site-packages/sklearn/naive_bayes.py\u001b[0m in \u001b[0;36mfit\u001b[0;34m(self, X, y, sample_weight)\u001b[0m\n\u001b[1;32m    208\u001b[0m         \u001b[0mself\u001b[0m \u001b[0;34m:\u001b[0m \u001b[0mobject\u001b[0m\u001b[0;34m\u001b[0m\u001b[0;34m\u001b[0m\u001b[0m\n\u001b[1;32m    209\u001b[0m         \"\"\"\n\u001b[0;32m--> 210\u001b[0;31m         \u001b[0mX\u001b[0m\u001b[0;34m,\u001b[0m \u001b[0my\u001b[0m \u001b[0;34m=\u001b[0m \u001b[0mself\u001b[0m\u001b[0;34m.\u001b[0m\u001b[0m_validate_data\u001b[0m\u001b[0;34m(\u001b[0m\u001b[0mX\u001b[0m\u001b[0;34m,\u001b[0m \u001b[0my\u001b[0m\u001b[0;34m)\u001b[0m\u001b[0;34m\u001b[0m\u001b[0;34m\u001b[0m\u001b[0m\n\u001b[0m\u001b[1;32m    211\u001b[0m         \u001b[0my\u001b[0m \u001b[0;34m=\u001b[0m \u001b[0mcolumn_or_1d\u001b[0m\u001b[0;34m(\u001b[0m\u001b[0my\u001b[0m\u001b[0;34m,\u001b[0m \u001b[0mwarn\u001b[0m\u001b[0;34m=\u001b[0m\u001b[0;32mTrue\u001b[0m\u001b[0;34m)\u001b[0m\u001b[0;34m\u001b[0m\u001b[0;34m\u001b[0m\u001b[0m\n\u001b[1;32m    212\u001b[0m         return self._partial_fit(X, y, np.unique(y), _refit=True,\n",
      "\u001b[0;32m~/opt/anaconda3/envs/learn-env/lib/python3.8/site-packages/sklearn/base.py\u001b[0m in \u001b[0;36m_validate_data\u001b[0;34m(self, X, y, reset, validate_separately, **check_params)\u001b[0m\n\u001b[1;32m    430\u001b[0m                 \u001b[0my\u001b[0m \u001b[0;34m=\u001b[0m \u001b[0mcheck_array\u001b[0m\u001b[0;34m(\u001b[0m\u001b[0my\u001b[0m\u001b[0;34m,\u001b[0m \u001b[0;34m**\u001b[0m\u001b[0mcheck_y_params\u001b[0m\u001b[0;34m)\u001b[0m\u001b[0;34m\u001b[0m\u001b[0;34m\u001b[0m\u001b[0m\n\u001b[1;32m    431\u001b[0m             \u001b[0;32melse\u001b[0m\u001b[0;34m:\u001b[0m\u001b[0;34m\u001b[0m\u001b[0;34m\u001b[0m\u001b[0m\n\u001b[0;32m--> 432\u001b[0;31m                 \u001b[0mX\u001b[0m\u001b[0;34m,\u001b[0m \u001b[0my\u001b[0m \u001b[0;34m=\u001b[0m \u001b[0mcheck_X_y\u001b[0m\u001b[0;34m(\u001b[0m\u001b[0mX\u001b[0m\u001b[0;34m,\u001b[0m \u001b[0my\u001b[0m\u001b[0;34m,\u001b[0m \u001b[0;34m**\u001b[0m\u001b[0mcheck_params\u001b[0m\u001b[0;34m)\u001b[0m\u001b[0;34m\u001b[0m\u001b[0;34m\u001b[0m\u001b[0m\n\u001b[0m\u001b[1;32m    433\u001b[0m             \u001b[0mout\u001b[0m \u001b[0;34m=\u001b[0m \u001b[0mX\u001b[0m\u001b[0;34m,\u001b[0m \u001b[0my\u001b[0m\u001b[0;34m\u001b[0m\u001b[0;34m\u001b[0m\u001b[0m\n\u001b[1;32m    434\u001b[0m \u001b[0;34m\u001b[0m\u001b[0m\n",
      "\u001b[0;32m~/opt/anaconda3/envs/learn-env/lib/python3.8/site-packages/sklearn/utils/validation.py\u001b[0m in \u001b[0;36minner_f\u001b[0;34m(*args, **kwargs)\u001b[0m\n\u001b[1;32m     70\u001b[0m                           FutureWarning)\n\u001b[1;32m     71\u001b[0m         \u001b[0mkwargs\u001b[0m\u001b[0;34m.\u001b[0m\u001b[0mupdate\u001b[0m\u001b[0;34m(\u001b[0m\u001b[0;34m{\u001b[0m\u001b[0mk\u001b[0m\u001b[0;34m:\u001b[0m \u001b[0marg\u001b[0m \u001b[0;32mfor\u001b[0m \u001b[0mk\u001b[0m\u001b[0;34m,\u001b[0m \u001b[0marg\u001b[0m \u001b[0;32min\u001b[0m \u001b[0mzip\u001b[0m\u001b[0;34m(\u001b[0m\u001b[0msig\u001b[0m\u001b[0;34m.\u001b[0m\u001b[0mparameters\u001b[0m\u001b[0;34m,\u001b[0m \u001b[0margs\u001b[0m\u001b[0;34m)\u001b[0m\u001b[0;34m}\u001b[0m\u001b[0;34m)\u001b[0m\u001b[0;34m\u001b[0m\u001b[0;34m\u001b[0m\u001b[0m\n\u001b[0;32m---> 72\u001b[0;31m         \u001b[0;32mreturn\u001b[0m \u001b[0mf\u001b[0m\u001b[0;34m(\u001b[0m\u001b[0;34m**\u001b[0m\u001b[0mkwargs\u001b[0m\u001b[0;34m)\u001b[0m\u001b[0;34m\u001b[0m\u001b[0;34m\u001b[0m\u001b[0m\n\u001b[0m\u001b[1;32m     73\u001b[0m     \u001b[0;32mreturn\u001b[0m \u001b[0minner_f\u001b[0m\u001b[0;34m\u001b[0m\u001b[0;34m\u001b[0m\u001b[0m\n\u001b[1;32m     74\u001b[0m \u001b[0;34m\u001b[0m\u001b[0m\n",
      "\u001b[0;32m~/opt/anaconda3/envs/learn-env/lib/python3.8/site-packages/sklearn/utils/validation.py\u001b[0m in \u001b[0;36mcheck_X_y\u001b[0;34m(X, y, accept_sparse, accept_large_sparse, dtype, order, copy, force_all_finite, ensure_2d, allow_nd, multi_output, ensure_min_samples, ensure_min_features, y_numeric, estimator)\u001b[0m\n\u001b[1;32m    793\u001b[0m         \u001b[0;32mraise\u001b[0m \u001b[0mValueError\u001b[0m\u001b[0;34m(\u001b[0m\u001b[0;34m\"y cannot be None\"\u001b[0m\u001b[0;34m)\u001b[0m\u001b[0;34m\u001b[0m\u001b[0;34m\u001b[0m\u001b[0m\n\u001b[1;32m    794\u001b[0m \u001b[0;34m\u001b[0m\u001b[0m\n\u001b[0;32m--> 795\u001b[0;31m     X = check_array(X, accept_sparse=accept_sparse,\n\u001b[0m\u001b[1;32m    796\u001b[0m                     \u001b[0maccept_large_sparse\u001b[0m\u001b[0;34m=\u001b[0m\u001b[0maccept_large_sparse\u001b[0m\u001b[0;34m,\u001b[0m\u001b[0;34m\u001b[0m\u001b[0;34m\u001b[0m\u001b[0m\n\u001b[1;32m    797\u001b[0m                     \u001b[0mdtype\u001b[0m\u001b[0;34m=\u001b[0m\u001b[0mdtype\u001b[0m\u001b[0;34m,\u001b[0m \u001b[0morder\u001b[0m\u001b[0;34m=\u001b[0m\u001b[0morder\u001b[0m\u001b[0;34m,\u001b[0m \u001b[0mcopy\u001b[0m\u001b[0;34m=\u001b[0m\u001b[0mcopy\u001b[0m\u001b[0;34m,\u001b[0m\u001b[0;34m\u001b[0m\u001b[0;34m\u001b[0m\u001b[0m\n",
      "\u001b[0;32m~/opt/anaconda3/envs/learn-env/lib/python3.8/site-packages/sklearn/utils/validation.py\u001b[0m in \u001b[0;36minner_f\u001b[0;34m(*args, **kwargs)\u001b[0m\n\u001b[1;32m     70\u001b[0m                           FutureWarning)\n\u001b[1;32m     71\u001b[0m         \u001b[0mkwargs\u001b[0m\u001b[0;34m.\u001b[0m\u001b[0mupdate\u001b[0m\u001b[0;34m(\u001b[0m\u001b[0;34m{\u001b[0m\u001b[0mk\u001b[0m\u001b[0;34m:\u001b[0m \u001b[0marg\u001b[0m \u001b[0;32mfor\u001b[0m \u001b[0mk\u001b[0m\u001b[0;34m,\u001b[0m \u001b[0marg\u001b[0m \u001b[0;32min\u001b[0m \u001b[0mzip\u001b[0m\u001b[0;34m(\u001b[0m\u001b[0msig\u001b[0m\u001b[0;34m.\u001b[0m\u001b[0mparameters\u001b[0m\u001b[0;34m,\u001b[0m \u001b[0margs\u001b[0m\u001b[0;34m)\u001b[0m\u001b[0;34m}\u001b[0m\u001b[0;34m)\u001b[0m\u001b[0;34m\u001b[0m\u001b[0;34m\u001b[0m\u001b[0m\n\u001b[0;32m---> 72\u001b[0;31m         \u001b[0;32mreturn\u001b[0m \u001b[0mf\u001b[0m\u001b[0;34m(\u001b[0m\u001b[0;34m**\u001b[0m\u001b[0mkwargs\u001b[0m\u001b[0;34m)\u001b[0m\u001b[0;34m\u001b[0m\u001b[0;34m\u001b[0m\u001b[0m\n\u001b[0m\u001b[1;32m     73\u001b[0m     \u001b[0;32mreturn\u001b[0m \u001b[0minner_f\u001b[0m\u001b[0;34m\u001b[0m\u001b[0;34m\u001b[0m\u001b[0m\n\u001b[1;32m     74\u001b[0m \u001b[0;34m\u001b[0m\u001b[0m\n",
      "\u001b[0;32m~/opt/anaconda3/envs/learn-env/lib/python3.8/site-packages/sklearn/utils/validation.py\u001b[0m in \u001b[0;36mcheck_array\u001b[0;34m(array, accept_sparse, accept_large_sparse, dtype, order, copy, force_all_finite, ensure_2d, allow_nd, ensure_min_samples, ensure_min_features, estimator)\u001b[0m\n\u001b[1;32m    596\u001b[0m                     \u001b[0marray\u001b[0m \u001b[0;34m=\u001b[0m \u001b[0marray\u001b[0m\u001b[0;34m.\u001b[0m\u001b[0mastype\u001b[0m\u001b[0;34m(\u001b[0m\u001b[0mdtype\u001b[0m\u001b[0;34m,\u001b[0m \u001b[0mcasting\u001b[0m\u001b[0;34m=\u001b[0m\u001b[0;34m\"unsafe\"\u001b[0m\u001b[0;34m,\u001b[0m \u001b[0mcopy\u001b[0m\u001b[0;34m=\u001b[0m\u001b[0;32mFalse\u001b[0m\u001b[0;34m)\u001b[0m\u001b[0;34m\u001b[0m\u001b[0;34m\u001b[0m\u001b[0m\n\u001b[1;32m    597\u001b[0m                 \u001b[0;32melse\u001b[0m\u001b[0;34m:\u001b[0m\u001b[0;34m\u001b[0m\u001b[0;34m\u001b[0m\u001b[0m\n\u001b[0;32m--> 598\u001b[0;31m                     \u001b[0marray\u001b[0m \u001b[0;34m=\u001b[0m \u001b[0mnp\u001b[0m\u001b[0;34m.\u001b[0m\u001b[0masarray\u001b[0m\u001b[0;34m(\u001b[0m\u001b[0marray\u001b[0m\u001b[0;34m,\u001b[0m \u001b[0morder\u001b[0m\u001b[0;34m=\u001b[0m\u001b[0morder\u001b[0m\u001b[0;34m,\u001b[0m \u001b[0mdtype\u001b[0m\u001b[0;34m=\u001b[0m\u001b[0mdtype\u001b[0m\u001b[0;34m)\u001b[0m\u001b[0;34m\u001b[0m\u001b[0;34m\u001b[0m\u001b[0m\n\u001b[0m\u001b[1;32m    599\u001b[0m             \u001b[0;32mexcept\u001b[0m \u001b[0mComplexWarning\u001b[0m\u001b[0;34m:\u001b[0m\u001b[0;34m\u001b[0m\u001b[0;34m\u001b[0m\u001b[0m\n\u001b[1;32m    600\u001b[0m                 raise ValueError(\"Complex data not supported\\n\"\n",
      "\u001b[0;32m~/opt/anaconda3/envs/learn-env/lib/python3.8/site-packages/numpy/core/_asarray.py\u001b[0m in \u001b[0;36masarray\u001b[0;34m(a, dtype, order)\u001b[0m\n\u001b[1;32m     83\u001b[0m \u001b[0;34m\u001b[0m\u001b[0m\n\u001b[1;32m     84\u001b[0m     \"\"\"\n\u001b[0;32m---> 85\u001b[0;31m     \u001b[0;32mreturn\u001b[0m \u001b[0marray\u001b[0m\u001b[0;34m(\u001b[0m\u001b[0ma\u001b[0m\u001b[0;34m,\u001b[0m \u001b[0mdtype\u001b[0m\u001b[0;34m,\u001b[0m \u001b[0mcopy\u001b[0m\u001b[0;34m=\u001b[0m\u001b[0;32mFalse\u001b[0m\u001b[0;34m,\u001b[0m \u001b[0morder\u001b[0m\u001b[0;34m=\u001b[0m\u001b[0morder\u001b[0m\u001b[0;34m)\u001b[0m\u001b[0;34m\u001b[0m\u001b[0;34m\u001b[0m\u001b[0m\n\u001b[0m\u001b[1;32m     86\u001b[0m \u001b[0;34m\u001b[0m\u001b[0m\n\u001b[1;32m     87\u001b[0m \u001b[0;34m\u001b[0m\u001b[0m\n",
      "\u001b[0;32m~/opt/anaconda3/envs/learn-env/lib/python3.8/site-packages/pandas/core/generic.py\u001b[0m in \u001b[0;36m__array__\u001b[0;34m(self, dtype)\u001b[0m\n\u001b[1;32m   1779\u001b[0m \u001b[0;34m\u001b[0m\u001b[0m\n\u001b[1;32m   1780\u001b[0m     \u001b[0;32mdef\u001b[0m \u001b[0m__array__\u001b[0m\u001b[0;34m(\u001b[0m\u001b[0mself\u001b[0m\u001b[0;34m,\u001b[0m \u001b[0mdtype\u001b[0m\u001b[0;34m=\u001b[0m\u001b[0;32mNone\u001b[0m\u001b[0;34m)\u001b[0m \u001b[0;34m->\u001b[0m \u001b[0mnp\u001b[0m\u001b[0;34m.\u001b[0m\u001b[0mndarray\u001b[0m\u001b[0;34m:\u001b[0m\u001b[0;34m\u001b[0m\u001b[0;34m\u001b[0m\u001b[0m\n\u001b[0;32m-> 1781\u001b[0;31m         \u001b[0;32mreturn\u001b[0m \u001b[0mnp\u001b[0m\u001b[0;34m.\u001b[0m\u001b[0masarray\u001b[0m\u001b[0;34m(\u001b[0m\u001b[0mself\u001b[0m\u001b[0;34m.\u001b[0m\u001b[0m_values\u001b[0m\u001b[0;34m,\u001b[0m \u001b[0mdtype\u001b[0m\u001b[0;34m=\u001b[0m\u001b[0mdtype\u001b[0m\u001b[0;34m)\u001b[0m\u001b[0;34m\u001b[0m\u001b[0;34m\u001b[0m\u001b[0m\n\u001b[0m\u001b[1;32m   1782\u001b[0m \u001b[0;34m\u001b[0m\u001b[0m\n\u001b[1;32m   1783\u001b[0m     \u001b[0;32mdef\u001b[0m \u001b[0m__array_wrap__\u001b[0m\u001b[0;34m(\u001b[0m\u001b[0mself\u001b[0m\u001b[0;34m,\u001b[0m \u001b[0mresult\u001b[0m\u001b[0;34m,\u001b[0m \u001b[0mcontext\u001b[0m\u001b[0;34m=\u001b[0m\u001b[0;32mNone\u001b[0m\u001b[0;34m)\u001b[0m\u001b[0;34m:\u001b[0m\u001b[0;34m\u001b[0m\u001b[0;34m\u001b[0m\u001b[0m\n",
      "\u001b[0;32m~/opt/anaconda3/envs/learn-env/lib/python3.8/site-packages/numpy/core/_asarray.py\u001b[0m in \u001b[0;36masarray\u001b[0;34m(a, dtype, order)\u001b[0m\n\u001b[1;32m     83\u001b[0m \u001b[0;34m\u001b[0m\u001b[0m\n\u001b[1;32m     84\u001b[0m     \"\"\"\n\u001b[0;32m---> 85\u001b[0;31m     \u001b[0;32mreturn\u001b[0m \u001b[0marray\u001b[0m\u001b[0;34m(\u001b[0m\u001b[0ma\u001b[0m\u001b[0;34m,\u001b[0m \u001b[0mdtype\u001b[0m\u001b[0;34m,\u001b[0m \u001b[0mcopy\u001b[0m\u001b[0;34m=\u001b[0m\u001b[0;32mFalse\u001b[0m\u001b[0;34m,\u001b[0m \u001b[0morder\u001b[0m\u001b[0;34m=\u001b[0m\u001b[0morder\u001b[0m\u001b[0;34m)\u001b[0m\u001b[0;34m\u001b[0m\u001b[0;34m\u001b[0m\u001b[0m\n\u001b[0m\u001b[1;32m     86\u001b[0m \u001b[0;34m\u001b[0m\u001b[0m\n\u001b[1;32m     87\u001b[0m \u001b[0;34m\u001b[0m\u001b[0m\n",
      "\u001b[0;31mValueError\u001b[0m: could not convert string to float: 'QUEENS'"
     ]
    }
   ],
   "source": [
    "#clf_4 = GaussianNB()\n",
    "#clf_4.fit(X_train, y_train)\n",
    "#plot_confusion_matrix(clf_4, X_train, y_train)"
   ]
  },
  {
   "cell_type": "markdown",
   "metadata": {},
   "source": [
    "### 4.5 Decision Tree"
   ]
  },
  {
   "cell_type": "code",
   "execution_count": null,
   "metadata": {},
   "outputs": [],
   "source": [
    "clf_5 = DecisionTreeClassifier(random_state=seed)\n",
    "clf_5.fit(X_train, y_train)\n",
    "cross_val_score(clf_5, X_train, y_train)"
   ]
  },
  {
   "cell_type": "markdown",
   "metadata": {},
   "source": [
    "### 4.6 Random Forest"
   ]
  },
  {
   "cell_type": "code",
   "execution_count": null,
   "metadata": {},
   "outputs": [],
   "source": [
    "clf_6 = RandomForestClassifier()"
   ]
  },
  {
   "cell_type": "markdown",
   "metadata": {},
   "source": [
    "### 4.7"
   ]
  },
  {
   "cell_type": "code",
   "execution_count": null,
   "metadata": {},
   "outputs": [],
   "source": []
  },
  {
   "cell_type": "code",
   "execution_count": null,
   "metadata": {},
   "outputs": [],
   "source": []
  }
 ],
 "metadata": {
  "kernelspec": {
   "display_name": "Python (learn-env)",
   "language": "python",
   "name": "learn-env"
  },
  "language_info": {
   "codemirror_mode": {
    "name": "ipython",
    "version": 3
   },
   "file_extension": ".py",
   "mimetype": "text/x-python",
   "name": "python",
   "nbconvert_exporter": "python",
   "pygments_lexer": "ipython3",
   "version": "3.8.5"
  }
 },
 "nbformat": 4,
 "nbformat_minor": 4
}
